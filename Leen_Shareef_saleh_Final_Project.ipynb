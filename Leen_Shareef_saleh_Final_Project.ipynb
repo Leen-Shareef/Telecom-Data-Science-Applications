{
  "nbformat": 4,
  "nbformat_minor": 0,
  "metadata": {
    "colab": {
      "provenance": []
    },
    "kernelspec": {
      "name": "python3",
      "display_name": "Python 3"
    },
    "language_info": {
      "name": "python"
    }
  },
  "cells": [
    {
      "cell_type": "markdown",
      "source": [
        "# importing laibraries and loading dataset\n"
      ],
      "metadata": {
        "id": "udLB9bq-dRpM"
      }
    },
    {
      "cell_type": "code",
      "execution_count": 1,
      "metadata": {
        "id": "FGgMy_UBdNbD"
      },
      "outputs": [],
      "source": [
        "import pandas as pd\n",
        "import numpy as np\n",
        "from sklearn.preprocessing import LabelEncoder\n",
        "import seaborn as sns\n",
        "import matplotlib.pyplot as plt\n",
        "from sklearn.model_selection import train_test_split\n",
        "from sklearn.neighbors import KNeighborsClassifier\n",
        "from sklearn.metrics import accuracy_score,precision_score, recall_score, f1_score"
      ]
    },
    {
      "cell_type": "code",
      "source": [
        "df = pd.read_csv(\"/content/actiavation_Aug_Oct2023.csv\")"
      ],
      "metadata": {
        "id": "kEFyJqzNdef5"
      },
      "execution_count": 2,
      "outputs": []
    },
    {
      "cell_type": "code",
      "source": [
        "df.head()"
      ],
      "metadata": {
        "colab": {
          "base_uri": "https://localhost:8080/",
          "height": 451
        },
        "id": "8aD3CeZnDyQw",
        "outputId": "9dc3f66e-85b5-45f3-a8f7-7f18eef29d61"
      },
      "execution_count": 3,
      "outputs": [
        {
          "output_type": "execute_result",
          "data": {
            "text/plain": [
              "      CO_ID       USER_CREATED_BY     MSISDN POS_MSISDN  \\\n",
              "0  31154967              BJNN1810  891476116    ORG3448   \n",
              "1  31719208  TTP.PNBR.BLTHBLHBNBF  891433210        NaN   \n",
              "2  30566993              BJNN1810  882740023        NaN   \n",
              "3  31654015              DPNB1876  529853159        NaN   \n",
              "4  31237322              DPNB1876  883224490        NaN   \n",
              "\n",
              "                                         DISTRIBUTER              Plan_Name  \\\n",
              "0  BL-NVTBTBXFRB BL-LB NVTBNBHFZB (LJNJTLFTT JNTF...      Basic Orange Plan   \n",
              "1                                         FJFLDTBLFT        Governorates 10   \n",
              "2                     FRBNDHJTF - TBFFXBZ 7TH DJRDLF  Family Orange Plan 10   \n",
              "3                             FNTFRPRJTF TBLFT TTPDL              Orange 90   \n",
              "4                             FNTFRPRJTF TBLFT TTPDL              Orange 60   \n",
              "\n",
              "  ACTIVE_DATE DEACTIVE_DATE  Customer Tenure Tenure Category          STATUS  \\\n",
              "0  2023-10-05           NaN               88             NaN  Hard Suspended   \n",
              "1  2023-09-28           NaN               95     Medium-term          Active   \n",
              "2  2023-09-19           NaN              104     Medium-term          Active   \n",
              "3  2023-09-13    2023-10-22               39      Short-term        Deactive   \n",
              "4  2023-08-10    2023-08-28               18      Short-term        Deactive   \n",
              "\n",
              "        Status Reason  SEGMENT1     SEGMENT2  Churn Flag  \\\n",
              "0  Violation of terms   Prepaid  Residential           1   \n",
              "1                 NaN  Postpaid          PRO           1   \n",
              "2                 NaN   Prepaid          PRO           1   \n",
              "3     Service Quality  Postpaid    Corporate           1   \n",
              "4       Lack of Usage  Postpaid    Corporate           1   \n",
              "\n",
              "   Customer Interaction Score  Loyalty Points Data Usage Tier  \\\n",
              "0                           3              48             Low   \n",
              "1                           7              65            High   \n",
              "2                           6              65          Medium   \n",
              "3                           9              73             NaN   \n",
              "4                           5              10             NaN   \n",
              "\n",
              "   Customer Segment Change Flag  \n",
              "0                             1  \n",
              "1                             1  \n",
              "2                             1  \n",
              "3                             1  \n",
              "4                             1  "
            ],
            "text/html": [
              "\n",
              "  <div id=\"df-b6e736aa-b568-4efe-a765-f1d8903f66ff\" class=\"colab-df-container\">\n",
              "    <div>\n",
              "<style scoped>\n",
              "    .dataframe tbody tr th:only-of-type {\n",
              "        vertical-align: middle;\n",
              "    }\n",
              "\n",
              "    .dataframe tbody tr th {\n",
              "        vertical-align: top;\n",
              "    }\n",
              "\n",
              "    .dataframe thead th {\n",
              "        text-align: right;\n",
              "    }\n",
              "</style>\n",
              "<table border=\"1\" class=\"dataframe\">\n",
              "  <thead>\n",
              "    <tr style=\"text-align: right;\">\n",
              "      <th></th>\n",
              "      <th>CO_ID</th>\n",
              "      <th>USER_CREATED_BY</th>\n",
              "      <th>MSISDN</th>\n",
              "      <th>POS_MSISDN</th>\n",
              "      <th>DISTRIBUTER</th>\n",
              "      <th>Plan_Name</th>\n",
              "      <th>ACTIVE_DATE</th>\n",
              "      <th>DEACTIVE_DATE</th>\n",
              "      <th>Customer Tenure</th>\n",
              "      <th>Tenure Category</th>\n",
              "      <th>STATUS</th>\n",
              "      <th>Status Reason</th>\n",
              "      <th>SEGMENT1</th>\n",
              "      <th>SEGMENT2</th>\n",
              "      <th>Churn Flag</th>\n",
              "      <th>Customer Interaction Score</th>\n",
              "      <th>Loyalty Points</th>\n",
              "      <th>Data Usage Tier</th>\n",
              "      <th>Customer Segment Change Flag</th>\n",
              "    </tr>\n",
              "  </thead>\n",
              "  <tbody>\n",
              "    <tr>\n",
              "      <th>0</th>\n",
              "      <td>31154967</td>\n",
              "      <td>BJNN1810</td>\n",
              "      <td>891476116</td>\n",
              "      <td>ORG3448</td>\n",
              "      <td>BL-NVTBTBXFRB BL-LB NVTBNBHFZB (LJNJTLFTT JNTF...</td>\n",
              "      <td>Basic Orange Plan</td>\n",
              "      <td>2023-10-05</td>\n",
              "      <td>NaN</td>\n",
              "      <td>88</td>\n",
              "      <td>NaN</td>\n",
              "      <td>Hard Suspended</td>\n",
              "      <td>Violation of terms</td>\n",
              "      <td>Prepaid</td>\n",
              "      <td>Residential</td>\n",
              "      <td>1</td>\n",
              "      <td>3</td>\n",
              "      <td>48</td>\n",
              "      <td>Low</td>\n",
              "      <td>1</td>\n",
              "    </tr>\n",
              "    <tr>\n",
              "      <th>1</th>\n",
              "      <td>31719208</td>\n",
              "      <td>TTP.PNBR.BLTHBLHBNBF</td>\n",
              "      <td>891433210</td>\n",
              "      <td>NaN</td>\n",
              "      <td>FJFLDTBLFT</td>\n",
              "      <td>Governorates 10</td>\n",
              "      <td>2023-09-28</td>\n",
              "      <td>NaN</td>\n",
              "      <td>95</td>\n",
              "      <td>Medium-term</td>\n",
              "      <td>Active</td>\n",
              "      <td>NaN</td>\n",
              "      <td>Postpaid</td>\n",
              "      <td>PRO</td>\n",
              "      <td>1</td>\n",
              "      <td>7</td>\n",
              "      <td>65</td>\n",
              "      <td>High</td>\n",
              "      <td>1</td>\n",
              "    </tr>\n",
              "    <tr>\n",
              "      <th>2</th>\n",
              "      <td>30566993</td>\n",
              "      <td>BJNN1810</td>\n",
              "      <td>882740023</td>\n",
              "      <td>NaN</td>\n",
              "      <td>FRBNDHJTF - TBFFXBZ 7TH DJRDLF</td>\n",
              "      <td>Family Orange Plan 10</td>\n",
              "      <td>2023-09-19</td>\n",
              "      <td>NaN</td>\n",
              "      <td>104</td>\n",
              "      <td>Medium-term</td>\n",
              "      <td>Active</td>\n",
              "      <td>NaN</td>\n",
              "      <td>Prepaid</td>\n",
              "      <td>PRO</td>\n",
              "      <td>1</td>\n",
              "      <td>6</td>\n",
              "      <td>65</td>\n",
              "      <td>Medium</td>\n",
              "      <td>1</td>\n",
              "    </tr>\n",
              "    <tr>\n",
              "      <th>3</th>\n",
              "      <td>31654015</td>\n",
              "      <td>DPNB1876</td>\n",
              "      <td>529853159</td>\n",
              "      <td>NaN</td>\n",
              "      <td>FNTFRPRJTF TBLFT TTPDL</td>\n",
              "      <td>Orange 90</td>\n",
              "      <td>2023-09-13</td>\n",
              "      <td>2023-10-22</td>\n",
              "      <td>39</td>\n",
              "      <td>Short-term</td>\n",
              "      <td>Deactive</td>\n",
              "      <td>Service Quality</td>\n",
              "      <td>Postpaid</td>\n",
              "      <td>Corporate</td>\n",
              "      <td>1</td>\n",
              "      <td>9</td>\n",
              "      <td>73</td>\n",
              "      <td>NaN</td>\n",
              "      <td>1</td>\n",
              "    </tr>\n",
              "    <tr>\n",
              "      <th>4</th>\n",
              "      <td>31237322</td>\n",
              "      <td>DPNB1876</td>\n",
              "      <td>883224490</td>\n",
              "      <td>NaN</td>\n",
              "      <td>FNTFRPRJTF TBLFT TTPDL</td>\n",
              "      <td>Orange 60</td>\n",
              "      <td>2023-08-10</td>\n",
              "      <td>2023-08-28</td>\n",
              "      <td>18</td>\n",
              "      <td>Short-term</td>\n",
              "      <td>Deactive</td>\n",
              "      <td>Lack of Usage</td>\n",
              "      <td>Postpaid</td>\n",
              "      <td>Corporate</td>\n",
              "      <td>1</td>\n",
              "      <td>5</td>\n",
              "      <td>10</td>\n",
              "      <td>NaN</td>\n",
              "      <td>1</td>\n",
              "    </tr>\n",
              "  </tbody>\n",
              "</table>\n",
              "</div>\n",
              "    <div class=\"colab-df-buttons\">\n",
              "\n",
              "  <div class=\"colab-df-container\">\n",
              "    <button class=\"colab-df-convert\" onclick=\"convertToInteractive('df-b6e736aa-b568-4efe-a765-f1d8903f66ff')\"\n",
              "            title=\"Convert this dataframe to an interactive table.\"\n",
              "            style=\"display:none;\">\n",
              "\n",
              "  <svg xmlns=\"http://www.w3.org/2000/svg\" height=\"24px\" viewBox=\"0 -960 960 960\">\n",
              "    <path d=\"M120-120v-720h720v720H120Zm60-500h600v-160H180v160Zm220 220h160v-160H400v160Zm0 220h160v-160H400v160ZM180-400h160v-160H180v160Zm440 0h160v-160H620v160ZM180-180h160v-160H180v160Zm440 0h160v-160H620v160Z\"/>\n",
              "  </svg>\n",
              "    </button>\n",
              "\n",
              "  <style>\n",
              "    .colab-df-container {\n",
              "      display:flex;\n",
              "      gap: 12px;\n",
              "    }\n",
              "\n",
              "    .colab-df-convert {\n",
              "      background-color: #E8F0FE;\n",
              "      border: none;\n",
              "      border-radius: 50%;\n",
              "      cursor: pointer;\n",
              "      display: none;\n",
              "      fill: #1967D2;\n",
              "      height: 32px;\n",
              "      padding: 0 0 0 0;\n",
              "      width: 32px;\n",
              "    }\n",
              "\n",
              "    .colab-df-convert:hover {\n",
              "      background-color: #E2EBFA;\n",
              "      box-shadow: 0px 1px 2px rgba(60, 64, 67, 0.3), 0px 1px 3px 1px rgba(60, 64, 67, 0.15);\n",
              "      fill: #174EA6;\n",
              "    }\n",
              "\n",
              "    .colab-df-buttons div {\n",
              "      margin-bottom: 4px;\n",
              "    }\n",
              "\n",
              "    [theme=dark] .colab-df-convert {\n",
              "      background-color: #3B4455;\n",
              "      fill: #D2E3FC;\n",
              "    }\n",
              "\n",
              "    [theme=dark] .colab-df-convert:hover {\n",
              "      background-color: #434B5C;\n",
              "      box-shadow: 0px 1px 3px 1px rgba(0, 0, 0, 0.15);\n",
              "      filter: drop-shadow(0px 1px 2px rgba(0, 0, 0, 0.3));\n",
              "      fill: #FFFFFF;\n",
              "    }\n",
              "  </style>\n",
              "\n",
              "    <script>\n",
              "      const buttonEl =\n",
              "        document.querySelector('#df-b6e736aa-b568-4efe-a765-f1d8903f66ff button.colab-df-convert');\n",
              "      buttonEl.style.display =\n",
              "        google.colab.kernel.accessAllowed ? 'block' : 'none';\n",
              "\n",
              "      async function convertToInteractive(key) {\n",
              "        const element = document.querySelector('#df-b6e736aa-b568-4efe-a765-f1d8903f66ff');\n",
              "        const dataTable =\n",
              "          await google.colab.kernel.invokeFunction('convertToInteractive',\n",
              "                                                    [key], {});\n",
              "        if (!dataTable) return;\n",
              "\n",
              "        const docLinkHtml = 'Like what you see? Visit the ' +\n",
              "          '<a target=\"_blank\" href=https://colab.research.google.com/notebooks/data_table.ipynb>data table notebook</a>'\n",
              "          + ' to learn more about interactive tables.';\n",
              "        element.innerHTML = '';\n",
              "        dataTable['output_type'] = 'display_data';\n",
              "        await google.colab.output.renderOutput(dataTable, element);\n",
              "        const docLink = document.createElement('div');\n",
              "        docLink.innerHTML = docLinkHtml;\n",
              "        element.appendChild(docLink);\n",
              "      }\n",
              "    </script>\n",
              "  </div>\n",
              "\n",
              "\n",
              "<div id=\"df-df8a5e5c-b424-407a-b06c-9c751397a594\">\n",
              "  <button class=\"colab-df-quickchart\" onclick=\"quickchart('df-df8a5e5c-b424-407a-b06c-9c751397a594')\"\n",
              "            title=\"Suggest charts\"\n",
              "            style=\"display:none;\">\n",
              "\n",
              "<svg xmlns=\"http://www.w3.org/2000/svg\" height=\"24px\"viewBox=\"0 0 24 24\"\n",
              "     width=\"24px\">\n",
              "    <g>\n",
              "        <path d=\"M19 3H5c-1.1 0-2 .9-2 2v14c0 1.1.9 2 2 2h14c1.1 0 2-.9 2-2V5c0-1.1-.9-2-2-2zM9 17H7v-7h2v7zm4 0h-2V7h2v10zm4 0h-2v-4h2v4z\"/>\n",
              "    </g>\n",
              "</svg>\n",
              "  </button>\n",
              "\n",
              "<style>\n",
              "  .colab-df-quickchart {\n",
              "      --bg-color: #E8F0FE;\n",
              "      --fill-color: #1967D2;\n",
              "      --hover-bg-color: #E2EBFA;\n",
              "      --hover-fill-color: #174EA6;\n",
              "      --disabled-fill-color: #AAA;\n",
              "      --disabled-bg-color: #DDD;\n",
              "  }\n",
              "\n",
              "  [theme=dark] .colab-df-quickchart {\n",
              "      --bg-color: #3B4455;\n",
              "      --fill-color: #D2E3FC;\n",
              "      --hover-bg-color: #434B5C;\n",
              "      --hover-fill-color: #FFFFFF;\n",
              "      --disabled-bg-color: #3B4455;\n",
              "      --disabled-fill-color: #666;\n",
              "  }\n",
              "\n",
              "  .colab-df-quickchart {\n",
              "    background-color: var(--bg-color);\n",
              "    border: none;\n",
              "    border-radius: 50%;\n",
              "    cursor: pointer;\n",
              "    display: none;\n",
              "    fill: var(--fill-color);\n",
              "    height: 32px;\n",
              "    padding: 0;\n",
              "    width: 32px;\n",
              "  }\n",
              "\n",
              "  .colab-df-quickchart:hover {\n",
              "    background-color: var(--hover-bg-color);\n",
              "    box-shadow: 0 1px 2px rgba(60, 64, 67, 0.3), 0 1px 3px 1px rgba(60, 64, 67, 0.15);\n",
              "    fill: var(--button-hover-fill-color);\n",
              "  }\n",
              "\n",
              "  .colab-df-quickchart-complete:disabled,\n",
              "  .colab-df-quickchart-complete:disabled:hover {\n",
              "    background-color: var(--disabled-bg-color);\n",
              "    fill: var(--disabled-fill-color);\n",
              "    box-shadow: none;\n",
              "  }\n",
              "\n",
              "  .colab-df-spinner {\n",
              "    border: 2px solid var(--fill-color);\n",
              "    border-color: transparent;\n",
              "    border-bottom-color: var(--fill-color);\n",
              "    animation:\n",
              "      spin 1s steps(1) infinite;\n",
              "  }\n",
              "\n",
              "  @keyframes spin {\n",
              "    0% {\n",
              "      border-color: transparent;\n",
              "      border-bottom-color: var(--fill-color);\n",
              "      border-left-color: var(--fill-color);\n",
              "    }\n",
              "    20% {\n",
              "      border-color: transparent;\n",
              "      border-left-color: var(--fill-color);\n",
              "      border-top-color: var(--fill-color);\n",
              "    }\n",
              "    30% {\n",
              "      border-color: transparent;\n",
              "      border-left-color: var(--fill-color);\n",
              "      border-top-color: var(--fill-color);\n",
              "      border-right-color: var(--fill-color);\n",
              "    }\n",
              "    40% {\n",
              "      border-color: transparent;\n",
              "      border-right-color: var(--fill-color);\n",
              "      border-top-color: var(--fill-color);\n",
              "    }\n",
              "    60% {\n",
              "      border-color: transparent;\n",
              "      border-right-color: var(--fill-color);\n",
              "    }\n",
              "    80% {\n",
              "      border-color: transparent;\n",
              "      border-right-color: var(--fill-color);\n",
              "      border-bottom-color: var(--fill-color);\n",
              "    }\n",
              "    90% {\n",
              "      border-color: transparent;\n",
              "      border-bottom-color: var(--fill-color);\n",
              "    }\n",
              "  }\n",
              "</style>\n",
              "\n",
              "  <script>\n",
              "    async function quickchart(key) {\n",
              "      const quickchartButtonEl =\n",
              "        document.querySelector('#' + key + ' button');\n",
              "      quickchartButtonEl.disabled = true;  // To prevent multiple clicks.\n",
              "      quickchartButtonEl.classList.add('colab-df-spinner');\n",
              "      try {\n",
              "        const charts = await google.colab.kernel.invokeFunction(\n",
              "            'suggestCharts', [key], {});\n",
              "      } catch (error) {\n",
              "        console.error('Error during call to suggestCharts:', error);\n",
              "      }\n",
              "      quickchartButtonEl.classList.remove('colab-df-spinner');\n",
              "      quickchartButtonEl.classList.add('colab-df-quickchart-complete');\n",
              "    }\n",
              "    (() => {\n",
              "      let quickchartButtonEl =\n",
              "        document.querySelector('#df-df8a5e5c-b424-407a-b06c-9c751397a594 button');\n",
              "      quickchartButtonEl.style.display =\n",
              "        google.colab.kernel.accessAllowed ? 'block' : 'none';\n",
              "    })();\n",
              "  </script>\n",
              "</div>\n",
              "\n",
              "    </div>\n",
              "  </div>\n"
            ]
          },
          "metadata": {},
          "execution_count": 3
        }
      ]
    },
    {
      "cell_type": "markdown",
      "source": [
        "# cleaning data + converting to numerical data"
      ],
      "metadata": {
        "id": "u8upno03dsDh"
      }
    },
    {
      "cell_type": "code",
      "source": [
        "df.info()"
      ],
      "metadata": {
        "colab": {
          "base_uri": "https://localhost:8080/"
        },
        "id": "YGn8M51gd8_3",
        "outputId": "8089eaab-e220-43b8-9687-289aaa427622"
      },
      "execution_count": 4,
      "outputs": [
        {
          "output_type": "stream",
          "name": "stdout",
          "text": [
            "<class 'pandas.core.frame.DataFrame'>\n",
            "RangeIndex: 30224 entries, 0 to 30223\n",
            "Data columns (total 19 columns):\n",
            " #   Column                        Non-Null Count  Dtype \n",
            "---  ------                        --------------  ----- \n",
            " 0   CO_ID                         30224 non-null  int64 \n",
            " 1   USER_CREATED_BY               30123 non-null  object\n",
            " 2   MSISDN                        30224 non-null  int64 \n",
            " 3   POS_MSISDN                    10653 non-null  object\n",
            " 4   DISTRIBUTER                   28419 non-null  object\n",
            " 5   Plan_Name                     30224 non-null  object\n",
            " 6   ACTIVE_DATE                   30224 non-null  object\n",
            " 7   DEACTIVE_DATE                 10156 non-null  object\n",
            " 8   Customer Tenure               30224 non-null  int64 \n",
            " 9   Tenure Category               29929 non-null  object\n",
            " 10  STATUS                        30224 non-null  object\n",
            " 11  Status Reason                 21064 non-null  object\n",
            " 12  SEGMENT1                      30224 non-null  object\n",
            " 13  SEGMENT2                      30224 non-null  object\n",
            " 14  Churn Flag                    30224 non-null  int64 \n",
            " 15  Customer Interaction Score    30224 non-null  int64 \n",
            " 16  Loyalty Points                30224 non-null  int64 \n",
            " 17  Data Usage Tier               23580 non-null  object\n",
            " 18  Customer Segment Change Flag  30224 non-null  int64 \n",
            "dtypes: int64(7), object(12)\n",
            "memory usage: 4.4+ MB\n"
          ]
        }
      ]
    },
    {
      "cell_type": "code",
      "source": [
        "#null values in each column\n",
        "df.isnull().sum()"
      ],
      "metadata": {
        "colab": {
          "base_uri": "https://localhost:8080/"
        },
        "id": "9KjMd94IfiG5",
        "outputId": "fc3a0918-af5f-49f5-a5a4-a798d0d710a3"
      },
      "execution_count": 5,
      "outputs": [
        {
          "output_type": "execute_result",
          "data": {
            "text/plain": [
              "CO_ID                               0\n",
              "USER_CREATED_BY                   101\n",
              "MSISDN                              0\n",
              "POS_MSISDN                      19571\n",
              "DISTRIBUTER                      1805\n",
              "Plan_Name                           0\n",
              "ACTIVE_DATE                         0\n",
              "DEACTIVE_DATE                   20068\n",
              "Customer Tenure                     0\n",
              "Tenure Category                   295\n",
              "STATUS                              0\n",
              "Status Reason                    9160\n",
              "SEGMENT1                            0\n",
              "SEGMENT2                            0\n",
              "Churn Flag                          0\n",
              "Customer Interaction Score          0\n",
              "Loyalty Points                      0\n",
              "Data Usage Tier                  6644\n",
              "Customer Segment Change Flag        0\n",
              "dtype: int64"
            ]
          },
          "metadata": {},
          "execution_count": 5
        }
      ]
    },
    {
      "cell_type": "code",
      "source": [
        "#duplicated row\n",
        "duplicate_rows = df[df.duplicated()]"
      ],
      "metadata": {
        "id": "HiI3H8wMfN7x"
      },
      "execution_count": 6,
      "outputs": []
    },
    {
      "cell_type": "code",
      "source": [
        "#dropping dublicated rows\n",
        "df.drop_duplicates(inplace=True)"
      ],
      "metadata": {
        "id": "jPbYy9oxfd8n"
      },
      "execution_count": 7,
      "outputs": []
    },
    {
      "cell_type": "code",
      "source": [
        "df['SEGMENT1'].unique()"
      ],
      "metadata": {
        "colab": {
          "base_uri": "https://localhost:8080/"
        },
        "id": "qOt2IgvvcIBx",
        "outputId": "bbdd56ef-813a-46b4-f3c3-38aca08f1863"
      },
      "execution_count": 8,
      "outputs": [
        {
          "output_type": "execute_result",
          "data": {
            "text/plain": [
              "array(['Prepaid', 'Postpaid', 'Prepaid100', 'Pre400paid', '5Prepaid',\n",
              "       '5Postpaid', 'Post60paid', 'Postpaid300'], dtype=object)"
            ]
          },
          "metadata": {},
          "execution_count": 8
        }
      ]
    },
    {
      "cell_type": "code",
      "source": [
        "df['SEGMENT2'].unique()"
      ],
      "metadata": {
        "colab": {
          "base_uri": "https://localhost:8080/"
        },
        "id": "42PDJ2K5cMbe",
        "outputId": "c293c448-2ced-48a3-c221-7d055127f8d7"
      },
      "execution_count": 9,
      "outputs": [
        {
          "output_type": "execute_result",
          "data": {
            "text/plain": [
              "array(['Residential', 'PRO', 'Corporate'], dtype=object)"
            ]
          },
          "metadata": {},
          "execution_count": 9
        }
      ]
    },
    {
      "cell_type": "code",
      "source": [
        "df['Data Usage Tier'].unique()"
      ],
      "metadata": {
        "colab": {
          "base_uri": "https://localhost:8080/"
        },
        "id": "1HyVNoDcbSk5",
        "outputId": "0ff3bfb6-da95-4466-dc20-708e10c8a488"
      },
      "execution_count": 10,
      "outputs": [
        {
          "output_type": "execute_result",
          "data": {
            "text/plain": [
              "array(['Low', 'High', 'Medium', nan, 'medium'], dtype=object)"
            ]
          },
          "metadata": {},
          "execution_count": 10
        }
      ]
    },
    {
      "cell_type": "code",
      "source": [
        "df['Data Usage Tier'] = df['Data Usage Tier'].str.lower()"
      ],
      "metadata": {
        "id": "4s0zENkCbp5R"
      },
      "execution_count": 11,
      "outputs": []
    },
    {
      "cell_type": "code",
      "source": [
        "# droppiing the 100 null values in USER_CREATED_BY\n",
        "df.dropna(subset=['USER_CREATED_BY'], inplace=True)"
      ],
      "metadata": {
        "id": "C03ilsEufndy"
      },
      "execution_count": 12,
      "outputs": []
    },
    {
      "cell_type": "code",
      "source": [
        "#dropping POS_MSISDN, 19122 null vlues + the column DISTRIBUTER gives the same information\n",
        "df.drop('POS_MSISDN', axis = 1, inplace = True)"
      ],
      "metadata": {
        "id": "XmTM1A2If23x"
      },
      "execution_count": 13,
      "outputs": []
    },
    {
      "cell_type": "code",
      "source": [
        "#dropping deactivate date\n",
        "df.drop('DEACTIVE_DATE', axis = 1, inplace = True)"
      ],
      "metadata": {
        "id": "5PtVD0N2gKex"
      },
      "execution_count": 14,
      "outputs": []
    },
    {
      "cell_type": "code",
      "source": [
        "#getting the values of nulls\n",
        "df['DISTRIBUTER'].isnull().sum()"
      ],
      "metadata": {
        "colab": {
          "base_uri": "https://localhost:8080/"
        },
        "id": "wJBm9GdegTJ_",
        "outputId": "80d53287-3bc7-4464-87fe-c0fdc01ca439"
      },
      "execution_count": 15,
      "outputs": [
        {
          "output_type": "execute_result",
          "data": {
            "text/plain": [
              "1771"
            ]
          },
          "metadata": {},
          "execution_count": 15
        }
      ]
    },
    {
      "cell_type": "code",
      "source": [
        "# droppiing the 1771 null values in DISTRIBUTER\n",
        "df.dropna(subset=['DISTRIBUTER'], inplace=True)"
      ],
      "metadata": {
        "id": "L4CE42aUgitw"
      },
      "execution_count": 16,
      "outputs": []
    },
    {
      "cell_type": "code",
      "source": [
        "df.isnull().sum()"
      ],
      "metadata": {
        "colab": {
          "base_uri": "https://localhost:8080/"
        },
        "id": "LjnDvceKEg9t",
        "outputId": "c042a7b3-8415-4a63-b1ed-23be06a05aa3"
      },
      "execution_count": 17,
      "outputs": [
        {
          "output_type": "execute_result",
          "data": {
            "text/plain": [
              "CO_ID                              0\n",
              "USER_CREATED_BY                    0\n",
              "MSISDN                             0\n",
              "DISTRIBUTER                        0\n",
              "Plan_Name                          0\n",
              "ACTIVE_DATE                        0\n",
              "Customer Tenure                    0\n",
              "Tenure Category                  290\n",
              "STATUS                             0\n",
              "Status Reason                   7206\n",
              "SEGMENT1                           0\n",
              "SEGMENT2                           0\n",
              "Churn Flag                         0\n",
              "Customer Interaction Score         0\n",
              "Loyalty Points                     0\n",
              "Data Usage Tier                 6574\n",
              "Customer Segment Change Flag       0\n",
              "dtype: int64"
            ]
          },
          "metadata": {},
          "execution_count": 17
        }
      ]
    },
    {
      "cell_type": "code",
      "source": [
        "# activate date\n",
        "df['ACTIVE_DATE'] = pd.to_datetime(df['ACTIVE_DATE'])\n",
        "\n",
        "standard_date_formats = df['ACTIVE_DATE'].dt.strftime('%Y-%m-%d').unique()\n",
        "print(standard_date_formats)\n",
        "\n",
        "ACTIVE_DATE_counts = df['ACTIVE_DATE'].value_counts().sum()\n",
        "ACTIVE_DATE_counts\n",
        "# no null valaues"
      ],
      "metadata": {
        "colab": {
          "base_uri": "https://localhost:8080/"
        },
        "id": "8IEldBMhgrAE",
        "outputId": "d7693e6a-a158-49ca-d4e8-370c57b7fe2d"
      },
      "execution_count": 18,
      "outputs": [
        {
          "output_type": "stream",
          "name": "stdout",
          "text": [
            "['2023-10-05' '2023-09-28' '2023-09-19' '2023-09-13' '2023-08-10'\n",
            " '2023-08-28' '2023-09-22' '2023-08-03' '2023-08-09' '2023-10-09'\n",
            " '2023-09-12' '2023-10-23' '2023-08-29' '2023-10-28' '2023-08-15'\n",
            " '2023-10-26' '2023-10-15' '2023-09-21' '2023-08-19' '2023-10-16'\n",
            " '2023-08-16' '2023-08-06' '2023-10-20' '2023-10-10' '2023-10-19'\n",
            " '2023-10-11' '2023-10-31' '2023-08-27' '2023-10-30' '2023-08-05'\n",
            " '2023-10-29' '2023-09-30' '2023-10-02' '2023-09-03' '2023-09-14'\n",
            " '2023-10-08' '2023-08-02' '2023-08-18' '2023-09-05' '2023-09-07'\n",
            " '2023-08-13' '2023-09-08' '2023-10-24' '2023-09-18' '2023-10-06'\n",
            " '2023-08-20' '2023-10-25' '2023-09-25' '2023-08-24' '2023-08-21'\n",
            " '2023-09-29' '2023-08-14' '2023-08-12' '2023-08-26' '2023-10-17'\n",
            " '2023-10-04' '2023-08-08' '2023-09-01' '2023-08-07' '2023-08-01'\n",
            " '2023-10-01' '2023-09-06' '2023-08-30' '2023-10-14' '2023-09-11'\n",
            " '2023-09-10' '2023-10-03' '2023-10-13' '2023-09-20' '2023-08-25'\n",
            " '2023-10-12' '2023-09-02' '2023-10-18' '2023-08-17' '2023-10-22'\n",
            " '2023-09-09' '2023-09-26' '2023-09-27' '2023-09-04' '2023-09-23'\n",
            " '2023-08-23' '2023-08-31' '2023-09-24' '2023-09-15' '2023-08-11'\n",
            " '2023-10-07' '2023-08-22' '2023-10-21' '2023-09-17' '2023-08-04'\n",
            " '2023-09-16' '2023-10-27']\n"
          ]
        },
        {
          "output_type": "execute_result",
          "data": {
            "text/plain": [
              "27922"
            ]
          },
          "metadata": {},
          "execution_count": 18
        }
      ]
    },
    {
      "cell_type": "markdown",
      "source": [
        "# **Tenure Category**"
      ],
      "metadata": {
        "id": "lMm3kcs3HZD4"
      }
    },
    {
      "cell_type": "code",
      "source": [
        "#Customer Tenure: Duration between activation and deactivation/current date.\n",
        "df['Customer Tenure'].unique()"
      ],
      "metadata": {
        "colab": {
          "base_uri": "https://localhost:8080/"
        },
        "id": "dO0XjpaEg-ug",
        "outputId": "b409f838-ac8f-4b2b-8261-33d6da926f3a"
      },
      "execution_count": 19,
      "outputs": [
        {
          "output_type": "execute_result",
          "data": {
            "text/plain": [
              "array([ 88,  95, 104,  39,  18, 126, 101, 151, 145,  84,  40,  20, 125,\n",
              "        65, 139,   4,  16, 102, 135,  77, 138,  27,  83,  74,  82,  62,\n",
              "       127,  63,  64,  93,  91,  73, 120,  17, 110, 109,  85, 148, 152,\n",
              "       136, 118, 116, 141, 115,  19,  69, 105,  87, 134,  68,  98,  59,\n",
              "       133,  94, 140, 100, 142, 130, 128,   6,  76,  15,  41,  89, 146,\n",
              "        38, 111, 122, 147,  78, 153,  11,  92, 117, 124,   1,  79,  47,\n",
              "       113,  90,  42,  13,  51,  80, 103,  22, 129,  81,  50,   7,  70,\n",
              "       121,  12, 137,   3, 149,  37,  21,  71, 114,  97,  30,  96, 119,\n",
              "        31,  99,  75, 108,  23,  53, 112, 123, 144,  32,  86,  34,  44,\n",
              "        67,   9,  36,  35,  72, 106,  52,  25,  60, 143,  57,  10, 131,\n",
              "       150,  61,   8,  54, 107,   2, 132,  26,   5,  56,  29,  14,  66,\n",
              "        43,  49,  48,  24,  45,  28,  33,   0,  55,  58,  46])"
            ]
          },
          "metadata": {},
          "execution_count": 19
        }
      ]
    },
    {
      "cell_type": "code",
      "source": [
        "df['Customer Tenure'].max()"
      ],
      "metadata": {
        "colab": {
          "base_uri": "https://localhost:8080/"
        },
        "id": "eB-d5y95HPxE",
        "outputId": "30ad2647-82ec-4f48-80dd-2c4e9c5ddc29"
      },
      "execution_count": 20,
      "outputs": [
        {
          "output_type": "execute_result",
          "data": {
            "text/plain": [
              "153"
            ]
          },
          "metadata": {},
          "execution_count": 20
        }
      ]
    },
    {
      "cell_type": "code",
      "source": [
        "# Tenure Category\n",
        "unique_tenure_cate = df['Tenure Category'].unique()\n",
        "print(unique_tenure_cate)\n",
        "\n",
        "mapping_to_have_unique_values = {\n",
        "    'Medium-term': 'Medium',\n",
        "    'Short-term': 'Short',\n",
        "    'Long-term': 'Long'\n",
        "}\n",
        "df['Tenure Category'] = df['Tenure Category'].replace(mapping_to_have_unique_values)"
      ],
      "metadata": {
        "colab": {
          "base_uri": "https://localhost:8080/"
        },
        "id": "mpjH7q7ZhUoX",
        "outputId": "8dd8c43e-6200-448b-ab15-0780080906d4"
      },
      "execution_count": 21,
      "outputs": [
        {
          "output_type": "stream",
          "name": "stdout",
          "text": [
            "[nan 'Medium-term' 'Short-term' 'Long-term' 'Medium' 'Short' 'Long']\n"
          ]
        }
      ]
    },
    {
      "cell_type": "code",
      "source": [
        "unique_tenure_cate = df['Tenure Category'].unique()\n",
        "print(unique_tenure_cate)"
      ],
      "metadata": {
        "colab": {
          "base_uri": "https://localhost:8080/"
        },
        "id": "ersUbSyvholF",
        "outputId": "ebfed6df-7cc1-48c3-cf70-0adb7acd58a4"
      },
      "execution_count": 22,
      "outputs": [
        {
          "output_type": "stream",
          "name": "stdout",
          "text": [
            "[nan 'Medium' 'Short' 'Long']\n"
          ]
        }
      ]
    },
    {
      "cell_type": "code",
      "source": [
        "short_term_threshold = 50\n",
        "long_term_threshold = 100\n",
        "\n",
        "# Function to categorize tenure based on thresholds\n",
        "def categorize_tenure(tenure):\n",
        "    if tenure < short_term_threshold:\n",
        "        return 'Short'\n",
        "    elif tenure >= long_term_threshold:\n",
        "        return 'Long'\n",
        "    else:\n",
        "        return 'Medium'\n",
        "\n",
        "# Fill NaN values in 'Tenure Category' based on 'Customer Tenure'\n",
        "df['Tenure Category'] = df.apply(lambda row: categorize_tenure(row['Customer Tenure']) if pd.isnull(row['Tenure Category']) else row['Tenure Category'], axis=1)\n"
      ],
      "metadata": {
        "id": "7jSoUdtAHJrC"
      },
      "execution_count": 23,
      "outputs": []
    },
    {
      "cell_type": "markdown",
      "source": [
        "# **STATUS**"
      ],
      "metadata": {
        "id": "FfKvgg7jFvmD"
      }
    },
    {
      "cell_type": "code",
      "source": [
        "# STATUS\n",
        "unique_values_Status = df['STATUS'].unique()\n",
        "unique_values_Status"
      ],
      "metadata": {
        "colab": {
          "base_uri": "https://localhost:8080/"
        },
        "id": "x7CewNdshxz9",
        "outputId": "7f4dfb99-5f92-4f27-c3af-068446dbbdb4"
      },
      "execution_count": 24,
      "outputs": [
        {
          "output_type": "execute_result",
          "data": {
            "text/plain": [
              "array(['Hard Suspended', 'Active', 'Deactive', 'Soft Suspended',\n",
              "       'Hard suspended', 'Soft suspended'], dtype=object)"
            ]
          },
          "metadata": {},
          "execution_count": 24
        }
      ]
    },
    {
      "cell_type": "code",
      "source": [
        "df['STATUS'] = df['STATUS'].str.lower()"
      ],
      "metadata": {
        "id": "QtynOgBOi19U"
      },
      "execution_count": 25,
      "outputs": []
    },
    {
      "cell_type": "code",
      "source": [
        "unique_values_Status = df['STATUS'].unique()\n",
        "unique_values_Status"
      ],
      "metadata": {
        "colab": {
          "base_uri": "https://localhost:8080/"
        },
        "id": "Aj02El5-i6eR",
        "outputId": "3ad270e1-bbef-4a01-e50b-a5bd97fc0514"
      },
      "execution_count": 26,
      "outputs": [
        {
          "output_type": "execute_result",
          "data": {
            "text/plain": [
              "array(['hard suspended', 'active', 'deactive', 'soft suspended'],\n",
              "      dtype=object)"
            ]
          },
          "metadata": {},
          "execution_count": 26
        }
      ]
    },
    {
      "cell_type": "code",
      "source": [
        "null_status_reason = df[df['Status Reason'].isnull()]\n",
        "\n",
        "# Display the 'STATUS' and 'Status Reason' columns for these rows\n",
        "print(null_status_reason[['STATUS', 'Status Reason']])"
      ],
      "metadata": {
        "colab": {
          "base_uri": "https://localhost:8080/"
        },
        "id": "LT3Dy3XAi7yZ",
        "outputId": "4ed7f4f6-1382-4388-9872-0651bc7a5a19"
      },
      "execution_count": 27,
      "outputs": [
        {
          "output_type": "stream",
          "name": "stdout",
          "text": [
            "       STATUS Status Reason\n",
            "1      active           NaN\n",
            "2      active           NaN\n",
            "5      active           NaN\n",
            "13     active           NaN\n",
            "14     active           NaN\n",
            "...       ...           ...\n",
            "29980  active           NaN\n",
            "29983  active           NaN\n",
            "29991  active           NaN\n",
            "29995  active           NaN\n",
            "29999  active           NaN\n",
            "\n",
            "[7206 rows x 2 columns]\n"
          ]
        }
      ]
    },
    {
      "cell_type": "code",
      "source": [
        "# Filter rows where 'Status Reason' is null\n",
        "null_status_reason = df[df['Status Reason'].isnull()]\n",
        "\n",
        "# Check unique values in the STATUS\n",
        "unique_statuses = null_status_reason['STATUS'].unique()\n",
        "\n",
        "\n",
        "if len(unique_statuses) == 1 and unique_statuses[0] == 'active':\n",
        "    print(\"All corresponding 'Status Reason' values for null values are 'active'.\")\n",
        "else:\n",
        "    print(\"Not all corresponding 'Status Reason' values for null values are 'active'.\")"
      ],
      "metadata": {
        "colab": {
          "base_uri": "https://localhost:8080/"
        },
        "id": "DIKYXKYyjTf4",
        "outputId": "0a468adb-4756-475e-e82f-7d0595dc79cb"
      },
      "execution_count": 28,
      "outputs": [
        {
          "output_type": "stream",
          "name": "stdout",
          "text": [
            "All corresponding 'Status Reason' values for null values are 'active'.\n"
          ]
        }
      ]
    },
    {
      "cell_type": "code",
      "source": [
        "df['Status Reason'].unique()"
      ],
      "metadata": {
        "colab": {
          "base_uri": "https://localhost:8080/"
        },
        "id": "J-3n8-SQeQE-",
        "outputId": "22c99645-0a43-406d-b88d-c55ae21c2706"
      },
      "execution_count": 29,
      "outputs": [
        {
          "output_type": "execute_result",
          "data": {
            "text/plain": [
              "array(['Violation of terms', nan, 'Service Quality', 'Lack of Usage',\n",
              "       'Service upgrade', 'Illegal usage', 'Non-payment',\n",
              "       'Technical Difficulties', 'Moved', 'Price', 'Billing Issues',\n",
              "       'Personal Reasons', 'Document verification', 'Fraudulent activity',\n",
              "       'Customer request', 'Network Issues', 'Technical issue',\n",
              "       'Better Offer Elsewhere', 'Contract Ended'], dtype=object)"
            ]
          },
          "metadata": {},
          "execution_count": 29
        }
      ]
    },
    {
      "cell_type": "code",
      "source": [
        "df.loc[df['STATUS'] == 'active', 'Status Reason'] = 'Active'"
      ],
      "metadata": {
        "id": "noQSbzfqjxVn"
      },
      "execution_count": 30,
      "outputs": []
    },
    {
      "cell_type": "code",
      "source": [
        "df['Status Reason'].isnull().sum()"
      ],
      "metadata": {
        "colab": {
          "base_uri": "https://localhost:8080/"
        },
        "id": "_yijLwzTgh5b",
        "outputId": "e97ce662-e245-465e-a41b-24428e11b271"
      },
      "execution_count": 31,
      "outputs": [
        {
          "output_type": "execute_result",
          "data": {
            "text/plain": [
              "0"
            ]
          },
          "metadata": {},
          "execution_count": 31
        }
      ]
    },
    {
      "cell_type": "code",
      "source": [
        "df.isnull().sum()"
      ],
      "metadata": {
        "colab": {
          "base_uri": "https://localhost:8080/"
        },
        "id": "lclzmQOKFL8i",
        "outputId": "c7bf30e6-d6df-419f-8e45-0073d6d65b9b"
      },
      "execution_count": 32,
      "outputs": [
        {
          "output_type": "execute_result",
          "data": {
            "text/plain": [
              "CO_ID                              0\n",
              "USER_CREATED_BY                    0\n",
              "MSISDN                             0\n",
              "DISTRIBUTER                        0\n",
              "Plan_Name                          0\n",
              "ACTIVE_DATE                        0\n",
              "Customer Tenure                    0\n",
              "Tenure Category                    0\n",
              "STATUS                             0\n",
              "Status Reason                      0\n",
              "SEGMENT1                           0\n",
              "SEGMENT2                           0\n",
              "Churn Flag                         0\n",
              "Customer Interaction Score         0\n",
              "Loyalty Points                     0\n",
              "Data Usage Tier                 6574\n",
              "Customer Segment Change Flag       0\n",
              "dtype: int64"
            ]
          },
          "metadata": {},
          "execution_count": 32
        }
      ]
    },
    {
      "cell_type": "code",
      "source": [
        "df.isnull().sum()"
      ],
      "metadata": {
        "colab": {
          "base_uri": "https://localhost:8080/"
        },
        "id": "stPsVQYnHd3x",
        "outputId": "447be63d-8b53-4dd2-f451-411bb700f534"
      },
      "execution_count": 33,
      "outputs": [
        {
          "output_type": "execute_result",
          "data": {
            "text/plain": [
              "CO_ID                              0\n",
              "USER_CREATED_BY                    0\n",
              "MSISDN                             0\n",
              "DISTRIBUTER                        0\n",
              "Plan_Name                          0\n",
              "ACTIVE_DATE                        0\n",
              "Customer Tenure                    0\n",
              "Tenure Category                    0\n",
              "STATUS                             0\n",
              "Status Reason                      0\n",
              "SEGMENT1                           0\n",
              "SEGMENT2                           0\n",
              "Churn Flag                         0\n",
              "Customer Interaction Score         0\n",
              "Loyalty Points                     0\n",
              "Data Usage Tier                 6574\n",
              "Customer Segment Change Flag       0\n",
              "dtype: int64"
            ]
          },
          "metadata": {},
          "execution_count": 33
        }
      ]
    },
    {
      "cell_type": "markdown",
      "source": [
        "# **data usage tier**"
      ],
      "metadata": {
        "id": "iiCA5cSFF4MT"
      }
    },
    {
      "cell_type": "code",
      "source": [
        "df['Data Usage Tier'].unique()"
      ],
      "metadata": {
        "colab": {
          "base_uri": "https://localhost:8080/"
        },
        "id": "cwJQN3tZfXGo",
        "outputId": "658e73b4-f7c5-46fe-9622-977c83471471"
      },
      "execution_count": 34,
      "outputs": [
        {
          "output_type": "execute_result",
          "data": {
            "text/plain": [
              "array(['low', 'high', 'medium', nan], dtype=object)"
            ]
          },
          "metadata": {},
          "execution_count": 34
        }
      ]
    },
    {
      "cell_type": "code",
      "source": [
        "df['Data Usage Tier'].isnull().sum()"
      ],
      "metadata": {
        "colab": {
          "base_uri": "https://localhost:8080/"
        },
        "id": "vJW1ZQXvftc4",
        "outputId": "5aac6e69-1d31-48d2-86f4-ecc30237f32e"
      },
      "execution_count": 35,
      "outputs": [
        {
          "output_type": "execute_result",
          "data": {
            "text/plain": [
              "6574"
            ]
          },
          "metadata": {},
          "execution_count": 35
        }
      ]
    },
    {
      "cell_type": "code",
      "source": [
        "# Count the frequency of each category in 'Data Usage Tier'\n",
        "usage_tier_counts = df['Data Usage Tier'].value_counts()\n",
        "\n",
        "print(usage_tier_counts)"
      ],
      "metadata": {
        "colab": {
          "base_uri": "https://localhost:8080/"
        },
        "id": "jtE3oRgJPjII",
        "outputId": "60b10847-114d-47e8-eb47-49ed7a3b88b6"
      },
      "execution_count": 36,
      "outputs": [
        {
          "output_type": "stream",
          "name": "stdout",
          "text": [
            "low       10669\n",
            "high       7204\n",
            "medium     3475\n",
            "Name: Data Usage Tier, dtype: int64\n"
          ]
        }
      ]
    },
    {
      "cell_type": "code",
      "source": [
        "df['Customer Interaction Score'].unique()"
      ],
      "metadata": {
        "colab": {
          "base_uri": "https://localhost:8080/"
        },
        "id": "bp62qX9_RnfT",
        "outputId": "40f04f09-b59b-4e78-ea43-de4ac6f0ac99"
      },
      "execution_count": 37,
      "outputs": [
        {
          "output_type": "execute_result",
          "data": {
            "text/plain": [
              "array([ 3,  7,  6,  9,  5, 10,  8,  1,  2,  4])"
            ]
          },
          "metadata": {},
          "execution_count": 37
        }
      ]
    },
    {
      "cell_type": "code",
      "source": [
        "# Group by 'Data Usage Tier' and find the min and max loyalty points\n",
        "Customer_Interaction_Score_range = df.groupby('Data Usage Tier')['Customer Interaction Score'].agg(['min', 'max'])\n",
        "\n",
        "print(Customer_Interaction_Score_range)"
      ],
      "metadata": {
        "colab": {
          "base_uri": "https://localhost:8080/"
        },
        "id": "30OwdlOSLTr2",
        "outputId": "4bb72426-9c70-44c4-c24b-e08b819800d1"
      },
      "execution_count": 38,
      "outputs": [
        {
          "output_type": "stream",
          "name": "stdout",
          "text": [
            "                 min  max\n",
            "Data Usage Tier          \n",
            "high               1   10\n",
            "low                1   10\n",
            "medium             1   10\n"
          ]
        }
      ]
    },
    {
      "cell_type": "code",
      "source": [
        "# Group by 'Customer Interaction Score' and find the most common 'Data Usage Tier' value\n",
        "usage_tier_imputation = df.groupby('Customer Interaction Score')['Data Usage Tier'].agg(lambda x: x.value_counts().index[0])\n",
        "print(usage_tier_imputation)"
      ],
      "metadata": {
        "colab": {
          "base_uri": "https://localhost:8080/"
        },
        "id": "WsyfgCpbStJ2",
        "outputId": "80e78761-590e-4c69-fb0f-0b9483d7a4c2"
      },
      "execution_count": 39,
      "outputs": [
        {
          "output_type": "stream",
          "name": "stdout",
          "text": [
            "Customer Interaction Score\n",
            "1      low\n",
            "2      low\n",
            "3      low\n",
            "4      low\n",
            "5     high\n",
            "6     high\n",
            "7     high\n",
            "8     high\n",
            "9      low\n",
            "10     low\n",
            "Name: Data Usage Tier, dtype: object\n"
          ]
        }
      ]
    },
    {
      "cell_type": "code",
      "source": [
        "import seaborn as sns\n",
        "import matplotlib.pyplot as plt\n",
        "\n",
        "# Set the style of seaborn\n",
        "sns.set_style(\"whitegrid\")\n",
        "\n",
        "# Create a count plot\n",
        "plt.figure(figsize=(10, 6))\n",
        "sns.countplot(data=df, x='Customer Interaction Score', hue='Data Usage Tier', palette='Set2')\n",
        "plt.title('Distribution of Data Usage Tier by Customer Interaction Score')\n",
        "plt.xlabel('Customer Interaction Score')\n",
        "plt.ylabel('Count')\n",
        "plt.legend(title='Data Usage Tier')\n",
        "plt.show()\n"
      ],
      "metadata": {
        "colab": {
          "base_uri": "https://localhost:8080/",
          "height": 564
        },
        "id": "CPMye3sUUUOb",
        "outputId": "fdf8ece0-9487-4dff-9ff8-99493b52ca56"
      },
      "execution_count": 40,
      "outputs": [
        {
          "output_type": "display_data",
          "data": {
            "text/plain": [
              "<Figure size 1000x600 with 1 Axes>"
            ],
            "image/png": "[encoded data removed]"
          },
          "metadata": {}
        }
      ]
    },
    {
      "cell_type": "code",
      "source": [
        "# Function to fill null values in 'Data Usage Tier' based on 'Customer Interaction Score'\n",
        "def fill_null_usage_tier(row):\n",
        "    if pd.isnull(row['Data Usage Tier']):\n",
        "        return usage_tier_imputation[row['Customer Interaction Score']]\n",
        "    else:\n",
        "        return row['Data Usage Tier']"
      ],
      "metadata": {
        "id": "-FwNTGZrUh__"
      },
      "execution_count": 41,
      "outputs": []
    },
    {
      "cell_type": "code",
      "source": [
        "# Apply the function to fill null values\n",
        "df['Data Usage Tier'] = df.apply(fill_null_usage_tier, axis=1)"
      ],
      "metadata": {
        "id": "z48kB6FOUoTN"
      },
      "execution_count": 42,
      "outputs": []
    },
    {
      "cell_type": "code",
      "source": [
        "df.info()"
      ],
      "metadata": {
        "colab": {
          "base_uri": "https://localhost:8080/"
        },
        "id": "Nk86DzsVk2bg",
        "outputId": "06df82d9-82aa-4c1d-851d-64d718db6bb5"
      },
      "execution_count": 43,
      "outputs": [
        {
          "output_type": "stream",
          "name": "stdout",
          "text": [
            "<class 'pandas.core.frame.DataFrame'>\n",
            "Int64Index: 27922 entries, 0 to 30007\n",
            "Data columns (total 17 columns):\n",
            " #   Column                        Non-Null Count  Dtype         \n",
            "---  ------                        --------------  -----         \n",
            " 0   CO_ID                         27922 non-null  int64         \n",
            " 1   USER_CREATED_BY               27922 non-null  object        \n",
            " 2   MSISDN                        27922 non-null  int64         \n",
            " 3   DISTRIBUTER                   27922 non-null  object        \n",
            " 4   Plan_Name                     27922 non-null  object        \n",
            " 5   ACTIVE_DATE                   27922 non-null  datetime64[ns]\n",
            " 6   Customer Tenure               27922 non-null  int64         \n",
            " 7   Tenure Category               27922 non-null  object        \n",
            " 8   STATUS                        27922 non-null  object        \n",
            " 9   Status Reason                 27922 non-null  object        \n",
            " 10  SEGMENT1                      27922 non-null  object        \n",
            " 11  SEGMENT2                      27922 non-null  object        \n",
            " 12  Churn Flag                    27922 non-null  int64         \n",
            " 13  Customer Interaction Score    27922 non-null  int64         \n",
            " 14  Loyalty Points                27922 non-null  int64         \n",
            " 15  Data Usage Tier               27922 non-null  object        \n",
            " 16  Customer Segment Change Flag  27922 non-null  int64         \n",
            "dtypes: datetime64[ns](1), int64(7), object(9)\n",
            "memory usage: 3.8+ MB\n"
          ]
        }
      ]
    },
    {
      "cell_type": "code",
      "source": [
        "df.isnull().sum()"
      ],
      "metadata": {
        "colab": {
          "base_uri": "https://localhost:8080/"
        },
        "id": "4pobhXLpVQcI",
        "outputId": "2f3c9b6a-c8bf-4ac9-c243-167cbffb2d2f"
      },
      "execution_count": 44,
      "outputs": [
        {
          "output_type": "execute_result",
          "data": {
            "text/plain": [
              "CO_ID                           0\n",
              "USER_CREATED_BY                 0\n",
              "MSISDN                          0\n",
              "DISTRIBUTER                     0\n",
              "Plan_Name                       0\n",
              "ACTIVE_DATE                     0\n",
              "Customer Tenure                 0\n",
              "Tenure Category                 0\n",
              "STATUS                          0\n",
              "Status Reason                   0\n",
              "SEGMENT1                        0\n",
              "SEGMENT2                        0\n",
              "Churn Flag                      0\n",
              "Customer Interaction Score      0\n",
              "Loyalty Points                  0\n",
              "Data Usage Tier                 0\n",
              "Customer Segment Change Flag    0\n",
              "dtype: int64"
            ]
          },
          "metadata": {},
          "execution_count": 44
        }
      ]
    },
    {
      "cell_type": "markdown",
      "source": [
        "# **converting **"
      ],
      "metadata": {
        "id": "6RYdWtJTVVf9"
      }
    },
    {
      "cell_type": "code",
      "source": [
        "# to get the relationship with corr\n",
        "label_encoder = LabelEncoder()\n",
        "df['Status Reason'] = label_encoder.fit_transform(df['Status Reason'])\n",
        "label_mapping = dict(zip(label_encoder.classes_, label_encoder.transform(label_encoder.classes_)))\n",
        "print(\"Label Mapping:\", label_mapping)\n",
        "\n",
        "df['Data Usage Tier'] = label_encoder.fit_transform(df['Data Usage Tier'])\n",
        "df['SEGMENT1'] = label_encoder.fit_transform(df['SEGMENT1'])\n",
        "df['USER_CREATED_BY'] = label_encoder.fit_transform(df['USER_CREATED_BY'])\n",
        "df['DISTRIBUTER'] = label_encoder.fit_transform(df['DISTRIBUTER'])\n",
        "df['Plan_Name'] = label_encoder.fit_transform(df['Plan_Name'])\n",
        "df['Tenure Category'] = label_encoder.fit_transform(df['Tenure Category'])\n",
        "df['STATUS'] = label_encoder.fit_transform(df['STATUS'])\n",
        "df['Status Reason'] = label_encoder.fit_transform(df['Status Reason'])\n",
        "df['SEGMENT2'] = label_encoder.fit_transform(df['SEGMENT2'])"
      ],
      "metadata": {
        "colab": {
          "base_uri": "https://localhost:8080/"
        },
        "id": "Gh6HFnTukVjt",
        "outputId": "e70dadc5-5678-4f47-d874-d0e43b0a34d9"
      },
      "execution_count": 45,
      "outputs": [
        {
          "output_type": "stream",
          "name": "stdout",
          "text": [
            "Label Mapping: {'Active': 0, 'Better Offer Elsewhere': 1, 'Billing Issues': 2, 'Contract Ended': 3, 'Customer request': 4, 'Document verification': 5, 'Fraudulent activity': 6, 'Illegal usage': 7, 'Lack of Usage': 8, 'Moved': 9, 'Network Issues': 10, 'Non-payment': 11, 'Personal Reasons': 12, 'Price': 13, 'Service Quality': 14, 'Service upgrade': 15, 'Technical Difficulties': 16, 'Technical issue': 17, 'Violation of terms': 18}\n"
          ]
        }
      ]
    },
    {
      "cell_type": "code",
      "source": [
        "df.corr()"
      ],
      "metadata": {
        "colab": {
          "base_uri": "https://localhost:8080/",
          "height": 692
        },
        "id": "JCYSVvBzlfG5",
        "outputId": "a97953e7-47d8-4502-b701-14b9b7a1c265"
      },
      "execution_count": 46,
      "outputs": [
        {
          "output_type": "stream",
          "name": "stderr",
          "text": [
            "<ipython-input-46-2f6f6606aa2c>:1: FutureWarning: The default value of numeric_only in DataFrame.corr is deprecated. In a future version, it will default to False. Select only valid columns or specify the value of numeric_only to silence this warning.\n",
            "  df.corr()\n"
          ]
        },
        {
          "output_type": "execute_result",
          "data": {
            "text/plain": [
              "                                 CO_ID  USER_CREATED_BY    MSISDN  \\\n",
              "CO_ID                         1.000000         0.298628 -0.269884   \n",
              "USER_CREATED_BY               0.298628         1.000000  0.124938   \n",
              "MSISDN                       -0.269884         0.124938  1.000000   \n",
              "DISTRIBUTER                   0.026985         0.042307  0.197660   \n",
              "Plan_Name                     0.019634         0.089975 -0.150993   \n",
              "Customer Tenure              -0.421201        -0.178290  0.356237   \n",
              "Tenure Category               0.382901         0.149909 -0.342551   \n",
              "STATUS                       -0.345499        -0.412837  0.192487   \n",
              "Status Reason                -0.137709        -0.240009 -0.018109   \n",
              "SEGMENT1                     -0.422195        -0.557186  0.565556   \n",
              "SEGMENT2                     -0.378896        -0.030229  0.705879   \n",
              "Churn Flag                    0.281336         0.132785 -0.414200   \n",
              "Customer Interaction Score   -0.068850        -0.055152  0.075389   \n",
              "Loyalty Points               -0.090820         0.037512  0.125617   \n",
              "Data Usage Tier              -0.116567        -0.211241 -0.017131   \n",
              "Customer Segment Change Flag -0.002611        -0.008274 -0.002241   \n",
              "\n",
              "                              DISTRIBUTER  Plan_Name  Customer Tenure  \\\n",
              "CO_ID                            0.026985   0.019634        -0.421201   \n",
              "USER_CREATED_BY                  0.042307   0.089975        -0.178290   \n",
              "MSISDN                           0.197660  -0.150993         0.356237   \n",
              "DISTRIBUTER                      1.000000  -0.061458        -0.098610   \n",
              "Plan_Name                       -0.061458   1.000000         0.039761   \n",
              "Customer Tenure                 -0.098610   0.039761         1.000000   \n",
              "Tenure Category                  0.033491   0.014011        -0.893602   \n",
              "STATUS                          -0.013854  -0.102758         0.275966   \n",
              "Status Reason                   -0.008497  -0.036539        -0.090545   \n",
              "SEGMENT1                         0.117748  -0.126688         0.393923   \n",
              "SEGMENT2                         0.145636   0.037718         0.393048   \n",
              "Churn Flag                       0.033391   0.035274        -0.739153   \n",
              "Customer Interaction Score       0.016760  -0.031879         0.132699   \n",
              "Loyalty Points                   0.001777   0.001784         0.418981   \n",
              "Data Usage Tier                 -0.005076  -0.042993        -0.082707   \n",
              "Customer Segment Change Flag     0.006008   0.001648         0.006843   \n",
              "\n",
              "                              Tenure Category    STATUS  Status Reason  \\\n",
              "CO_ID                                0.382901 -0.345499      -0.137709   \n",
              "USER_CREATED_BY                      0.149909 -0.412837      -0.240009   \n",
              "MSISDN                              -0.342551  0.192487      -0.018109   \n",
              "DISTRIBUTER                          0.033491 -0.013854      -0.008497   \n",
              "Plan_Name                            0.014011 -0.102758      -0.036539   \n",
              "Customer Tenure                     -0.893602  0.275966      -0.090545   \n",
              "Tenure Category                      1.000000 -0.287346       0.017134   \n",
              "STATUS                              -0.287346  1.000000       0.571101   \n",
              "Status Reason                        0.017134  0.571101       1.000000   \n",
              "SEGMENT1                            -0.368766  0.473351       0.177847   \n",
              "SEGMENT2                            -0.349346  0.346342       0.115474   \n",
              "Churn Flag                           0.561741 -0.200298       0.189415   \n",
              "Customer Interaction Score          -0.110883  0.199658       0.004614   \n",
              "Loyalty Points                      -0.427939 -0.076568      -0.215511   \n",
              "Data Usage Tier                      0.017688  0.497667       0.420364   \n",
              "Customer Segment Change Flag        -0.007287  0.000997      -0.002863   \n",
              "\n",
              "                              SEGMENT1  SEGMENT2  Churn Flag  \\\n",
              "CO_ID                        -0.422195 -0.378896    0.281336   \n",
              "USER_CREATED_BY              -0.557186 -0.030229    0.132785   \n",
              "MSISDN                        0.565556  0.705879   -0.414200   \n",
              "DISTRIBUTER                   0.117748  0.145636    0.033391   \n",
              "Plan_Name                    -0.126688  0.037718    0.035274   \n",
              "Customer Tenure               0.393923  0.393048   -0.739153   \n",
              "Tenure Category              -0.368766 -0.349346    0.561741   \n",
              "STATUS                        0.473351  0.346342   -0.200298   \n",
              "Status Reason                 0.177847  0.115474    0.189415   \n",
              "SEGMENT1                      1.000000  0.541823   -0.412604   \n",
              "SEGMENT2                      0.541823  1.000000   -0.387417   \n",
              "Churn Flag                   -0.412604 -0.387417    1.000000   \n",
              "Customer Interaction Score    0.098817  0.063998   -0.140373   \n",
              "Loyalty Points                0.062436  0.072887   -0.340876   \n",
              "Data Usage Tier               0.154811  0.091859    0.179634   \n",
              "Customer Segment Change Flag  0.010219 -0.001545   -0.003286   \n",
              "\n",
              "                              Customer Interaction Score  Loyalty Points  \\\n",
              "CO_ID                                          -0.068850       -0.090820   \n",
              "USER_CREATED_BY                                -0.055152        0.037512   \n",
              "MSISDN                                          0.075389        0.125617   \n",
              "DISTRIBUTER                                     0.016760        0.001777   \n",
              "Plan_Name                                      -0.031879        0.001784   \n",
              "Customer Tenure                                 0.132699        0.418981   \n",
              "Tenure Category                                -0.110883       -0.427939   \n",
              "STATUS                                          0.199658       -0.076568   \n",
              "Status Reason                                   0.004614       -0.215511   \n",
              "SEGMENT1                                        0.098817        0.062436   \n",
              "SEGMENT2                                        0.063998        0.072887   \n",
              "Churn Flag                                     -0.140373       -0.340876   \n",
              "Customer Interaction Score                      1.000000        0.094935   \n",
              "Loyalty Points                                  0.094935        1.000000   \n",
              "Data Usage Tier                                -0.025100       -0.180110   \n",
              "Customer Segment Change Flag                    0.000152       -0.010628   \n",
              "\n",
              "                              Data Usage Tier  Customer Segment Change Flag  \n",
              "CO_ID                               -0.116567                     -0.002611  \n",
              "USER_CREATED_BY                     -0.211241                     -0.008274  \n",
              "MSISDN                              -0.017131                     -0.002241  \n",
              "DISTRIBUTER                         -0.005076                      0.006008  \n",
              "Plan_Name                           -0.042993                      0.001648  \n",
              "Customer Tenure                     -0.082707                      0.006843  \n",
              "Tenure Category                      0.017688                     -0.007287  \n",
              "STATUS                               0.497667                      0.000997  \n",
              "Status Reason                        0.420364                     -0.002863  \n",
              "SEGMENT1                             0.154811                      0.010219  \n",
              "SEGMENT2                             0.091859                     -0.001545  \n",
              "Churn Flag                           0.179634                     -0.003286  \n",
              "Customer Interaction Score          -0.025100                      0.000152  \n",
              "Loyalty Points                      -0.180110                     -0.010628  \n",
              "Data Usage Tier                      1.000000                      0.005505  \n",
              "Customer Segment Change Flag         0.005505                      1.000000  "
            ],
            "text/html": [
              "\n",
              "  <div id=\"df-377161ad-508a-4bd7-acce-c9668e6bf1f2\" class=\"colab-df-container\">\n",
              "    <div>\n",
              "<style scoped>\n",
              "    .dataframe tbody tr th:only-of-type {\n",
              "        vertical-align: middle;\n",
              "    }\n",
              "\n",
              "    .dataframe tbody tr th {\n",
              "        vertical-align: top;\n",
              "    }\n",
              "\n",
              "    .dataframe thead th {\n",
              "        text-align: right;\n",
              "    }\n",
              "</style>\n",
              "<table border=\"1\" class=\"dataframe\">\n",
              "  <thead>\n",
              "    <tr style=\"text-align: right;\">\n",
              "      <th></th>\n",
              "      <th>CO_ID</th>\n",
              "      <th>USER_CREATED_BY</th>\n",
              "      <th>MSISDN</th>\n",
              "      <th>DISTRIBUTER</th>\n",
              "      <th>Plan_Name</th>\n",
              "      <th>Customer Tenure</th>\n",
              "      <th>Tenure Category</th>\n",
              "      <th>STATUS</th>\n",
              "      <th>Status Reason</th>\n",
              "      <th>SEGMENT1</th>\n",
              "      <th>SEGMENT2</th>\n",
              "      <th>Churn Flag</th>\n",
              "      <th>Customer Interaction Score</th>\n",
              "      <th>Loyalty Points</th>\n",
              "      <th>Data Usage Tier</th>\n",
              "      <th>Customer Segment Change Flag</th>\n",
              "    </tr>\n",
              "  </thead>\n",
              "  <tbody>\n",
              "    <tr>\n",
              "      <th>CO_ID</th>\n",
              "      <td>1.000000</td>\n",
              "      <td>0.298628</td>\n",
              "      <td>-0.269884</td>\n",
              "      <td>0.026985</td>\n",
              "      <td>0.019634</td>\n",
              "      <td>-0.421201</td>\n",
              "      <td>0.382901</td>\n",
              "      <td>-0.345499</td>\n",
              "      <td>-0.137709</td>\n",
              "      <td>-0.422195</td>\n",
              "      <td>-0.378896</td>\n",
              "      <td>0.281336</td>\n",
              "      <td>-0.068850</td>\n",
              "      <td>-0.090820</td>\n",
              "      <td>-0.116567</td>\n",
              "      <td>-0.002611</td>\n",
              "    </tr>\n",
              "    <tr>\n",
              "      <th>USER_CREATED_BY</th>\n",
              "      <td>0.298628</td>\n",
              "      <td>1.000000</td>\n",
              "      <td>0.124938</td>\n",
              "      <td>0.042307</td>\n",
              "      <td>0.089975</td>\n",
              "      <td>-0.178290</td>\n",
              "      <td>0.149909</td>\n",
              "      <td>-0.412837</td>\n",
              "      <td>-0.240009</td>\n",
              "      <td>-0.557186</td>\n",
              "      <td>-0.030229</td>\n",
              "      <td>0.132785</td>\n",
              "      <td>-0.055152</td>\n",
              "      <td>0.037512</td>\n",
              "      <td>-0.211241</td>\n",
              "      <td>-0.008274</td>\n",
              "    </tr>\n",
              "    <tr>\n",
              "      <th>MSISDN</th>\n",
              "      <td>-0.269884</td>\n",
              "      <td>0.124938</td>\n",
              "      <td>1.000000</td>\n",
              "      <td>0.197660</td>\n",
              "      <td>-0.150993</td>\n",
              "      <td>0.356237</td>\n",
              "      <td>-0.342551</td>\n",
              "      <td>0.192487</td>\n",
              "      <td>-0.018109</td>\n",
              "      <td>0.565556</td>\n",
              "      <td>0.705879</td>\n",
              "      <td>-0.414200</td>\n",
              "      <td>0.075389</td>\n",
              "      <td>0.125617</td>\n",
              "      <td>-0.017131</td>\n",
              "      <td>-0.002241</td>\n",
              "    </tr>\n",
              "    <tr>\n",
              "      <th>DISTRIBUTER</th>\n",
              "      <td>0.026985</td>\n",
              "      <td>0.042307</td>\n",
              "      <td>0.197660</td>\n",
              "      <td>1.000000</td>\n",
              "      <td>-0.061458</td>\n",
              "      <td>-0.098610</td>\n",
              "      <td>0.033491</td>\n",
              "      <td>-0.013854</td>\n",
              "      <td>-0.008497</td>\n",
              "      <td>0.117748</td>\n",
              "      <td>0.145636</td>\n",
              "      <td>0.033391</td>\n",
              "      <td>0.016760</td>\n",
              "      <td>0.001777</td>\n",
              "      <td>-0.005076</td>\n",
              "      <td>0.006008</td>\n",
              "    </tr>\n",
              "    <tr>\n",
              "      <th>Plan_Name</th>\n",
              "      <td>0.019634</td>\n",
              "      <td>0.089975</td>\n",
              "      <td>-0.150993</td>\n",
              "      <td>-0.061458</td>\n",
              "      <td>1.000000</td>\n",
              "      <td>0.039761</td>\n",
              "      <td>0.014011</td>\n",
              "      <td>-0.102758</td>\n",
              "      <td>-0.036539</td>\n",
              "      <td>-0.126688</td>\n",
              "      <td>0.037718</td>\n",
              "      <td>0.035274</td>\n",
              "      <td>-0.031879</td>\n",
              "      <td>0.001784</td>\n",
              "      <td>-0.042993</td>\n",
              "      <td>0.001648</td>\n",
              "    </tr>\n",
              "    <tr>\n",
              "      <th>Customer Tenure</th>\n",
              "      <td>-0.421201</td>\n",
              "      <td>-0.178290</td>\n",
              "      <td>0.356237</td>\n",
              "      <td>-0.098610</td>\n",
              "      <td>0.039761</td>\n",
              "      <td>1.000000</td>\n",
              "      <td>-0.893602</td>\n",
              "      <td>0.275966</td>\n",
              "      <td>-0.090545</td>\n",
              "      <td>0.393923</td>\n",
              "      <td>0.393048</td>\n",
              "      <td>-0.739153</td>\n",
              "      <td>0.132699</td>\n",
              "      <td>0.418981</td>\n",
              "      <td>-0.082707</td>\n",
              "      <td>0.006843</td>\n",
              "    </tr>\n",
              "    <tr>\n",
              "      <th>Tenure Category</th>\n",
              "      <td>0.382901</td>\n",
              "      <td>0.149909</td>\n",
              "      <td>-0.342551</td>\n",
              "      <td>0.033491</td>\n",
              "      <td>0.014011</td>\n",
              "      <td>-0.893602</td>\n",
              "      <td>1.000000</td>\n",
              "      <td>-0.287346</td>\n",
              "      <td>0.017134</td>\n",
              "      <td>-0.368766</td>\n",
              "      <td>-0.349346</td>\n",
              "      <td>0.561741</td>\n",
              "      <td>-0.110883</td>\n",
              "      <td>-0.427939</td>\n",
              "      <td>0.017688</td>\n",
              "      <td>-0.007287</td>\n",
              "    </tr>\n",
              "    <tr>\n",
              "      <th>STATUS</th>\n",
              "      <td>-0.345499</td>\n",
              "      <td>-0.412837</td>\n",
              "      <td>0.192487</td>\n",
              "      <td>-0.013854</td>\n",
              "      <td>-0.102758</td>\n",
              "      <td>0.275966</td>\n",
              "      <td>-0.287346</td>\n",
              "      <td>1.000000</td>\n",
              "      <td>0.571101</td>\n",
              "      <td>0.473351</td>\n",
              "      <td>0.346342</td>\n",
              "      <td>-0.200298</td>\n",
              "      <td>0.199658</td>\n",
              "      <td>-0.076568</td>\n",
              "      <td>0.497667</td>\n",
              "      <td>0.000997</td>\n",
              "    </tr>\n",
              "    <tr>\n",
              "      <th>Status Reason</th>\n",
              "      <td>-0.137709</td>\n",
              "      <td>-0.240009</td>\n",
              "      <td>-0.018109</td>\n",
              "      <td>-0.008497</td>\n",
              "      <td>-0.036539</td>\n",
              "      <td>-0.090545</td>\n",
              "      <td>0.017134</td>\n",
              "      <td>0.571101</td>\n",
              "      <td>1.000000</td>\n",
              "      <td>0.177847</td>\n",
              "      <td>0.115474</td>\n",
              "      <td>0.189415</td>\n",
              "      <td>0.004614</td>\n",
              "      <td>-0.215511</td>\n",
              "      <td>0.420364</td>\n",
              "      <td>-0.002863</td>\n",
              "    </tr>\n",
              "    <tr>\n",
              "      <th>SEGMENT1</th>\n",
              "      <td>-0.422195</td>\n",
              "      <td>-0.557186</td>\n",
              "      <td>0.565556</td>\n",
              "      <td>0.117748</td>\n",
              "      <td>-0.126688</td>\n",
              "      <td>0.393923</td>\n",
              "      <td>-0.368766</td>\n",
              "      <td>0.473351</td>\n",
              "      <td>0.177847</td>\n",
              "      <td>1.000000</td>\n",
              "      <td>0.541823</td>\n",
              "      <td>-0.412604</td>\n",
              "      <td>0.098817</td>\n",
              "      <td>0.062436</td>\n",
              "      <td>0.154811</td>\n",
              "      <td>0.010219</td>\n",
              "    </tr>\n",
              "    <tr>\n",
              "      <th>SEGMENT2</th>\n",
              "      <td>-0.378896</td>\n",
              "      <td>-0.030229</td>\n",
              "      <td>0.705879</td>\n",
              "      <td>0.145636</td>\n",
              "      <td>0.037718</td>\n",
              "      <td>0.393048</td>\n",
              "      <td>-0.349346</td>\n",
              "      <td>0.346342</td>\n",
              "      <td>0.115474</td>\n",
              "      <td>0.541823</td>\n",
              "      <td>1.000000</td>\n",
              "      <td>-0.387417</td>\n",
              "      <td>0.063998</td>\n",
              "      <td>0.072887</td>\n",
              "      <td>0.091859</td>\n",
              "      <td>-0.001545</td>\n",
              "    </tr>\n",
              "    <tr>\n",
              "      <th>Churn Flag</th>\n",
              "      <td>0.281336</td>\n",
              "      <td>0.132785</td>\n",
              "      <td>-0.414200</td>\n",
              "      <td>0.033391</td>\n",
              "      <td>0.035274</td>\n",
              "      <td>-0.739153</td>\n",
              "      <td>0.561741</td>\n",
              "      <td>-0.200298</td>\n",
              "      <td>0.189415</td>\n",
              "      <td>-0.412604</td>\n",
              "      <td>-0.387417</td>\n",
              "      <td>1.000000</td>\n",
              "      <td>-0.140373</td>\n",
              "      <td>-0.340876</td>\n",
              "      <td>0.179634</td>\n",
              "      <td>-0.003286</td>\n",
              "    </tr>\n",
              "    <tr>\n",
              "      <th>Customer Interaction Score</th>\n",
              "      <td>-0.068850</td>\n",
              "      <td>-0.055152</td>\n",
              "      <td>0.075389</td>\n",
              "      <td>0.016760</td>\n",
              "      <td>-0.031879</td>\n",
              "      <td>0.132699</td>\n",
              "      <td>-0.110883</td>\n",
              "      <td>0.199658</td>\n",
              "      <td>0.004614</td>\n",
              "      <td>0.098817</td>\n",
              "      <td>0.063998</td>\n",
              "      <td>-0.140373</td>\n",
              "      <td>1.000000</td>\n",
              "      <td>0.094935</td>\n",
              "      <td>-0.025100</td>\n",
              "      <td>0.000152</td>\n",
              "    </tr>\n",
              "    <tr>\n",
              "      <th>Loyalty Points</th>\n",
              "      <td>-0.090820</td>\n",
              "      <td>0.037512</td>\n",
              "      <td>0.125617</td>\n",
              "      <td>0.001777</td>\n",
              "      <td>0.001784</td>\n",
              "      <td>0.418981</td>\n",
              "      <td>-0.427939</td>\n",
              "      <td>-0.076568</td>\n",
              "      <td>-0.215511</td>\n",
              "      <td>0.062436</td>\n",
              "      <td>0.072887</td>\n",
              "      <td>-0.340876</td>\n",
              "      <td>0.094935</td>\n",
              "      <td>1.000000</td>\n",
              "      <td>-0.180110</td>\n",
              "      <td>-0.010628</td>\n",
              "    </tr>\n",
              "    <tr>\n",
              "      <th>Data Usage Tier</th>\n",
              "      <td>-0.116567</td>\n",
              "      <td>-0.211241</td>\n",
              "      <td>-0.017131</td>\n",
              "      <td>-0.005076</td>\n",
              "      <td>-0.042993</td>\n",
              "      <td>-0.082707</td>\n",
              "      <td>0.017688</td>\n",
              "      <td>0.497667</td>\n",
              "      <td>0.420364</td>\n",
              "      <td>0.154811</td>\n",
              "      <td>0.091859</td>\n",
              "      <td>0.179634</td>\n",
              "      <td>-0.025100</td>\n",
              "      <td>-0.180110</td>\n",
              "      <td>1.000000</td>\n",
              "      <td>0.005505</td>\n",
              "    </tr>\n",
              "    <tr>\n",
              "      <th>Customer Segment Change Flag</th>\n",
              "      <td>-0.002611</td>\n",
              "      <td>-0.008274</td>\n",
              "      <td>-0.002241</td>\n",
              "      <td>0.006008</td>\n",
              "      <td>0.001648</td>\n",
              "      <td>0.006843</td>\n",
              "      <td>-0.007287</td>\n",
              "      <td>0.000997</td>\n",
              "      <td>-0.002863</td>\n",
              "      <td>0.010219</td>\n",
              "      <td>-0.001545</td>\n",
              "      <td>-0.003286</td>\n",
              "      <td>0.000152</td>\n",
              "      <td>-0.010628</td>\n",
              "      <td>0.005505</td>\n",
              "      <td>1.000000</td>\n",
              "    </tr>\n",
              "  </tbody>\n",
              "</table>\n",
              "</div>\n",
              "    <div class=\"colab-df-buttons\">\n",
              "\n",
              "  <div class=\"colab-df-container\">\n",
              "    <button class=\"colab-df-convert\" onclick=\"convertToInteractive('df-377161ad-508a-4bd7-acce-c9668e6bf1f2')\"\n",
              "            title=\"Convert this dataframe to an interactive table.\"\n",
              "            style=\"display:none;\">\n",
              "\n",
              "  <svg xmlns=\"http://www.w3.org/2000/svg\" height=\"24px\" viewBox=\"0 -960 960 960\">\n",
              "    <path d=\"M120-120v-720h720v720H120Zm60-500h600v-160H180v160Zm220 220h160v-160H400v160Zm0 220h160v-160H400v160ZM180-400h160v-160H180v160Zm440 0h160v-160H620v160ZM180-180h160v-160H180v160Zm440 0h160v-160H620v160Z\"/>\n",
              "  </svg>\n",
              "    </button>\n",
              "\n",
              "  <style>\n",
              "    .colab-df-container {\n",
              "      display:flex;\n",
              "      gap: 12px;\n",
              "    }\n",
              "\n",
              "    .colab-df-convert {\n",
              "      background-color: #E8F0FE;\n",
              "      border: none;\n",
              "      border-radius: 50%;\n",
              "      cursor: pointer;\n",
              "      display: none;\n",
              "      fill: #1967D2;\n",
              "      height: 32px;\n",
              "      padding: 0 0 0 0;\n",
              "      width: 32px;\n",
              "    }\n",
              "\n",
              "    .colab-df-convert:hover {\n",
              "      background-color: #E2EBFA;\n",
              "      box-shadow: 0px 1px 2px rgba(60, 64, 67, 0.3), 0px 1px 3px 1px rgba(60, 64, 67, 0.15);\n",
              "      fill: #174EA6;\n",
              "    }\n",
              "\n",
              "    .colab-df-buttons div {\n",
              "      margin-bottom: 4px;\n",
              "    }\n",
              "\n",
              "    [theme=dark] .colab-df-convert {\n",
              "      background-color: #3B4455;\n",
              "      fill: #D2E3FC;\n",
              "    }\n",
              "\n",
              "    [theme=dark] .colab-df-convert:hover {\n",
              "      background-color: #434B5C;\n",
              "      box-shadow: 0px 1px 3px 1px rgba(0, 0, 0, 0.15);\n",
              "      filter: drop-shadow(0px 1px 2px rgba(0, 0, 0, 0.3));\n",
              "      fill: #FFFFFF;\n",
              "    }\n",
              "  </style>\n",
              "\n",
              "    <script>\n",
              "      const buttonEl =\n",
              "        document.querySelector('#df-377161ad-508a-4bd7-acce-c9668e6bf1f2 button.colab-df-convert');\n",
              "      buttonEl.style.display =\n",
              "        google.colab.kernel.accessAllowed ? 'block' : 'none';\n",
              "\n",
              "      async function convertToInteractive(key) {\n",
              "        const element = document.querySelector('#df-377161ad-508a-4bd7-acce-c9668e6bf1f2');\n",
              "        const dataTable =\n",
              "          await google.colab.kernel.invokeFunction('convertToInteractive',\n",
              "                                                    [key], {});\n",
              "        if (!dataTable) return;\n",
              "\n",
              "        const docLinkHtml = 'Like what you see? Visit the ' +\n",
              "          '<a target=\"_blank\" href=https://colab.research.google.com/notebooks/data_table.ipynb>data table notebook</a>'\n",
              "          + ' to learn more about interactive tables.';\n",
              "        element.innerHTML = '';\n",
              "        dataTable['output_type'] = 'display_data';\n",
              "        await google.colab.output.renderOutput(dataTable, element);\n",
              "        const docLink = document.createElement('div');\n",
              "        docLink.innerHTML = docLinkHtml;\n",
              "        element.appendChild(docLink);\n",
              "      }\n",
              "    </script>\n",
              "  </div>\n",
              "\n",
              "\n",
              "<div id=\"df-54c82cd1-fafc-4e8b-8afc-62e584976b3e\">\n",
              "  <button class=\"colab-df-quickchart\" onclick=\"quickchart('df-54c82cd1-fafc-4e8b-8afc-62e584976b3e')\"\n",
              "            title=\"Suggest charts\"\n",
              "            style=\"display:none;\">\n",
              "\n",
              "<svg xmlns=\"http://www.w3.org/2000/svg\" height=\"24px\"viewBox=\"0 0 24 24\"\n",
              "     width=\"24px\">\n",
              "    <g>\n",
              "        <path d=\"M19 3H5c-1.1 0-2 .9-2 2v14c0 1.1.9 2 2 2h14c1.1 0 2-.9 2-2V5c0-1.1-.9-2-2-2zM9 17H7v-7h2v7zm4 0h-2V7h2v10zm4 0h-2v-4h2v4z\"/>\n",
              "    </g>\n",
              "</svg>\n",
              "  </button>\n",
              "\n",
              "<style>\n",
              "  .colab-df-quickchart {\n",
              "      --bg-color: #E8F0FE;\n",
              "      --fill-color: #1967D2;\n",
              "      --hover-bg-color: #E2EBFA;\n",
              "      --hover-fill-color: #174EA6;\n",
              "      --disabled-fill-color: #AAA;\n",
              "      --disabled-bg-color: #DDD;\n",
              "  }\n",
              "\n",
              "  [theme=dark] .colab-df-quickchart {\n",
              "      --bg-color: #3B4455;\n",
              "      --fill-color: #D2E3FC;\n",
              "      --hover-bg-color: #434B5C;\n",
              "      --hover-fill-color: #FFFFFF;\n",
              "      --disabled-bg-color: #3B4455;\n",
              "      --disabled-fill-color: #666;\n",
              "  }\n",
              "\n",
              "  .colab-df-quickchart {\n",
              "    background-color: var(--bg-color);\n",
              "    border: none;\n",
              "    border-radius: 50%;\n",
              "    cursor: pointer;\n",
              "    display: none;\n",
              "    fill: var(--fill-color);\n",
              "    height: 32px;\n",
              "    padding: 0;\n",
              "    width: 32px;\n",
              "  }\n",
              "\n",
              "  .colab-df-quickchart:hover {\n",
              "    background-color: var(--hover-bg-color);\n",
              "    box-shadow: 0 1px 2px rgba(60, 64, 67, 0.3), 0 1px 3px 1px rgba(60, 64, 67, 0.15);\n",
              "    fill: var(--button-hover-fill-color);\n",
              "  }\n",
              "\n",
              "  .colab-df-quickchart-complete:disabled,\n",
              "  .colab-df-quickchart-complete:disabled:hover {\n",
              "    background-color: var(--disabled-bg-color);\n",
              "    fill: var(--disabled-fill-color);\n",
              "    box-shadow: none;\n",
              "  }\n",
              "\n",
              "  .colab-df-spinner {\n",
              "    border: 2px solid var(--fill-color);\n",
              "    border-color: transparent;\n",
              "    border-bottom-color: var(--fill-color);\n",
              "    animation:\n",
              "      spin 1s steps(1) infinite;\n",
              "  }\n",
              "\n",
              "  @keyframes spin {\n",
              "    0% {\n",
              "      border-color: transparent;\n",
              "      border-bottom-color: var(--fill-color);\n",
              "      border-left-color: var(--fill-color);\n",
              "    }\n",
              "    20% {\n",
              "      border-color: transparent;\n",
              "      border-left-color: var(--fill-color);\n",
              "      border-top-color: var(--fill-color);\n",
              "    }\n",
              "    30% {\n",
              "      border-color: transparent;\n",
              "      border-left-color: var(--fill-color);\n",
              "      border-top-color: var(--fill-color);\n",
              "      border-right-color: var(--fill-color);\n",
              "    }\n",
              "    40% {\n",
              "      border-color: transparent;\n",
              "      border-right-color: var(--fill-color);\n",
              "      border-top-color: var(--fill-color);\n",
              "    }\n",
              "    60% {\n",
              "      border-color: transparent;\n",
              "      border-right-color: var(--fill-color);\n",
              "    }\n",
              "    80% {\n",
              "      border-color: transparent;\n",
              "      border-right-color: var(--fill-color);\n",
              "      border-bottom-color: var(--fill-color);\n",
              "    }\n",
              "    90% {\n",
              "      border-color: transparent;\n",
              "      border-bottom-color: var(--fill-color);\n",
              "    }\n",
              "  }\n",
              "</style>\n",
              "\n",
              "  <script>\n",
              "    async function quickchart(key) {\n",
              "      const quickchartButtonEl =\n",
              "        document.querySelector('#' + key + ' button');\n",
              "      quickchartButtonEl.disabled = true;  // To prevent multiple clicks.\n",
              "      quickchartButtonEl.classList.add('colab-df-spinner');\n",
              "      try {\n",
              "        const charts = await google.colab.kernel.invokeFunction(\n",
              "            'suggestCharts', [key], {});\n",
              "      } catch (error) {\n",
              "        console.error('Error during call to suggestCharts:', error);\n",
              "      }\n",
              "      quickchartButtonEl.classList.remove('colab-df-spinner');\n",
              "      quickchartButtonEl.classList.add('colab-df-quickchart-complete');\n",
              "    }\n",
              "    (() => {\n",
              "      let quickchartButtonEl =\n",
              "        document.querySelector('#df-54c82cd1-fafc-4e8b-8afc-62e584976b3e button');\n",
              "      quickchartButtonEl.style.display =\n",
              "        google.colab.kernel.accessAllowed ? 'block' : 'none';\n",
              "    })();\n",
              "  </script>\n",
              "</div>\n",
              "\n",
              "    </div>\n",
              "  </div>\n"
            ]
          },
          "metadata": {},
          "execution_count": 46
        }
      ]
    },
    {
      "cell_type": "code",
      "source": [
        "df['ACTIVE_YEAR'] = df['ACTIVE_DATE'].dt.year # drop - 2monthes + adding weeks\n",
        "df['ACTIVE_MONTH'] = df['ACTIVE_DATE'].dt.month\n",
        "df['ACTIVE_DAY'] = df['ACTIVE_DATE'].dt.day"
      ],
      "metadata": {
        "id": "Tk07a087UZdz"
      },
      "execution_count": 47,
      "outputs": []
    },
    {
      "cell_type": "code",
      "source": [
        "df.drop('ACTIVE_DATE', axis = 1, inplace = True)"
      ],
      "metadata": {
        "id": "4Y6jIeQZUira"
      },
      "execution_count": 48,
      "outputs": []
    },
    {
      "cell_type": "code",
      "source": [
        "df.head()"
      ],
      "metadata": {
        "colab": {
          "base_uri": "https://localhost:8080/",
          "height": 278
        },
        "id": "kyQUl8_GVth5",
        "outputId": "4e4bbe2d-fed8-4ba2-9585-1dfcd4fc5cde"
      },
      "execution_count": 49,
      "outputs": [
        {
          "output_type": "execute_result",
          "data": {
            "text/plain": [
              "      CO_ID  USER_CREATED_BY     MSISDN  DISTRIBUTER  Plan_Name  \\\n",
              "0  31154967               15  891476116           15          0   \n",
              "1  31719208              589  891433210           34          5   \n",
              "2  30566993               15  882740023           47          3   \n",
              "3  31654015               47  529853159           40         21   \n",
              "4  31237322               47  883224490           40         18   \n",
              "\n",
              "   Customer Tenure  Tenure Category  STATUS  Status Reason  SEGMENT1  \\\n",
              "0               88                1       2             18         6   \n",
              "1               95                1       0              0         3   \n",
              "2              104                1       0              0         6   \n",
              "3               39                2       1             14         3   \n",
              "4               18                2       1              8         3   \n",
              "\n",
              "   SEGMENT2  Churn Flag  Customer Interaction Score  Loyalty Points  \\\n",
              "0         2           1                           3              48   \n",
              "1         1           1                           7              65   \n",
              "2         1           1                           6              65   \n",
              "3         0           1                           9              73   \n",
              "4         0           1                           5              10   \n",
              "\n",
              "   Data Usage Tier  Customer Segment Change Flag  ACTIVE_YEAR  ACTIVE_MONTH  \\\n",
              "0                1                             1         2023            10   \n",
              "1                0                             1         2023             9   \n",
              "2                2                             1         2023             9   \n",
              "3                1                             1         2023             9   \n",
              "4                0                             1         2023             8   \n",
              "\n",
              "   ACTIVE_DAY  \n",
              "0           5  \n",
              "1          28  \n",
              "2          19  \n",
              "3          13  \n",
              "4          10  "
            ],
            "text/html": [
              "\n",
              "  <div id=\"df-22300f95-0d6a-497f-abbc-f32f809d31da\" class=\"colab-df-container\">\n",
              "    <div>\n",
              "<style scoped>\n",
              "    .dataframe tbody tr th:only-of-type {\n",
              "        vertical-align: middle;\n",
              "    }\n",
              "\n",
              "    .dataframe tbody tr th {\n",
              "        vertical-align: top;\n",
              "    }\n",
              "\n",
              "    .dataframe thead th {\n",
              "        text-align: right;\n",
              "    }\n",
              "</style>\n",
              "<table border=\"1\" class=\"dataframe\">\n",
              "  <thead>\n",
              "    <tr style=\"text-align: right;\">\n",
              "      <th></th>\n",
              "      <th>CO_ID</th>\n",
              "      <th>USER_CREATED_BY</th>\n",
              "      <th>MSISDN</th>\n",
              "      <th>DISTRIBUTER</th>\n",
              "      <th>Plan_Name</th>\n",
              "      <th>Customer Tenure</th>\n",
              "      <th>Tenure Category</th>\n",
              "      <th>STATUS</th>\n",
              "      <th>Status Reason</th>\n",
              "      <th>SEGMENT1</th>\n",
              "      <th>SEGMENT2</th>\n",
              "      <th>Churn Flag</th>\n",
              "      <th>Customer Interaction Score</th>\n",
              "      <th>Loyalty Points</th>\n",
              "      <th>Data Usage Tier</th>\n",
              "      <th>Customer Segment Change Flag</th>\n",
              "      <th>ACTIVE_YEAR</th>\n",
              "      <th>ACTIVE_MONTH</th>\n",
              "      <th>ACTIVE_DAY</th>\n",
              "    </tr>\n",
              "  </thead>\n",
              "  <tbody>\n",
              "    <tr>\n",
              "      <th>0</th>\n",
              "      <td>31154967</td>\n",
              "      <td>15</td>\n",
              "      <td>891476116</td>\n",
              "      <td>15</td>\n",
              "      <td>0</td>\n",
              "      <td>88</td>\n",
              "      <td>1</td>\n",
              "      <td>2</td>\n",
              "      <td>18</td>\n",
              "      <td>6</td>\n",
              "      <td>2</td>\n",
              "      <td>1</td>\n",
              "      <td>3</td>\n",
              "      <td>48</td>\n",
              "      <td>1</td>\n",
              "      <td>1</td>\n",
              "      <td>2023</td>\n",
              "      <td>10</td>\n",
              "      <td>5</td>\n",
              "    </tr>\n",
              "    <tr>\n",
              "      <th>1</th>\n",
              "      <td>31719208</td>\n",
              "      <td>589</td>\n",
              "      <td>891433210</td>\n",
              "      <td>34</td>\n",
              "      <td>5</td>\n",
              "      <td>95</td>\n",
              "      <td>1</td>\n",
              "      <td>0</td>\n",
              "      <td>0</td>\n",
              "      <td>3</td>\n",
              "      <td>1</td>\n",
              "      <td>1</td>\n",
              "      <td>7</td>\n",
              "      <td>65</td>\n",
              "      <td>0</td>\n",
              "      <td>1</td>\n",
              "      <td>2023</td>\n",
              "      <td>9</td>\n",
              "      <td>28</td>\n",
              "    </tr>\n",
              "    <tr>\n",
              "      <th>2</th>\n",
              "      <td>30566993</td>\n",
              "      <td>15</td>\n",
              "      <td>882740023</td>\n",
              "      <td>47</td>\n",
              "      <td>3</td>\n",
              "      <td>104</td>\n",
              "      <td>1</td>\n",
              "      <td>0</td>\n",
              "      <td>0</td>\n",
              "      <td>6</td>\n",
              "      <td>1</td>\n",
              "      <td>1</td>\n",
              "      <td>6</td>\n",
              "      <td>65</td>\n",
              "      <td>2</td>\n",
              "      <td>1</td>\n",
              "      <td>2023</td>\n",
              "      <td>9</td>\n",
              "      <td>19</td>\n",
              "    </tr>\n",
              "    <tr>\n",
              "      <th>3</th>\n",
              "      <td>31654015</td>\n",
              "      <td>47</td>\n",
              "      <td>529853159</td>\n",
              "      <td>40</td>\n",
              "      <td>21</td>\n",
              "      <td>39</td>\n",
              "      <td>2</td>\n",
              "      <td>1</td>\n",
              "      <td>14</td>\n",
              "      <td>3</td>\n",
              "      <td>0</td>\n",
              "      <td>1</td>\n",
              "      <td>9</td>\n",
              "      <td>73</td>\n",
              "      <td>1</td>\n",
              "      <td>1</td>\n",
              "      <td>2023</td>\n",
              "      <td>9</td>\n",
              "      <td>13</td>\n",
              "    </tr>\n",
              "    <tr>\n",
              "      <th>4</th>\n",
              "      <td>31237322</td>\n",
              "      <td>47</td>\n",
              "      <td>883224490</td>\n",
              "      <td>40</td>\n",
              "      <td>18</td>\n",
              "      <td>18</td>\n",
              "      <td>2</td>\n",
              "      <td>1</td>\n",
              "      <td>8</td>\n",
              "      <td>3</td>\n",
              "      <td>0</td>\n",
              "      <td>1</td>\n",
              "      <td>5</td>\n",
              "      <td>10</td>\n",
              "      <td>0</td>\n",
              "      <td>1</td>\n",
              "      <td>2023</td>\n",
              "      <td>8</td>\n",
              "      <td>10</td>\n",
              "    </tr>\n",
              "  </tbody>\n",
              "</table>\n",
              "</div>\n",
              "    <div class=\"colab-df-buttons\">\n",
              "\n",
              "  <div class=\"colab-df-container\">\n",
              "    <button class=\"colab-df-convert\" onclick=\"convertToInteractive('df-22300f95-0d6a-497f-abbc-f32f809d31da')\"\n",
              "            title=\"Convert this dataframe to an interactive table.\"\n",
              "            style=\"display:none;\">\n",
              "\n",
              "  <svg xmlns=\"http://www.w3.org/2000/svg\" height=\"24px\" viewBox=\"0 -960 960 960\">\n",
              "    <path d=\"M120-120v-720h720v720H120Zm60-500h600v-160H180v160Zm220 220h160v-160H400v160Zm0 220h160v-160H400v160ZM180-400h160v-160H180v160Zm440 0h160v-160H620v160ZM180-180h160v-160H180v160Zm440 0h160v-160H620v160Z\"/>\n",
              "  </svg>\n",
              "    </button>\n",
              "\n",
              "  <style>\n",
              "    .colab-df-container {\n",
              "      display:flex;\n",
              "      gap: 12px;\n",
              "    }\n",
              "\n",
              "    .colab-df-convert {\n",
              "      background-color: #E8F0FE;\n",
              "      border: none;\n",
              "      border-radius: 50%;\n",
              "      cursor: pointer;\n",
              "      display: none;\n",
              "      fill: #1967D2;\n",
              "      height: 32px;\n",
              "      padding: 0 0 0 0;\n",
              "      width: 32px;\n",
              "    }\n",
              "\n",
              "    .colab-df-convert:hover {\n",
              "      background-color: #E2EBFA;\n",
              "      box-shadow: 0px 1px 2px rgba(60, 64, 67, 0.3), 0px 1px 3px 1px rgba(60, 64, 67, 0.15);\n",
              "      fill: #174EA6;\n",
              "    }\n",
              "\n",
              "    .colab-df-buttons div {\n",
              "      margin-bottom: 4px;\n",
              "    }\n",
              "\n",
              "    [theme=dark] .colab-df-convert {\n",
              "      background-color: #3B4455;\n",
              "      fill: #D2E3FC;\n",
              "    }\n",
              "\n",
              "    [theme=dark] .colab-df-convert:hover {\n",
              "      background-color: #434B5C;\n",
              "      box-shadow: 0px 1px 3px 1px rgba(0, 0, 0, 0.15);\n",
              "      filter: drop-shadow(0px 1px 2px rgba(0, 0, 0, 0.3));\n",
              "      fill: #FFFFFF;\n",
              "    }\n",
              "  </style>\n",
              "\n",
              "    <script>\n",
              "      const buttonEl =\n",
              "        document.querySelector('#df-22300f95-0d6a-497f-abbc-f32f809d31da button.colab-df-convert');\n",
              "      buttonEl.style.display =\n",
              "        google.colab.kernel.accessAllowed ? 'block' : 'none';\n",
              "\n",
              "      async function convertToInteractive(key) {\n",
              "        const element = document.querySelector('#df-22300f95-0d6a-497f-abbc-f32f809d31da');\n",
              "        const dataTable =\n",
              "          await google.colab.kernel.invokeFunction('convertToInteractive',\n",
              "                                                    [key], {});\n",
              "        if (!dataTable) return;\n",
              "\n",
              "        const docLinkHtml = 'Like what you see? Visit the ' +\n",
              "          '<a target=\"_blank\" href=https://colab.research.google.com/notebooks/data_table.ipynb>data table notebook</a>'\n",
              "          + ' to learn more about interactive tables.';\n",
              "        element.innerHTML = '';\n",
              "        dataTable['output_type'] = 'display_data';\n",
              "        await google.colab.output.renderOutput(dataTable, element);\n",
              "        const docLink = document.createElement('div');\n",
              "        docLink.innerHTML = docLinkHtml;\n",
              "        element.appendChild(docLink);\n",
              "      }\n",
              "    </script>\n",
              "  </div>\n",
              "\n",
              "\n",
              "<div id=\"df-6e6b65b8-9dc5-451c-b620-e22f00494cf3\">\n",
              "  <button class=\"colab-df-quickchart\" onclick=\"quickchart('df-6e6b65b8-9dc5-451c-b620-e22f00494cf3')\"\n",
              "            title=\"Suggest charts\"\n",
              "            style=\"display:none;\">\n",
              "\n",
              "<svg xmlns=\"http://www.w3.org/2000/svg\" height=\"24px\"viewBox=\"0 0 24 24\"\n",
              "     width=\"24px\">\n",
              "    <g>\n",
              "        <path d=\"M19 3H5c-1.1 0-2 .9-2 2v14c0 1.1.9 2 2 2h14c1.1 0 2-.9 2-2V5c0-1.1-.9-2-2-2zM9 17H7v-7h2v7zm4 0h-2V7h2v10zm4 0h-2v-4h2v4z\"/>\n",
              "    </g>\n",
              "</svg>\n",
              "  </button>\n",
              "\n",
              "<style>\n",
              "  .colab-df-quickchart {\n",
              "      --bg-color: #E8F0FE;\n",
              "      --fill-color: #1967D2;\n",
              "      --hover-bg-color: #E2EBFA;\n",
              "      --hover-fill-color: #174EA6;\n",
              "      --disabled-fill-color: #AAA;\n",
              "      --disabled-bg-color: #DDD;\n",
              "  }\n",
              "\n",
              "  [theme=dark] .colab-df-quickchart {\n",
              "      --bg-color: #3B4455;\n",
              "      --fill-color: #D2E3FC;\n",
              "      --hover-bg-color: #434B5C;\n",
              "      --hover-fill-color: #FFFFFF;\n",
              "      --disabled-bg-color: #3B4455;\n",
              "      --disabled-fill-color: #666;\n",
              "  }\n",
              "\n",
              "  .colab-df-quickchart {\n",
              "    background-color: var(--bg-color);\n",
              "    border: none;\n",
              "    border-radius: 50%;\n",
              "    cursor: pointer;\n",
              "    display: none;\n",
              "    fill: var(--fill-color);\n",
              "    height: 32px;\n",
              "    padding: 0;\n",
              "    width: 32px;\n",
              "  }\n",
              "\n",
              "  .colab-df-quickchart:hover {\n",
              "    background-color: var(--hover-bg-color);\n",
              "    box-shadow: 0 1px 2px rgba(60, 64, 67, 0.3), 0 1px 3px 1px rgba(60, 64, 67, 0.15);\n",
              "    fill: var(--button-hover-fill-color);\n",
              "  }\n",
              "\n",
              "  .colab-df-quickchart-complete:disabled,\n",
              "  .colab-df-quickchart-complete:disabled:hover {\n",
              "    background-color: var(--disabled-bg-color);\n",
              "    fill: var(--disabled-fill-color);\n",
              "    box-shadow: none;\n",
              "  }\n",
              "\n",
              "  .colab-df-spinner {\n",
              "    border: 2px solid var(--fill-color);\n",
              "    border-color: transparent;\n",
              "    border-bottom-color: var(--fill-color);\n",
              "    animation:\n",
              "      spin 1s steps(1) infinite;\n",
              "  }\n",
              "\n",
              "  @keyframes spin {\n",
              "    0% {\n",
              "      border-color: transparent;\n",
              "      border-bottom-color: var(--fill-color);\n",
              "      border-left-color: var(--fill-color);\n",
              "    }\n",
              "    20% {\n",
              "      border-color: transparent;\n",
              "      border-left-color: var(--fill-color);\n",
              "      border-top-color: var(--fill-color);\n",
              "    }\n",
              "    30% {\n",
              "      border-color: transparent;\n",
              "      border-left-color: var(--fill-color);\n",
              "      border-top-color: var(--fill-color);\n",
              "      border-right-color: var(--fill-color);\n",
              "    }\n",
              "    40% {\n",
              "      border-color: transparent;\n",
              "      border-right-color: var(--fill-color);\n",
              "      border-top-color: var(--fill-color);\n",
              "    }\n",
              "    60% {\n",
              "      border-color: transparent;\n",
              "      border-right-color: var(--fill-color);\n",
              "    }\n",
              "    80% {\n",
              "      border-color: transparent;\n",
              "      border-right-color: var(--fill-color);\n",
              "      border-bottom-color: var(--fill-color);\n",
              "    }\n",
              "    90% {\n",
              "      border-color: transparent;\n",
              "      border-bottom-color: var(--fill-color);\n",
              "    }\n",
              "  }\n",
              "</style>\n",
              "\n",
              "  <script>\n",
              "    async function quickchart(key) {\n",
              "      const quickchartButtonEl =\n",
              "        document.querySelector('#' + key + ' button');\n",
              "      quickchartButtonEl.disabled = true;  // To prevent multiple clicks.\n",
              "      quickchartButtonEl.classList.add('colab-df-spinner');\n",
              "      try {\n",
              "        const charts = await google.colab.kernel.invokeFunction(\n",
              "            'suggestCharts', [key], {});\n",
              "      } catch (error) {\n",
              "        console.error('Error during call to suggestCharts:', error);\n",
              "      }\n",
              "      quickchartButtonEl.classList.remove('colab-df-spinner');\n",
              "      quickchartButtonEl.classList.add('colab-df-quickchart-complete');\n",
              "    }\n",
              "    (() => {\n",
              "      let quickchartButtonEl =\n",
              "        document.querySelector('#df-6e6b65b8-9dc5-451c-b620-e22f00494cf3 button');\n",
              "      quickchartButtonEl.style.display =\n",
              "        google.colab.kernel.accessAllowed ? 'block' : 'none';\n",
              "    })();\n",
              "  </script>\n",
              "</div>\n",
              "\n",
              "    </div>\n",
              "  </div>\n"
            ]
          },
          "metadata": {},
          "execution_count": 49
        }
      ]
    },
    {
      "cell_type": "code",
      "source": [
        "df['ACTIVE_YEAR'].unique()"
      ],
      "metadata": {
        "colab": {
          "base_uri": "https://localhost:8080/"
        },
        "id": "wch8hbQ-V45J",
        "outputId": "a77ca706-7d74-4bd4-96b2-34da7719b656"
      },
      "execution_count": 50,
      "outputs": [
        {
          "output_type": "execute_result",
          "data": {
            "text/plain": [
              "array([2023])"
            ]
          },
          "metadata": {},
          "execution_count": 50
        }
      ]
    },
    {
      "cell_type": "code",
      "source": [
        "df.drop('ACTIVE_YEAR', axis = 1, inplace = True)"
      ],
      "metadata": {
        "id": "IrwH62hEWCO3"
      },
      "execution_count": 51,
      "outputs": []
    },
    {
      "cell_type": "markdown",
      "source": [
        "# **std**"
      ],
      "metadata": {
        "id": "EbGWjsXKTvRL"
      }
    },
    {
      "cell_type": "code",
      "source": [
        "df.info()"
      ],
      "metadata": {
        "colab": {
          "base_uri": "https://localhost:8080/"
        },
        "id": "fQYOlHc4U1qc",
        "outputId": "a8da92cd-c540-4265-b862-909a0c523fec"
      },
      "execution_count": 52,
      "outputs": [
        {
          "output_type": "stream",
          "name": "stdout",
          "text": [
            "<class 'pandas.core.frame.DataFrame'>\n",
            "Int64Index: 27922 entries, 0 to 30007\n",
            "Data columns (total 18 columns):\n",
            " #   Column                        Non-Null Count  Dtype\n",
            "---  ------                        --------------  -----\n",
            " 0   CO_ID                         27922 non-null  int64\n",
            " 1   USER_CREATED_BY               27922 non-null  int64\n",
            " 2   MSISDN                        27922 non-null  int64\n",
            " 3   DISTRIBUTER                   27922 non-null  int64\n",
            " 4   Plan_Name                     27922 non-null  int64\n",
            " 5   Customer Tenure               27922 non-null  int64\n",
            " 6   Tenure Category               27922 non-null  int64\n",
            " 7   STATUS                        27922 non-null  int64\n",
            " 8   Status Reason                 27922 non-null  int64\n",
            " 9   SEGMENT1                      27922 non-null  int64\n",
            " 10  SEGMENT2                      27922 non-null  int64\n",
            " 11  Churn Flag                    27922 non-null  int64\n",
            " 12  Customer Interaction Score    27922 non-null  int64\n",
            " 13  Loyalty Points                27922 non-null  int64\n",
            " 14  Data Usage Tier               27922 non-null  int64\n",
            " 15  Customer Segment Change Flag  27922 non-null  int64\n",
            " 16  ACTIVE_MONTH                  27922 non-null  int64\n",
            " 17  ACTIVE_DAY                    27922 non-null  int64\n",
            "dtypes: int64(18)\n",
            "memory usage: 4.0 MB\n"
          ]
        }
      ]
    },
    {
      "cell_type": "code",
      "source": [
        "numerical_columns = ['Customer Tenure']\n",
        "\n",
        "# Plotting the distribution of each numerical column\n",
        "plt.figure(figsize=(15, 10))\n",
        "for i, col in enumerate(numerical_columns, 1):\n",
        "    plt.subplot(3, 3, i)\n",
        "    sns.histplot(df[col], kde=True)\n",
        "    plt.title(f'Distribution of {col}')\n",
        "    plt.tight_layout()\n",
        "\n",
        "plt.show()"
      ],
      "metadata": {
        "colab": {
          "base_uri": "https://localhost:8080/",
          "height": 379
        },
        "id": "5HbRD1igYaNI",
        "outputId": "e76f8f9e-2fef-43a8-e416-4bc8458c4fac"
      },
      "execution_count": 53,
      "outputs": [
        {
          "output_type": "display_data",
          "data": {
            "text/plain": [
              "<Figure size 1500x1000 with 1 Axes>"
            ],
            "image/png": "[encoded data removed]"
          },
          "metadata": {}
        }
      ]
    },
    {
      "cell_type": "code",
      "source": [
        "from sklearn.preprocessing import StandardScaler\n",
        "\n",
        "# Selecting the columns for standardization\n",
        "columns_to_standardize = ['Customer Tenure']\n",
        "\n",
        "# Applying standardization to the specified columns in 'df'\n",
        "scaler = StandardScaler()\n",
        "df[columns_to_standardize] = scaler.fit_transform(df[columns_to_standardize])\n",
        "\n",
        "# Displaying the first few rows of the DataFrame after standardization\n",
        "df.head()"
      ],
      "metadata": {
        "colab": {
          "base_uri": "https://localhost:8080/",
          "height": 278
        },
        "id": "G547diHwkaOK",
        "outputId": "e8a92d43-1f3b-49d1-8b11-02bb6bf1fdfb"
      },
      "execution_count": 54,
      "outputs": [
        {
          "output_type": "execute_result",
          "data": {
            "text/plain": [
              "      CO_ID  USER_CREATED_BY     MSISDN  DISTRIBUTER  Plan_Name  \\\n",
              "0  31154967               15  891476116           15          0   \n",
              "1  31719208              589  891433210           34          5   \n",
              "2  30566993               15  882740023           47          3   \n",
              "3  31654015               47  529853159           40         21   \n",
              "4  31237322               47  883224490           40         18   \n",
              "\n",
              "   Customer Tenure  Tenure Category  STATUS  Status Reason  SEGMENT1  \\\n",
              "0         0.103512                1       2             18         6   \n",
              "1         0.256391                1       0              0         3   \n",
              "2         0.452950                1       0              0         6   \n",
              "3        -0.966640                2       1             14         3   \n",
              "4        -1.425277                2       1              8         3   \n",
              "\n",
              "   SEGMENT2  Churn Flag  Customer Interaction Score  Loyalty Points  \\\n",
              "0         2           1                           3              48   \n",
              "1         1           1                           7              65   \n",
              "2         1           1                           6              65   \n",
              "3         0           1                           9              73   \n",
              "4         0           1                           5              10   \n",
              "\n",
              "   Data Usage Tier  Customer Segment Change Flag  ACTIVE_MONTH  ACTIVE_DAY  \n",
              "0                1                             1            10           5  \n",
              "1                0                             1             9          28  \n",
              "2                2                             1             9          19  \n",
              "3                1                             1             9          13  \n",
              "4                0                             1             8          10  "
            ],
            "text/html": [
              "\n",
              "  <div id=\"df-e4cb8641-c435-4b57-9917-40adc0bf6552\" class=\"colab-df-container\">\n",
              "    <div>\n",
              "<style scoped>\n",
              "    .dataframe tbody tr th:only-of-type {\n",
              "        vertical-align: middle;\n",
              "    }\n",
              "\n",
              "    .dataframe tbody tr th {\n",
              "        vertical-align: top;\n",
              "    }\n",
              "\n",
              "    .dataframe thead th {\n",
              "        text-align: right;\n",
              "    }\n",
              "</style>\n",
              "<table border=\"1\" class=\"dataframe\">\n",
              "  <thead>\n",
              "    <tr style=\"text-align: right;\">\n",
              "      <th></th>\n",
              "      <th>CO_ID</th>\n",
              "      <th>USER_CREATED_BY</th>\n",
              "      <th>MSISDN</th>\n",
              "      <th>DISTRIBUTER</th>\n",
              "      <th>Plan_Name</th>\n",
              "      <th>Customer Tenure</th>\n",
              "      <th>Tenure Category</th>\n",
              "      <th>STATUS</th>\n",
              "      <th>Status Reason</th>\n",
              "      <th>SEGMENT1</th>\n",
              "      <th>SEGMENT2</th>\n",
              "      <th>Churn Flag</th>\n",
              "      <th>Customer Interaction Score</th>\n",
              "      <th>Loyalty Points</th>\n",
              "      <th>Data Usage Tier</th>\n",
              "      <th>Customer Segment Change Flag</th>\n",
              "      <th>ACTIVE_MONTH</th>\n",
              "      <th>ACTIVE_DAY</th>\n",
              "    </tr>\n",
              "  </thead>\n",
              "  <tbody>\n",
              "    <tr>\n",
              "      <th>0</th>\n",
              "      <td>31154967</td>\n",
              "      <td>15</td>\n",
              "      <td>891476116</td>\n",
              "      <td>15</td>\n",
              "      <td>0</td>\n",
              "      <td>0.103512</td>\n",
              "      <td>1</td>\n",
              "      <td>2</td>\n",
              "      <td>18</td>\n",
              "      <td>6</td>\n",
              "      <td>2</td>\n",
              "      <td>1</td>\n",
              "      <td>3</td>\n",
              "      <td>48</td>\n",
              "      <td>1</td>\n",
              "      <td>1</td>\n",
              "      <td>10</td>\n",
              "      <td>5</td>\n",
              "    </tr>\n",
              "    <tr>\n",
              "      <th>1</th>\n",
              "      <td>31719208</td>\n",
              "      <td>589</td>\n",
              "      <td>891433210</td>\n",
              "      <td>34</td>\n",
              "      <td>5</td>\n",
              "      <td>0.256391</td>\n",
              "      <td>1</td>\n",
              "      <td>0</td>\n",
              "      <td>0</td>\n",
              "      <td>3</td>\n",
              "      <td>1</td>\n",
              "      <td>1</td>\n",
              "      <td>7</td>\n",
              "      <td>65</td>\n",
              "      <td>0</td>\n",
              "      <td>1</td>\n",
              "      <td>9</td>\n",
              "      <td>28</td>\n",
              "    </tr>\n",
              "    <tr>\n",
              "      <th>2</th>\n",
              "      <td>30566993</td>\n",
              "      <td>15</td>\n",
              "      <td>882740023</td>\n",
              "      <td>47</td>\n",
              "      <td>3</td>\n",
              "      <td>0.452950</td>\n",
              "      <td>1</td>\n",
              "      <td>0</td>\n",
              "      <td>0</td>\n",
              "      <td>6</td>\n",
              "      <td>1</td>\n",
              "      <td>1</td>\n",
              "      <td>6</td>\n",
              "      <td>65</td>\n",
              "      <td>2</td>\n",
              "      <td>1</td>\n",
              "      <td>9</td>\n",
              "      <td>19</td>\n",
              "    </tr>\n",
              "    <tr>\n",
              "      <th>3</th>\n",
              "      <td>31654015</td>\n",
              "      <td>47</td>\n",
              "      <td>529853159</td>\n",
              "      <td>40</td>\n",
              "      <td>21</td>\n",
              "      <td>-0.966640</td>\n",
              "      <td>2</td>\n",
              "      <td>1</td>\n",
              "      <td>14</td>\n",
              "      <td>3</td>\n",
              "      <td>0</td>\n",
              "      <td>1</td>\n",
              "      <td>9</td>\n",
              "      <td>73</td>\n",
              "      <td>1</td>\n",
              "      <td>1</td>\n",
              "      <td>9</td>\n",
              "      <td>13</td>\n",
              "    </tr>\n",
              "    <tr>\n",
              "      <th>4</th>\n",
              "      <td>31237322</td>\n",
              "      <td>47</td>\n",
              "      <td>883224490</td>\n",
              "      <td>40</td>\n",
              "      <td>18</td>\n",
              "      <td>-1.425277</td>\n",
              "      <td>2</td>\n",
              "      <td>1</td>\n",
              "      <td>8</td>\n",
              "      <td>3</td>\n",
              "      <td>0</td>\n",
              "      <td>1</td>\n",
              "      <td>5</td>\n",
              "      <td>10</td>\n",
              "      <td>0</td>\n",
              "      <td>1</td>\n",
              "      <td>8</td>\n",
              "      <td>10</td>\n",
              "    </tr>\n",
              "  </tbody>\n",
              "</table>\n",
              "</div>\n",
              "    <div class=\"colab-df-buttons\">\n",
              "\n",
              "  <div class=\"colab-df-container\">\n",
              "    <button class=\"colab-df-convert\" onclick=\"convertToInteractive('df-e4cb8641-c435-4b57-9917-40adc0bf6552')\"\n",
              "            title=\"Convert this dataframe to an interactive table.\"\n",
              "            style=\"display:none;\">\n",
              "\n",
              "  <svg xmlns=\"http://www.w3.org/2000/svg\" height=\"24px\" viewBox=\"0 -960 960 960\">\n",
              "    <path d=\"M120-120v-720h720v720H120Zm60-500h600v-160H180v160Zm220 220h160v-160H400v160Zm0 220h160v-160H400v160ZM180-400h160v-160H180v160Zm440 0h160v-160H620v160ZM180-180h160v-160H180v160Zm440 0h160v-160H620v160Z\"/>\n",
              "  </svg>\n",
              "    </button>\n",
              "\n",
              "  <style>\n",
              "    .colab-df-container {\n",
              "      display:flex;\n",
              "      gap: 12px;\n",
              "    }\n",
              "\n",
              "    .colab-df-convert {\n",
              "      background-color: #E8F0FE;\n",
              "      border: none;\n",
              "      border-radius: 50%;\n",
              "      cursor: pointer;\n",
              "      display: none;\n",
              "      fill: #1967D2;\n",
              "      height: 32px;\n",
              "      padding: 0 0 0 0;\n",
              "      width: 32px;\n",
              "    }\n",
              "\n",
              "    .colab-df-convert:hover {\n",
              "      background-color: #E2EBFA;\n",
              "      box-shadow: 0px 1px 2px rgba(60, 64, 67, 0.3), 0px 1px 3px 1px rgba(60, 64, 67, 0.15);\n",
              "      fill: #174EA6;\n",
              "    }\n",
              "\n",
              "    .colab-df-buttons div {\n",
              "      margin-bottom: 4px;\n",
              "    }\n",
              "\n",
              "    [theme=dark] .colab-df-convert {\n",
              "      background-color: #3B4455;\n",
              "      fill: #D2E3FC;\n",
              "    }\n",
              "\n",
              "    [theme=dark] .colab-df-convert:hover {\n",
              "      background-color: #434B5C;\n",
              "      box-shadow: 0px 1px 3px 1px rgba(0, 0, 0, 0.15);\n",
              "      filter: drop-shadow(0px 1px 2px rgba(0, 0, 0, 0.3));\n",
              "      fill: #FFFFFF;\n",
              "    }\n",
              "  </style>\n",
              "\n",
              "    <script>\n",
              "      const buttonEl =\n",
              "        document.querySelector('#df-e4cb8641-c435-4b57-9917-40adc0bf6552 button.colab-df-convert');\n",
              "      buttonEl.style.display =\n",
              "        google.colab.kernel.accessAllowed ? 'block' : 'none';\n",
              "\n",
              "      async function convertToInteractive(key) {\n",
              "        const element = document.querySelector('#df-e4cb8641-c435-4b57-9917-40adc0bf6552');\n",
              "        const dataTable =\n",
              "          await google.colab.kernel.invokeFunction('convertToInteractive',\n",
              "                                                    [key], {});\n",
              "        if (!dataTable) return;\n",
              "\n",
              "        const docLinkHtml = 'Like what you see? Visit the ' +\n",
              "          '<a target=\"_blank\" href=https://colab.research.google.com/notebooks/data_table.ipynb>data table notebook</a>'\n",
              "          + ' to learn more about interactive tables.';\n",
              "        element.innerHTML = '';\n",
              "        dataTable['output_type'] = 'display_data';\n",
              "        await google.colab.output.renderOutput(dataTable, element);\n",
              "        const docLink = document.createElement('div');\n",
              "        docLink.innerHTML = docLinkHtml;\n",
              "        element.appendChild(docLink);\n",
              "      }\n",
              "    </script>\n",
              "  </div>\n",
              "\n",
              "\n",
              "<div id=\"df-77e6f10c-0469-47f1-a0b8-15acceb977b6\">\n",
              "  <button class=\"colab-df-quickchart\" onclick=\"quickchart('df-77e6f10c-0469-47f1-a0b8-15acceb977b6')\"\n",
              "            title=\"Suggest charts\"\n",
              "            style=\"display:none;\">\n",
              "\n",
              "<svg xmlns=\"http://www.w3.org/2000/svg\" height=\"24px\"viewBox=\"0 0 24 24\"\n",
              "     width=\"24px\">\n",
              "    <g>\n",
              "        <path d=\"M19 3H5c-1.1 0-2 .9-2 2v14c0 1.1.9 2 2 2h14c1.1 0 2-.9 2-2V5c0-1.1-.9-2-2-2zM9 17H7v-7h2v7zm4 0h-2V7h2v10zm4 0h-2v-4h2v4z\"/>\n",
              "    </g>\n",
              "</svg>\n",
              "  </button>\n",
              "\n",
              "<style>\n",
              "  .colab-df-quickchart {\n",
              "      --bg-color: #E8F0FE;\n",
              "      --fill-color: #1967D2;\n",
              "      --hover-bg-color: #E2EBFA;\n",
              "      --hover-fill-color: #174EA6;\n",
              "      --disabled-fill-color: #AAA;\n",
              "      --disabled-bg-color: #DDD;\n",
              "  }\n",
              "\n",
              "  [theme=dark] .colab-df-quickchart {\n",
              "      --bg-color: #3B4455;\n",
              "      --fill-color: #D2E3FC;\n",
              "      --hover-bg-color: #434B5C;\n",
              "      --hover-fill-color: #FFFFFF;\n",
              "      --disabled-bg-color: #3B4455;\n",
              "      --disabled-fill-color: #666;\n",
              "  }\n",
              "\n",
              "  .colab-df-quickchart {\n",
              "    background-color: var(--bg-color);\n",
              "    border: none;\n",
              "    border-radius: 50%;\n",
              "    cursor: pointer;\n",
              "    display: none;\n",
              "    fill: var(--fill-color);\n",
              "    height: 32px;\n",
              "    padding: 0;\n",
              "    width: 32px;\n",
              "  }\n",
              "\n",
              "  .colab-df-quickchart:hover {\n",
              "    background-color: var(--hover-bg-color);\n",
              "    box-shadow: 0 1px 2px rgba(60, 64, 67, 0.3), 0 1px 3px 1px rgba(60, 64, 67, 0.15);\n",
              "    fill: var(--button-hover-fill-color);\n",
              "  }\n",
              "\n",
              "  .colab-df-quickchart-complete:disabled,\n",
              "  .colab-df-quickchart-complete:disabled:hover {\n",
              "    background-color: var(--disabled-bg-color);\n",
              "    fill: var(--disabled-fill-color);\n",
              "    box-shadow: none;\n",
              "  }\n",
              "\n",
              "  .colab-df-spinner {\n",
              "    border: 2px solid var(--fill-color);\n",
              "    border-color: transparent;\n",
              "    border-bottom-color: var(--fill-color);\n",
              "    animation:\n",
              "      spin 1s steps(1) infinite;\n",
              "  }\n",
              "\n",
              "  @keyframes spin {\n",
              "    0% {\n",
              "      border-color: transparent;\n",
              "      border-bottom-color: var(--fill-color);\n",
              "      border-left-color: var(--fill-color);\n",
              "    }\n",
              "    20% {\n",
              "      border-color: transparent;\n",
              "      border-left-color: var(--fill-color);\n",
              "      border-top-color: var(--fill-color);\n",
              "    }\n",
              "    30% {\n",
              "      border-color: transparent;\n",
              "      border-left-color: var(--fill-color);\n",
              "      border-top-color: var(--fill-color);\n",
              "      border-right-color: var(--fill-color);\n",
              "    }\n",
              "    40% {\n",
              "      border-color: transparent;\n",
              "      border-right-color: var(--fill-color);\n",
              "      border-top-color: var(--fill-color);\n",
              "    }\n",
              "    60% {\n",
              "      border-color: transparent;\n",
              "      border-right-color: var(--fill-color);\n",
              "    }\n",
              "    80% {\n",
              "      border-color: transparent;\n",
              "      border-right-color: var(--fill-color);\n",
              "      border-bottom-color: var(--fill-color);\n",
              "    }\n",
              "    90% {\n",
              "      border-color: transparent;\n",
              "      border-bottom-color: var(--fill-color);\n",
              "    }\n",
              "  }\n",
              "</style>\n",
              "\n",
              "  <script>\n",
              "    async function quickchart(key) {\n",
              "      const quickchartButtonEl =\n",
              "        document.querySelector('#' + key + ' button');\n",
              "      quickchartButtonEl.disabled = true;  // To prevent multiple clicks.\n",
              "      quickchartButtonEl.classList.add('colab-df-spinner');\n",
              "      try {\n",
              "        const charts = await google.colab.kernel.invokeFunction(\n",
              "            'suggestCharts', [key], {});\n",
              "      } catch (error) {\n",
              "        console.error('Error during call to suggestCharts:', error);\n",
              "      }\n",
              "      quickchartButtonEl.classList.remove('colab-df-spinner');\n",
              "      quickchartButtonEl.classList.add('colab-df-quickchart-complete');\n",
              "    }\n",
              "    (() => {\n",
              "      let quickchartButtonEl =\n",
              "        document.querySelector('#df-77e6f10c-0469-47f1-a0b8-15acceb977b6 button');\n",
              "      quickchartButtonEl.style.display =\n",
              "        google.colab.kernel.accessAllowed ? 'block' : 'none';\n",
              "    })();\n",
              "  </script>\n",
              "</div>\n",
              "\n",
              "    </div>\n",
              "  </div>\n"
            ]
          },
          "metadata": {},
          "execution_count": 54
        }
      ]
    },
    {
      "cell_type": "code",
      "source": [
        "plt.figure(figsize=(20, 10))\n",
        "sns.heatmap(df.corr(), annot=True, cmap='YlGnBu')"
      ],
      "metadata": {
        "colab": {
          "base_uri": "https://localhost:8080/",
          "height": 663
        },
        "id": "XWFwyhMzK5u3",
        "outputId": "ec641446-f165-4277-8dd2-63364719317d"
      },
      "execution_count": 55,
      "outputs": [
        {
          "output_type": "execute_result",
          "data": {
            "text/plain": [
              "<Axes: >"
            ]
          },
          "metadata": {},
          "execution_count": 55
        },
        {
          "output_type": "display_data",
          "data": {
            "text/plain": [
              "<Figure size 2000x1000 with 2 Axes>"
            ],
            "image/png": "[encoded data removed]"
          },
          "metadata": {}
        }
      ]
    },
    {
      "cell_type": "code",
      "source": [],
      "metadata": {
        "id": "ZMUCsFpZbmKX"
      },
      "execution_count": 55,
      "outputs": []
    },
    {
      "cell_type": "markdown",
      "source": [
        "# **KNN**"
      ],
      "metadata": {
        "id": "NU161YE4qgnb"
      }
    },
    {
      "cell_type": "code",
      "source": [
        "X = df.drop(['SEGMENT1', 'SEGMENT2', 'STATUS'], axis=1)  # Features\n",
        "y = df['SEGMENT1']           # Target variables"
      ],
      "metadata": {
        "id": "XLf0qMnVY5mn"
      },
      "execution_count": 56,
      "outputs": []
    },
    {
      "cell_type": "code",
      "source": [
        "X_train, X_test, y_train, y_test = train_test_split(X, y, test_size=0.3, random_state=1, stratify=y)\n",
        "\n",
        "# Outputting the shape of the resulting datasets to confirm the split\n",
        "X_train.shape, X_test.shape, y_train.shape, y_test.shape"
      ],
      "metadata": {
        "colab": {
          "base_uri": "https://localhost:8080/"
        },
        "id": "ilAAEi902p3m",
        "outputId": "71c0cf12-dfde-4b45-fc27-c9602af6740e"
      },
      "execution_count": 57,
      "outputs": [
        {
          "output_type": "execute_result",
          "data": {
            "text/plain": [
              "((19545, 16), (8377, 16), (19545,), (8377,))"
            ]
          },
          "metadata": {},
          "execution_count": 57
        }
      ]
    },
    {
      "cell_type": "code",
      "source": [
        "from sklearn.neighbors import KNeighborsClassifier\n",
        "\n",
        "knn1_accurecy = []\n",
        "knn1_precision = []\n",
        "knn1_recall = []\n",
        "knn1_f1_score = []\n",
        "\n",
        "for i in range(30):\n",
        "  X_train, X_test, y_train, y_test = train_test_split( X, y, test_size = 0.2,random_state = i)\n",
        "\n",
        "  # Initializing the KNeighborsClassifier\n",
        "  k=5\n",
        "  knn = KNeighborsClassifier(n_neighbors=k)\n",
        "\n",
        "  # Training the KNeighborsClassifier\n",
        "  knn.fit(X_train, y_train)\n",
        "\n",
        "  # After the model is trained, it can be used to make predictions\n",
        "\n",
        "  y_pred = knn.predict(X_test)\n",
        "\n",
        "    # importing accuracy_score\n",
        "  from sklearn.metrics import accuracy_score,precision_score, recall_score, f1_score\n",
        "  # printing accuracy\n",
        "  knn_accuracy = accuracy_score(y_test,y_pred)\n",
        "  knn1_accurecy.append(knn_accuracy)\n",
        "  print(\"Accuracy: \",accuracy_score(y_test,y_pred))\n",
        "  # printing precision\n",
        "  knn_precision = precision_score(y_test,y_pred,average='micro')\n",
        "  knn1_precision.append(knn_precision)\n",
        "  print(\"Precision: \",precision_score(y_test,y_pred,average='micro'))\n",
        "  # printing recall\n",
        "  knn_recall = recall_score(y_test,y_pred,average='micro')\n",
        "  knn1_recall.append(knn_recall)\n",
        "  print(\"Recall: \",recall_score(y_test,y_pred,average='micro'))\n",
        "  # printing f1 score\n",
        "  knn_f1_score = f1_score(y_test,y_pred,average='micro')\n",
        "  knn1_f1_score.append(knn_f1_score)\n",
        "  print(\"F1_score: \",f1_score(y_test,y_pred,average='micro'))\n",
        "  print(\"*************************************************************************************\")\n",
        "\n",
        "def getAvg(measure):\n",
        "  sum = 0\n",
        "  for i in measure:\n",
        "    sum += i\n",
        "  return sum/30\n",
        "\n",
        "print('=========================================================')\n",
        "print('Average Accuracy:', getAvg(knn1_accurecy))\n",
        "print('Average Recall:', getAvg(knn1_recall))\n",
        "print('Average Precision:', getAvg(knn1_precision))\n",
        "print('Average F1-Score:', getAvg(knn1_f1_score))"
      ],
      "metadata": {
        "colab": {
          "base_uri": "https://localhost:8080/"
        },
        "id": "Qa5z1GhV2q4H",
        "outputId": "10ac4252-28f8-4cb8-c6ae-09d192d3b3b5"
      },
      "execution_count": 74,
      "outputs": [
        {
          "output_type": "stream",
          "name": "stdout",
          "text": [
            "Accuracy:  0.9201432408236347\n",
            "Precision:  0.9201432408236347\n",
            "Recall:  0.9201432408236347\n",
            "F1_score:  0.9201432408236347\n",
            "*************************************************************************************\n",
            "Accuracy:  0.9187108325872874\n",
            "Precision:  0.9187108325872874\n",
            "Recall:  0.9187108325872874\n",
            "F1_score:  0.9187108325872874\n",
            "*************************************************************************************\n",
            "Accuracy:  0.9217547000895255\n",
            "Precision:  0.9217547000895255\n",
            "Recall:  0.9217547000895255\n",
            "F1_score:  0.9217547000895255\n",
            "*************************************************************************************\n",
            "Accuracy:  0.9170993733213966\n",
            "Precision:  0.9170993733213966\n",
            "Recall:  0.9170993733213966\n",
            "F1_score:  0.9170993733213966\n",
            "*************************************************************************************\n",
            "Accuracy:  0.9165622202327663\n",
            "Precision:  0.9165622202327663\n",
            "Recall:  0.9165622202327663\n",
            "F1_score:  0.9165622202327663\n",
            "*************************************************************************************\n",
            "Accuracy:  0.9215756490599821\n",
            "Precision:  0.9215756490599821\n",
            "Recall:  0.9215756490599821\n",
            "F1_score:  0.9215756490599821\n",
            "*************************************************************************************\n",
            "Accuracy:  0.9135183527305282\n",
            "Precision:  0.9135183527305282\n",
            "Recall:  0.9135183527305282\n",
            "F1_score:  0.9135183527305282\n",
            "*************************************************************************************\n",
            "Accuracy:  0.920680393912265\n",
            "Precision:  0.920680393912265\n",
            "Recall:  0.920680393912265\n",
            "F1_score:  0.920680393912265\n",
            "*************************************************************************************\n",
            "Accuracy:  0.9147717099373321\n",
            "Precision:  0.9147717099373321\n",
            "Recall:  0.9147717099373321\n",
            "F1_score:  0.9147717099373323\n",
            "*************************************************************************************\n",
            "Accuracy:  0.9192479856759176\n",
            "Precision:  0.9192479856759176\n",
            "Recall:  0.9192479856759176\n",
            "F1_score:  0.9192479856759176\n",
            "*************************************************************************************\n",
            "Accuracy:  0.9192479856759176\n",
            "Precision:  0.9192479856759176\n",
            "Recall:  0.9192479856759176\n",
            "F1_score:  0.9192479856759176\n",
            "*************************************************************************************\n",
            "Accuracy:  0.9230080572963295\n",
            "Precision:  0.9230080572963295\n",
            "Recall:  0.9230080572963295\n",
            "F1_score:  0.9230080572963295\n",
            "*************************************************************************************\n",
            "Accuracy:  0.9188898836168308\n",
            "Precision:  0.9188898836168308\n",
            "Recall:  0.9188898836168308\n",
            "F1_score:  0.9188898836168308\n",
            "*************************************************************************************\n",
            "Accuracy:  0.9199641897940913\n",
            "Precision:  0.9199641897940913\n",
            "Recall:  0.9199641897940913\n",
            "F1_score:  0.9199641897940913\n",
            "*************************************************************************************\n",
            "Accuracy:  0.9154879140555058\n",
            "Precision:  0.9154879140555058\n",
            "Recall:  0.9154879140555058\n",
            "F1_score:  0.9154879140555058\n",
            "*************************************************************************************\n",
            "Accuracy:  0.9140555058191585\n",
            "Precision:  0.9140555058191585\n",
            "Recall:  0.9140555058191585\n",
            "F1_score:  0.9140555058191585\n",
            "*************************************************************************************\n",
            "Accuracy:  0.9154879140555058\n",
            "Precision:  0.9154879140555058\n",
            "Recall:  0.9154879140555058\n",
            "F1_score:  0.9154879140555058\n",
            "*************************************************************************************\n",
            "Accuracy:  0.922829006266786\n",
            "Precision:  0.922829006266786\n",
            "Recall:  0.922829006266786\n",
            "F1_score:  0.922829006266786\n",
            "*************************************************************************************\n",
            "Accuracy:  0.9221128021486124\n",
            "Precision:  0.9221128021486124\n",
            "Recall:  0.9221128021486124\n",
            "F1_score:  0.9221128021486124\n",
            "*************************************************************************************\n",
            "Accuracy:  0.9244404655326768\n",
            "Precision:  0.9244404655326768\n",
            "Recall:  0.9244404655326768\n",
            "F1_score:  0.9244404655326768\n",
            "*************************************************************************************\n",
            "Accuracy:  0.9192479856759176\n",
            "Precision:  0.9192479856759176\n",
            "Recall:  0.9192479856759176\n",
            "F1_score:  0.9192479856759176\n",
            "*************************************************************************************\n",
            "Accuracy:  0.9174574753804834\n",
            "Precision:  0.9174574753804834\n",
            "Recall:  0.9174574753804834\n",
            "F1_score:  0.9174574753804834\n",
            "*************************************************************************************\n",
            "Accuracy:  0.920680393912265\n",
            "Precision:  0.920680393912265\n",
            "Recall:  0.920680393912265\n",
            "F1_score:  0.920680393912265\n",
            "*************************************************************************************\n",
            "Accuracy:  0.920680393912265\n",
            "Precision:  0.920680393912265\n",
            "Recall:  0.920680393912265\n",
            "F1_score:  0.920680393912265\n",
            "*************************************************************************************\n",
            "Accuracy:  0.9144136078782453\n",
            "Precision:  0.9144136078782453\n",
            "Recall:  0.9144136078782453\n",
            "F1_score:  0.9144136078782453\n",
            "*************************************************************************************\n",
            "Accuracy:  0.912981199641898\n",
            "Precision:  0.912981199641898\n",
            "Recall:  0.912981199641898\n",
            "F1_score:  0.912981199641898\n",
            "*************************************************************************************\n",
            "Accuracy:  0.9203222918531782\n",
            "Precision:  0.9203222918531782\n",
            "Recall:  0.9203222918531782\n",
            "F1_score:  0.9203222918531782\n",
            "*************************************************************************************\n",
            "Accuracy:  0.9213965980304387\n",
            "Precision:  0.9213965980304387\n",
            "Recall:  0.9213965980304387\n",
            "F1_score:  0.9213965980304388\n",
            "*************************************************************************************\n",
            "Accuracy:  0.9235452103849597\n",
            "Precision:  0.9235452103849597\n",
            "Recall:  0.9235452103849597\n",
            "F1_score:  0.9235452103849597\n",
            "*************************************************************************************\n",
            "Accuracy:  0.9221128021486124\n",
            "Precision:  0.9221128021486124\n",
            "Recall:  0.9221128021486124\n",
            "F1_score:  0.9221128021486124\n",
            "*************************************************************************************\n",
            "=========================================================\n",
            "Average Accuracy: 0.9190808713816768\n",
            "Average Recall: 0.9190808713816768\n",
            "Average Precision: 0.9190808713816768\n",
            "Average F1-Score: 0.9190808713816768\n"
          ]
        }
      ]
    },
    {
      "cell_type": "code",
      "source": [
        "data = [knn1_accurecy, knn1_recall, knn1_precision, knn1_f1_score]\n",
        "\n",
        "plt.boxplot(data,labels = ['Accuracy','Recall','Precision','F1-measure'])\n",
        "plt.show()"
      ],
      "metadata": {
        "colab": {
          "base_uri": "https://localhost:8080/",
          "height": 430
        },
        "id": "adASwKcVZzoo",
        "outputId": "d279dc25-cd1e-4250-cafc-83d16006f7b1"
      },
      "execution_count": 75,
      "outputs": [
        {
          "output_type": "display_data",
          "data": {
            "text/plain": [
              "<Figure size 640x480 with 1 Axes>"
            ],
            "image/png": "[encoded data removed]"
          },
          "metadata": {}
        }
      ]
    },
    {
      "cell_type": "code",
      "source": [
        "from sklearn.tree import DecisionTreeClassifier\n",
        "from sklearn.model_selection import train_test_split\n",
        "from sklearn.metrics import accuracy_score, precision_score, recall_score, f1_score\n",
        "import numpy as np\n",
        "\n",
        "dt1_accuracy = []\n",
        "dt1_precision = []\n",
        "dt1_recall = []\n",
        "dt1_f1_score = []\n",
        "\n",
        "for i in range(30):\n",
        "    X_train, X_test, y_train, y_test = train_test_split(X, y, test_size=0.2, random_state=i)\n",
        "\n",
        "    # Create Decision Tree classifier object\n",
        "    dt_classifier = DecisionTreeClassifier()\n",
        "\n",
        "    # Train Decision Tree Classifier\n",
        "    dt_classifier.fit(X_train, y_train)\n",
        "\n",
        "    # Predict the response for the test dataset\n",
        "    y_pred = dt_classifier.predict(X_test)\n",
        "\n",
        "    # Store the metrics for each iteration\n",
        "    dt1_accuracy.append(accuracy_score(y_test, y_pred))\n",
        "    dt1_precision.append(precision_score(y_test, y_pred, average='weighted'))\n",
        "    dt1_recall.append(recall_score(y_test, y_pred, average='weighted'))\n",
        "    dt1_f1_score.append(f1_score(y_test, y_pred, average='weighted'))\n",
        "\n",
        "    print(\"Iteration:\", i+1)\n",
        "    print(\"Accuracy:\", dt1_accuracy[-1])\n",
        "    print(\"Precision:\", dt1_precision[-1])\n",
        "    print(\"Recall:\", dt1_recall[-1])\n",
        "    print(\"F1_score:\", dt1_f1_score[-1])\n",
        "    print(\"*************************************************************************************\")\n",
        "\n",
        "print('=========================================================')\n",
        "print('Average Accuracy:', np.mean(dt1_accuracy))\n",
        "print('Average Recall:', np.mean(dt1_recall))\n",
        "print('Average Precision:', np.mean(dt1_precision))\n",
        "print('Average F1-Score:', np.mean(dt1_f1_score))\n"
      ],
      "metadata": {
        "colab": {
          "base_uri": "https://localhost:8080/"
        },
        "id": "rGz_2QL6hze_",
        "outputId": "6ea8fd02-cd89-4b35-c664-a544dad6f7ca"
      },
      "execution_count": 76,
      "outputs": [
        {
          "output_type": "stream",
          "name": "stderr",
          "text": [
            "/usr/local/lib/python3.10/dist-packages/sklearn/metrics/_classification.py:1344: UndefinedMetricWarning: Precision is ill-defined and being set to 0.0 in labels with no predicted samples. Use `zero_division` parameter to control this behavior.\n",
            "  _warn_prf(average, modifier, msg_start, len(result))\n",
            "/usr/local/lib/python3.10/dist-packages/sklearn/metrics/_classification.py:1344: UndefinedMetricWarning: Recall is ill-defined and being set to 0.0 in labels with no true samples. Use `zero_division` parameter to control this behavior.\n",
            "  _warn_prf(average, modifier, msg_start, len(result))\n"
          ]
        },
        {
          "output_type": "stream",
          "name": "stdout",
          "text": [
            "Iteration: 1\n",
            "Accuracy: 0.9908683974932856\n",
            "Precision: 0.9925485770498604\n",
            "Recall: 0.9908683974932856\n",
            "F1_score: 0.9916859409873586\n",
            "*************************************************************************************\n",
            "Iteration: 2\n",
            "Accuracy: 0.9917636526410026\n",
            "Precision: 0.9930226777410505\n",
            "Recall: 0.9917636526410026\n",
            "F1_score: 0.9923896171516955\n",
            "*************************************************************************************\n"
          ]
        },
        {
          "output_type": "stream",
          "name": "stderr",
          "text": [
            "/usr/local/lib/python3.10/dist-packages/sklearn/metrics/_classification.py:1344: UndefinedMetricWarning: Precision is ill-defined and being set to 0.0 in labels with no predicted samples. Use `zero_division` parameter to control this behavior.\n",
            "  _warn_prf(average, modifier, msg_start, len(result))\n",
            "/usr/local/lib/python3.10/dist-packages/sklearn/metrics/_classification.py:1344: UndefinedMetricWarning: Recall is ill-defined and being set to 0.0 in labels with no true samples. Use `zero_division` parameter to control this behavior.\n",
            "  _warn_prf(average, modifier, msg_start, len(result))\n"
          ]
        },
        {
          "output_type": "stream",
          "name": "stdout",
          "text": [
            "Iteration: 3\n",
            "Accuracy: 0.9905102954341988\n",
            "Precision: 0.9928258183264544\n",
            "Recall: 0.9905102954341988\n",
            "F1_score: 0.9916644995891899\n",
            "*************************************************************************************\n",
            "Iteration: 4\n",
            "Accuracy: 0.990152193375112\n",
            "Precision: 0.9899738510671562\n",
            "Recall: 0.990152193375112\n",
            "F1_score: 0.9900629495434989\n",
            "*************************************************************************************\n"
          ]
        },
        {
          "output_type": "stream",
          "name": "stderr",
          "text": [
            "/usr/local/lib/python3.10/dist-packages/sklearn/metrics/_classification.py:1344: UndefinedMetricWarning: Precision is ill-defined and being set to 0.0 in labels with no predicted samples. Use `zero_division` parameter to control this behavior.\n",
            "  _warn_prf(average, modifier, msg_start, len(result))\n",
            "/usr/local/lib/python3.10/dist-packages/sklearn/metrics/_classification.py:1344: UndefinedMetricWarning: Recall is ill-defined and being set to 0.0 in labels with no true samples. Use `zero_division` parameter to control this behavior.\n",
            "  _warn_prf(average, modifier, msg_start, len(result))\n"
          ]
        },
        {
          "output_type": "stream",
          "name": "stdout",
          "text": [
            "Iteration: 5\n",
            "Accuracy: 0.991047448522829\n",
            "Precision: 0.9908705731849374\n",
            "Recall: 0.991047448522829\n",
            "F1_score: 0.9909589133806198\n",
            "*************************************************************************************\n",
            "Iteration: 6\n",
            "Accuracy: 0.9903312444046554\n",
            "Precision: 0.9907070447584613\n",
            "Recall: 0.9903312444046554\n",
            "F1_score: 0.990518586954342\n",
            "*************************************************************************************\n"
          ]
        },
        {
          "output_type": "stream",
          "name": "stderr",
          "text": [
            "/usr/local/lib/python3.10/dist-packages/sklearn/metrics/_classification.py:1344: UndefinedMetricWarning: Precision is ill-defined and being set to 0.0 in labels with no predicted samples. Use `zero_division` parameter to control this behavior.\n",
            "  _warn_prf(average, modifier, msg_start, len(result))\n",
            "/usr/local/lib/python3.10/dist-packages/sklearn/metrics/_classification.py:1344: UndefinedMetricWarning: Recall is ill-defined and being set to 0.0 in labels with no true samples. Use `zero_division` parameter to control this behavior.\n",
            "  _warn_prf(average, modifier, msg_start, len(result))\n"
          ]
        },
        {
          "output_type": "stream",
          "name": "stdout",
          "text": [
            "Iteration: 7\n",
            "Accuracy: 0.9908683974932856\n",
            "Precision: 0.9931025956949076\n",
            "Recall: 0.9908683974932856\n",
            "F1_score: 0.9919717103984101\n",
            "*************************************************************************************\n",
            "Iteration: 8\n",
            "Accuracy: 0.9894359892569382\n",
            "Precision: 0.9903266906304864\n",
            "Recall: 0.9894359892569382\n",
            "F1_score: 0.9898811132969568\n",
            "*************************************************************************************\n"
          ]
        },
        {
          "output_type": "stream",
          "name": "stderr",
          "text": [
            "/usr/local/lib/python3.10/dist-packages/sklearn/metrics/_classification.py:1344: UndefinedMetricWarning: Recall is ill-defined and being set to 0.0 in labels with no true samples. Use `zero_division` parameter to control this behavior.\n",
            "  _warn_prf(average, modifier, msg_start, len(result))\n",
            "/usr/local/lib/python3.10/dist-packages/sklearn/metrics/_classification.py:1344: UndefinedMetricWarning: Precision is ill-defined and being set to 0.0 in labels with no predicted samples. Use `zero_division` parameter to control this behavior.\n",
            "  _warn_prf(average, modifier, msg_start, len(result))\n",
            "/usr/local/lib/python3.10/dist-packages/sklearn/metrics/_classification.py:1344: UndefinedMetricWarning: Recall is ill-defined and being set to 0.0 in labels with no true samples. Use `zero_division` parameter to control this behavior.\n",
            "  _warn_prf(average, modifier, msg_start, len(result))\n"
          ]
        },
        {
          "output_type": "stream",
          "name": "stdout",
          "text": [
            "Iteration: 9\n",
            "Accuracy: 0.9883616830796778\n",
            "Precision: 0.9907654809379987\n",
            "Recall: 0.9883616830796778\n",
            "F1_score: 0.9895464877606868\n",
            "*************************************************************************************\n",
            "Iteration: 10\n",
            "Accuracy: 0.9912264995523724\n",
            "Precision: 0.9919383775165191\n",
            "Recall: 0.9912264995523724\n",
            "F1_score: 0.9915822310787702\n",
            "*************************************************************************************\n"
          ]
        },
        {
          "output_type": "stream",
          "name": "stderr",
          "text": [
            "/usr/local/lib/python3.10/dist-packages/sklearn/metrics/_classification.py:1344: UndefinedMetricWarning: Recall is ill-defined and being set to 0.0 in labels with no true samples. Use `zero_division` parameter to control this behavior.\n",
            "  _warn_prf(average, modifier, msg_start, len(result))\n",
            "/usr/local/lib/python3.10/dist-packages/sklearn/metrics/_classification.py:1344: UndefinedMetricWarning: Precision is ill-defined and being set to 0.0 in labels with no predicted samples. Use `zero_division` parameter to control this behavior.\n",
            "  _warn_prf(average, modifier, msg_start, len(result))\n"
          ]
        },
        {
          "output_type": "stream",
          "name": "stdout",
          "text": [
            "Iteration: 11\n",
            "Accuracy: 0.9899731423455684\n",
            "Precision: 0.9898023541662448\n",
            "Recall: 0.9899731423455684\n",
            "F1_score: 0.9898838905391032\n",
            "*************************************************************************************\n",
            "Iteration: 12\n",
            "Accuracy: 0.992300805729633\n",
            "Precision: 0.9898138896173029\n",
            "Recall: 0.992300805729633\n",
            "F1_score: 0.9910545256656873\n",
            "*************************************************************************************\n",
            "Iteration: 13\n",
            "Accuracy: 0.9903312444046554\n",
            "Precision: 0.99123006174087\n",
            "Recall: 0.9903312444046554\n",
            "F1_score: 0.9907771225208639\n",
            "*************************************************************************************\n",
            "Iteration: 14\n",
            "Accuracy: 0.9912264995523724\n",
            "Precision: 0.9919467856075352\n",
            "Recall: 0.9912264995523724\n",
            "F1_score: 0.9915850726799607\n",
            "*************************************************************************************\n"
          ]
        },
        {
          "output_type": "stream",
          "name": "stderr",
          "text": [
            "/usr/local/lib/python3.10/dist-packages/sklearn/metrics/_classification.py:1344: UndefinedMetricWarning: Precision is ill-defined and being set to 0.0 in labels with no predicted samples. Use `zero_division` parameter to control this behavior.\n",
            "  _warn_prf(average, modifier, msg_start, len(result))\n",
            "/usr/local/lib/python3.10/dist-packages/sklearn/metrics/_classification.py:1344: UndefinedMetricWarning: Recall is ill-defined and being set to 0.0 in labels with no true samples. Use `zero_division` parameter to control this behavior.\n",
            "  _warn_prf(average, modifier, msg_start, len(result))\n"
          ]
        },
        {
          "output_type": "stream",
          "name": "stdout",
          "text": [
            "Iteration: 15\n",
            "Accuracy: 0.9892569382273948\n",
            "Precision: 0.9908581784833067\n",
            "Recall: 0.9892569382273948\n",
            "F1_score: 0.99005580474592\n",
            "*************************************************************************************\n",
            "Iteration: 16\n",
            "Accuracy: 0.9905102954341988\n",
            "Precision: 0.9919793874700237\n",
            "Recall: 0.9905102954341988\n",
            "F1_score: 0.9912416275784676\n",
            "*************************************************************************************\n"
          ]
        },
        {
          "output_type": "stream",
          "name": "stderr",
          "text": [
            "/usr/local/lib/python3.10/dist-packages/sklearn/metrics/_classification.py:1344: UndefinedMetricWarning: Precision is ill-defined and being set to 0.0 in labels with no predicted samples. Use `zero_division` parameter to control this behavior.\n",
            "  _warn_prf(average, modifier, msg_start, len(result))\n",
            "/usr/local/lib/python3.10/dist-packages/sklearn/metrics/_classification.py:1344: UndefinedMetricWarning: Precision is ill-defined and being set to 0.0 in labels with no predicted samples. Use `zero_division` parameter to control this behavior.\n",
            "  _warn_prf(average, modifier, msg_start, len(result))\n",
            "/usr/local/lib/python3.10/dist-packages/sklearn/metrics/_classification.py:1344: UndefinedMetricWarning: Recall is ill-defined and being set to 0.0 in labels with no true samples. Use `zero_division` parameter to control this behavior.\n",
            "  _warn_prf(average, modifier, msg_start, len(result))\n"
          ]
        },
        {
          "output_type": "stream",
          "name": "stdout",
          "text": [
            "Iteration: 17\n",
            "Accuracy: 0.9914055505819158\n",
            "Precision: 0.9931926706257723\n",
            "Recall: 0.9914055505819158\n",
            "F1_score: 0.9922971988614733\n",
            "*************************************************************************************\n",
            "Iteration: 18\n",
            "Accuracy: 0.9899731423455684\n",
            "Precision: 0.9913035682970067\n",
            "Recall: 0.9899731423455684\n",
            "F1_score: 0.9906175160495575\n",
            "*************************************************************************************\n"
          ]
        },
        {
          "output_type": "stream",
          "name": "stderr",
          "text": [
            "/usr/local/lib/python3.10/dist-packages/sklearn/metrics/_classification.py:1344: UndefinedMetricWarning: Precision is ill-defined and being set to 0.0 in labels with no predicted samples. Use `zero_division` parameter to control this behavior.\n",
            "  _warn_prf(average, modifier, msg_start, len(result))\n",
            "/usr/local/lib/python3.10/dist-packages/sklearn/metrics/_classification.py:1344: UndefinedMetricWarning: Recall is ill-defined and being set to 0.0 in labels with no true samples. Use `zero_division` parameter to control this behavior.\n",
            "  _warn_prf(average, modifier, msg_start, len(result))\n"
          ]
        },
        {
          "output_type": "stream",
          "name": "stdout",
          "text": [
            "Iteration: 19\n",
            "Accuracy: 0.988898836168308\n",
            "Precision: 0.9935342514528912\n",
            "Recall: 0.988898836168308\n",
            "F1_score: 0.9912092000840612\n",
            "*************************************************************************************\n",
            "Iteration: 20\n",
            "Accuracy: 0.99319606087735\n",
            "Precision: 0.9933747020619044\n",
            "Recall: 0.99319606087735\n",
            "F1_score: 0.9932853686931157\n",
            "*************************************************************************************\n"
          ]
        },
        {
          "output_type": "stream",
          "name": "stderr",
          "text": [
            "/usr/local/lib/python3.10/dist-packages/sklearn/metrics/_classification.py:1344: UndefinedMetricWarning: Precision is ill-defined and being set to 0.0 in labels with no predicted samples. Use `zero_division` parameter to control this behavior.\n",
            "  _warn_prf(average, modifier, msg_start, len(result))\n",
            "/usr/local/lib/python3.10/dist-packages/sklearn/metrics/_classification.py:1344: UndefinedMetricWarning: Recall is ill-defined and being set to 0.0 in labels with no true samples. Use `zero_division` parameter to control this behavior.\n",
            "  _warn_prf(average, modifier, msg_start, len(result))\n"
          ]
        },
        {
          "output_type": "stream",
          "name": "stdout",
          "text": [
            "Iteration: 21\n",
            "Accuracy: 0.9908683974932856\n",
            "Precision: 0.9910574493939598\n",
            "Recall: 0.9908683974932856\n",
            "F1_score: 0.9909598976831494\n",
            "*************************************************************************************\n",
            "Iteration: 22\n",
            "Accuracy: 0.989794091316025\n",
            "Precision: 0.9942533320501054\n",
            "Recall: 0.989794091316025\n",
            "F1_score: 0.9920181681408115\n",
            "*************************************************************************************\n"
          ]
        },
        {
          "output_type": "stream",
          "name": "stderr",
          "text": [
            "/usr/local/lib/python3.10/dist-packages/sklearn/metrics/_classification.py:1344: UndefinedMetricWarning: Precision is ill-defined and being set to 0.0 in labels with no predicted samples. Use `zero_division` parameter to control this behavior.\n",
            "  _warn_prf(average, modifier, msg_start, len(result))\n"
          ]
        },
        {
          "output_type": "stream",
          "name": "stdout",
          "text": [
            "Iteration: 23\n",
            "Accuracy: 0.992300805729633\n",
            "Precision: 0.9926580012405256\n",
            "Recall: 0.992300805729633\n",
            "F1_score: 0.9924784216128923\n",
            "*************************************************************************************\n",
            "Iteration: 24\n",
            "Accuracy: 0.9885407341092212\n",
            "Precision: 0.9912927510488119\n",
            "Recall: 0.9885407341092212\n",
            "F1_score: 0.9898950883161138\n",
            "*************************************************************************************\n"
          ]
        },
        {
          "output_type": "stream",
          "name": "stderr",
          "text": [
            "/usr/local/lib/python3.10/dist-packages/sklearn/metrics/_classification.py:1344: UndefinedMetricWarning: Recall is ill-defined and being set to 0.0 in labels with no true samples. Use `zero_division` parameter to control this behavior.\n",
            "  _warn_prf(average, modifier, msg_start, len(result))\n"
          ]
        },
        {
          "output_type": "stream",
          "name": "stdout",
          "text": [
            "Iteration: 25\n",
            "Accuracy: 0.9919427036705462\n",
            "Precision: 0.9923008788866379\n",
            "Recall: 0.9919427036705462\n",
            "F1_score: 0.9921188382313518\n",
            "*************************************************************************************\n",
            "Iteration: 26\n",
            "Accuracy: 0.9915846016114592\n",
            "Precision: 0.9908720753325543\n",
            "Recall: 0.9915846016114592\n",
            "F1_score: 0.991228200582926\n",
            "*************************************************************************************\n"
          ]
        },
        {
          "output_type": "stream",
          "name": "stderr",
          "text": [
            "/usr/local/lib/python3.10/dist-packages/sklearn/metrics/_classification.py:1344: UndefinedMetricWarning: Precision is ill-defined and being set to 0.0 in labels with no predicted samples. Use `zero_division` parameter to control this behavior.\n",
            "  _warn_prf(average, modifier, msg_start, len(result))\n",
            "/usr/local/lib/python3.10/dist-packages/sklearn/metrics/_classification.py:1344: UndefinedMetricWarning: Precision is ill-defined and being set to 0.0 in labels with no predicted samples. Use `zero_division` parameter to control this behavior.\n",
            "  _warn_prf(average, modifier, msg_start, len(result))\n",
            "/usr/local/lib/python3.10/dist-packages/sklearn/metrics/_classification.py:1344: UndefinedMetricWarning: Recall is ill-defined and being set to 0.0 in labels with no true samples. Use `zero_division` parameter to control this behavior.\n",
            "  _warn_prf(average, modifier, msg_start, len(result))\n"
          ]
        },
        {
          "output_type": "stream",
          "name": "stdout",
          "text": [
            "Iteration: 27\n",
            "Accuracy: 0.9946284691136974\n",
            "Precision: 0.9967734698968227\n",
            "Recall: 0.9946284691136974\n",
            "F1_score: 0.9956998025860351\n",
            "*************************************************************************************\n",
            "Iteration: 28\n",
            "Accuracy: 0.9914055505819158\n",
            "Precision: 0.9914044550092103\n",
            "Recall: 0.9914055505819158\n",
            "F1_score: 0.9914046949908104\n",
            "*************************************************************************************\n",
            "Iteration: 29\n",
            "Accuracy: 0.989794091316025\n",
            "Precision: 0.9919326546472915\n",
            "Recall: 0.989794091316025\n",
            "F1_score: 0.9908577112029241\n",
            "*************************************************************************************\n",
            "Iteration: 30\n",
            "Accuracy: 0.9894359892569382\n",
            "Precision: 0.9878387070520377\n",
            "Recall: 0.9894359892569382\n",
            "F1_score: 0.9886355877405957\n",
            "*************************************************************************************\n",
            "=========================================================\n",
            "Average Accuracy: 0.9907311250373023\n",
            "Average Recall: 0.9907311250373023\n",
            "Average Precision: 0.991783377032955\n",
            "Average F1-Score: 0.9912521929549116\n"
          ]
        },
        {
          "output_type": "stream",
          "name": "stderr",
          "text": [
            "/usr/local/lib/python3.10/dist-packages/sklearn/metrics/_classification.py:1344: UndefinedMetricWarning: Precision is ill-defined and being set to 0.0 in labels with no predicted samples. Use `zero_division` parameter to control this behavior.\n",
            "  _warn_prf(average, modifier, msg_start, len(result))\n"
          ]
        }
      ]
    },
    {
      "cell_type": "code",
      "source": [
        "data = [dt1_accuracy,dt1_recall,dt1_precision,dt1_f1_score]\n",
        "plt.boxplot(data,labels = ['Accuracy','Recall','Precision','F1-measure'])\n",
        "plt.show()"
      ],
      "metadata": {
        "colab": {
          "base_uri": "https://localhost:8080/",
          "height": 430
        },
        "id": "38lmylzzVNgg",
        "outputId": "05aee325-c045-4826-d2ee-fbe62da72a57"
      },
      "execution_count": 77,
      "outputs": [
        {
          "output_type": "display_data",
          "data": {
            "text/plain": [
              "<Figure size 640x480 with 1 Axes>"
            ],
            "image/png": "[encoded data removed]"
          },
          "metadata": {}
        }
      ]
    },
    {
      "cell_type": "code",
      "source": [
        "from sklearn.linear_model import LogisticRegression\n",
        "\n",
        "Lr_accurecyy = []\n",
        "Lr_precisionn = []\n",
        "Lr_recalll = []\n",
        "Lr_f1_scoree = []\n",
        "\n",
        "for i in range(30):\n",
        "  X_train, X_test, y_train, y_test = train_test_split( X, y, test_size = 0.2,random_state = i)\n",
        "\n",
        "  # Initialize the Logistic Regression model\n",
        "  logistic_regression = LogisticRegression()\n",
        "\n",
        "  # Training the Logistic Regression model on the training data\n",
        "  logistic_regression.fit(X_train, y_train)\n",
        "\n",
        "  # Now you can use the trained Logistic Regression model to make predictions on the test data\n",
        "  y_pred= logistic_regression.predict(X_test)\n",
        "\n",
        "  # printing accuracy\n",
        "  Lr_accurecy = accuracy_score(y_test,y_pred)\n",
        "  Lr_accurecyy.append(Lr_accurecy)\n",
        "  print(\"Accuracy: \",accuracy_score(y_test,y_pred))\n",
        "  # printing precision\n",
        "  Lr_precision = precision_score(y_test,y_pred,average='weighted')\n",
        "  Lr_precisionn.append(Lr_precision)\n",
        "  print(\"Precision: \",precision_score(y_test,y_pred,average='weighted'))\n",
        "  # printing recall\n",
        "  Lr_recall = recall_score(y_test,y_pred,average='weighted')\n",
        "  Lr_recalll.append(Lr_recall)\n",
        "  print(\"Recall: \",recall_score(y_test,y_pred,average='weighted'))\n",
        "  # printing f1 score\n",
        "  Lr_f1_score = f1_score(y_test,y_pred,average='weighted')\n",
        "  Lr_f1_scoree.append(Lr_f1_score)\n",
        "  print(\"F1_score: \",f1_score(y_test,y_pred,average='weighted'))\n",
        "  print(\"****************************************************************************\")\n",
        "\n",
        "def getAvg(measure):\n",
        "  sum = 0\n",
        "  for i in measure:\n",
        "    sum += i\n",
        "  return sum/30\n",
        "print('=========================================================')\n",
        "print('Average Accuracy:', getAvg(Lr_accurecyy))\n",
        "print('Average Recall:', getAvg(Lr_recalll))\n",
        "print('Average Precision:', getAvg(Lr_precisionn))\n",
        "print('Average F1-Score:', getAvg(Lr_f1_scoree))"
      ],
      "metadata": {
        "colab": {
          "base_uri": "https://localhost:8080/"
        },
        "id": "OiYFWXt63F3Q",
        "outputId": "1b9b808a-a163-4d93-8060-4deb1c31d760"
      },
      "execution_count": 78,
      "outputs": [
        {
          "output_type": "stream",
          "name": "stderr",
          "text": [
            "/usr/local/lib/python3.10/dist-packages/sklearn/linear_model/_logistic.py:458: ConvergenceWarning: lbfgs failed to converge (status=1):\n",
            "STOP: TOTAL NO. of ITERATIONS REACHED LIMIT.\n",
            "\n",
            "Increase the number of iterations (max_iter) or scale the data as shown in:\n",
            "    https://scikit-learn.org/stable/modules/preprocessing.html\n",
            "Please also refer to the documentation for alternative solver options:\n",
            "    https://scikit-learn.org/stable/modules/linear_model.html#logistic-regression\n",
            "  n_iter_i = _check_optimize_result(\n",
            "/usr/local/lib/python3.10/dist-packages/sklearn/metrics/_classification.py:1344: UndefinedMetricWarning: Precision is ill-defined and being set to 0.0 in labels with no predicted samples. Use `zero_division` parameter to control this behavior.\n",
            "  _warn_prf(average, modifier, msg_start, len(result))\n",
            "/usr/local/lib/python3.10/dist-packages/sklearn/metrics/_classification.py:1344: UndefinedMetricWarning: Precision is ill-defined and being set to 0.0 in labels with no predicted samples. Use `zero_division` parameter to control this behavior.\n",
            "  _warn_prf(average, modifier, msg_start, len(result))\n"
          ]
        },
        {
          "output_type": "stream",
          "name": "stdout",
          "text": [
            "Accuracy:  0.7772605192479857\n",
            "Precision:  0.7709517030572689\n",
            "Recall:  0.7772605192479857\n",
            "F1_score:  0.7718349321392775\n",
            "****************************************************************************\n"
          ]
        },
        {
          "output_type": "stream",
          "name": "stderr",
          "text": [
            "/usr/local/lib/python3.10/dist-packages/sklearn/linear_model/_logistic.py:458: ConvergenceWarning: lbfgs failed to converge (status=1):\n",
            "STOP: TOTAL NO. of ITERATIONS REACHED LIMIT.\n",
            "\n",
            "Increase the number of iterations (max_iter) or scale the data as shown in:\n",
            "    https://scikit-learn.org/stable/modules/preprocessing.html\n",
            "Please also refer to the documentation for alternative solver options:\n",
            "    https://scikit-learn.org/stable/modules/linear_model.html#logistic-regression\n",
            "  n_iter_i = _check_optimize_result(\n",
            "/usr/local/lib/python3.10/dist-packages/sklearn/metrics/_classification.py:1344: UndefinedMetricWarning: Precision is ill-defined and being set to 0.0 in labels with no predicted samples. Use `zero_division` parameter to control this behavior.\n",
            "  _warn_prf(average, modifier, msg_start, len(result))\n",
            "/usr/local/lib/python3.10/dist-packages/sklearn/metrics/_classification.py:1344: UndefinedMetricWarning: Precision is ill-defined and being set to 0.0 in labels with no predicted samples. Use `zero_division` parameter to control this behavior.\n",
            "  _warn_prf(average, modifier, msg_start, len(result))\n"
          ]
        },
        {
          "output_type": "stream",
          "name": "stdout",
          "text": [
            "Accuracy:  0.7652641002685765\n",
            "Precision:  0.7581418450570878\n",
            "Recall:  0.7652641002685765\n",
            "F1_score:  0.7583875058692697\n",
            "****************************************************************************\n"
          ]
        },
        {
          "output_type": "stream",
          "name": "stderr",
          "text": [
            "/usr/local/lib/python3.10/dist-packages/sklearn/linear_model/_logistic.py:458: ConvergenceWarning: lbfgs failed to converge (status=1):\n",
            "STOP: TOTAL NO. of ITERATIONS REACHED LIMIT.\n",
            "\n",
            "Increase the number of iterations (max_iter) or scale the data as shown in:\n",
            "    https://scikit-learn.org/stable/modules/preprocessing.html\n",
            "Please also refer to the documentation for alternative solver options:\n",
            "    https://scikit-learn.org/stable/modules/linear_model.html#logistic-regression\n",
            "  n_iter_i = _check_optimize_result(\n",
            "/usr/local/lib/python3.10/dist-packages/sklearn/metrics/_classification.py:1344: UndefinedMetricWarning: Precision is ill-defined and being set to 0.0 in labels with no predicted samples. Use `zero_division` parameter to control this behavior.\n",
            "  _warn_prf(average, modifier, msg_start, len(result))\n",
            "/usr/local/lib/python3.10/dist-packages/sklearn/metrics/_classification.py:1344: UndefinedMetricWarning: Precision is ill-defined and being set to 0.0 in labels with no predicted samples. Use `zero_division` parameter to control this behavior.\n",
            "  _warn_prf(average, modifier, msg_start, len(result))\n"
          ]
        },
        {
          "output_type": "stream",
          "name": "stdout",
          "text": [
            "Accuracy:  0.7718889883616831\n",
            "Precision:  0.7666454067416518\n",
            "Recall:  0.7718889883616831\n",
            "F1_score:  0.7667292971447955\n",
            "****************************************************************************\n"
          ]
        },
        {
          "output_type": "stream",
          "name": "stderr",
          "text": [
            "/usr/local/lib/python3.10/dist-packages/sklearn/linear_model/_logistic.py:458: ConvergenceWarning: lbfgs failed to converge (status=1):\n",
            "STOP: TOTAL NO. of ITERATIONS REACHED LIMIT.\n",
            "\n",
            "Increase the number of iterations (max_iter) or scale the data as shown in:\n",
            "    https://scikit-learn.org/stable/modules/preprocessing.html\n",
            "Please also refer to the documentation for alternative solver options:\n",
            "    https://scikit-learn.org/stable/modules/linear_model.html#logistic-regression\n",
            "  n_iter_i = _check_optimize_result(\n",
            "/usr/local/lib/python3.10/dist-packages/sklearn/metrics/_classification.py:1344: UndefinedMetricWarning: Precision is ill-defined and being set to 0.0 in labels with no predicted samples. Use `zero_division` parameter to control this behavior.\n",
            "  _warn_prf(average, modifier, msg_start, len(result))\n",
            "/usr/local/lib/python3.10/dist-packages/sklearn/metrics/_classification.py:1344: UndefinedMetricWarning: Precision is ill-defined and being set to 0.0 in labels with no predicted samples. Use `zero_division` parameter to control this behavior.\n",
            "  _warn_prf(average, modifier, msg_start, len(result))\n"
          ]
        },
        {
          "output_type": "stream",
          "name": "stdout",
          "text": [
            "Accuracy:  0.7708146821844225\n",
            "Precision:  0.7646289782510897\n",
            "Recall:  0.7708146821844225\n",
            "F1_score:  0.7653235476129526\n",
            "****************************************************************************\n"
          ]
        },
        {
          "output_type": "stream",
          "name": "stderr",
          "text": [
            "/usr/local/lib/python3.10/dist-packages/sklearn/linear_model/_logistic.py:458: ConvergenceWarning: lbfgs failed to converge (status=1):\n",
            "STOP: TOTAL NO. of ITERATIONS REACHED LIMIT.\n",
            "\n",
            "Increase the number of iterations (max_iter) or scale the data as shown in:\n",
            "    https://scikit-learn.org/stable/modules/preprocessing.html\n",
            "Please also refer to the documentation for alternative solver options:\n",
            "    https://scikit-learn.org/stable/modules/linear_model.html#logistic-regression\n",
            "  n_iter_i = _check_optimize_result(\n",
            "/usr/local/lib/python3.10/dist-packages/sklearn/metrics/_classification.py:1344: UndefinedMetricWarning: Precision is ill-defined and being set to 0.0 in labels with no predicted samples. Use `zero_division` parameter to control this behavior.\n",
            "  _warn_prf(average, modifier, msg_start, len(result))\n",
            "/usr/local/lib/python3.10/dist-packages/sklearn/metrics/_classification.py:1344: UndefinedMetricWarning: Precision is ill-defined and being set to 0.0 in labels with no predicted samples. Use `zero_division` parameter to control this behavior.\n",
            "  _warn_prf(average, modifier, msg_start, len(result))\n"
          ]
        },
        {
          "output_type": "stream",
          "name": "stdout",
          "text": [
            "Accuracy:  0.7566696508504924\n",
            "Precision:  0.7504583338987851\n",
            "Recall:  0.7566696508504924\n",
            "F1_score:  0.7478666646534992\n",
            "****************************************************************************\n"
          ]
        },
        {
          "output_type": "stream",
          "name": "stderr",
          "text": [
            "/usr/local/lib/python3.10/dist-packages/sklearn/linear_model/_logistic.py:458: ConvergenceWarning: lbfgs failed to converge (status=1):\n",
            "STOP: TOTAL NO. of ITERATIONS REACHED LIMIT.\n",
            "\n",
            "Increase the number of iterations (max_iter) or scale the data as shown in:\n",
            "    https://scikit-learn.org/stable/modules/preprocessing.html\n",
            "Please also refer to the documentation for alternative solver options:\n",
            "    https://scikit-learn.org/stable/modules/linear_model.html#logistic-regression\n",
            "  n_iter_i = _check_optimize_result(\n",
            "/usr/local/lib/python3.10/dist-packages/sklearn/metrics/_classification.py:1344: UndefinedMetricWarning: Precision is ill-defined and being set to 0.0 in labels with no predicted samples. Use `zero_division` parameter to control this behavior.\n",
            "  _warn_prf(average, modifier, msg_start, len(result))\n",
            "/usr/local/lib/python3.10/dist-packages/sklearn/metrics/_classification.py:1344: UndefinedMetricWarning: Precision is ill-defined and being set to 0.0 in labels with no predicted samples. Use `zero_division` parameter to control this behavior.\n",
            "  _warn_prf(average, modifier, msg_start, len(result))\n"
          ]
        },
        {
          "output_type": "stream",
          "name": "stdout",
          "text": [
            "Accuracy:  0.7795881826320501\n",
            "Precision:  0.7735235661076314\n",
            "Recall:  0.7795881826320501\n",
            "F1_score:  0.7739708525274843\n",
            "****************************************************************************\n"
          ]
        },
        {
          "output_type": "stream",
          "name": "stderr",
          "text": [
            "/usr/local/lib/python3.10/dist-packages/sklearn/linear_model/_logistic.py:458: ConvergenceWarning: lbfgs failed to converge (status=1):\n",
            "STOP: TOTAL NO. of ITERATIONS REACHED LIMIT.\n",
            "\n",
            "Increase the number of iterations (max_iter) or scale the data as shown in:\n",
            "    https://scikit-learn.org/stable/modules/preprocessing.html\n",
            "Please also refer to the documentation for alternative solver options:\n",
            "    https://scikit-learn.org/stable/modules/linear_model.html#logistic-regression\n",
            "  n_iter_i = _check_optimize_result(\n",
            "/usr/local/lib/python3.10/dist-packages/sklearn/metrics/_classification.py:1344: UndefinedMetricWarning: Precision is ill-defined and being set to 0.0 in labels with no predicted samples. Use `zero_division` parameter to control this behavior.\n",
            "  _warn_prf(average, modifier, msg_start, len(result))\n",
            "/usr/local/lib/python3.10/dist-packages/sklearn/metrics/_classification.py:1344: UndefinedMetricWarning: Precision is ill-defined and being set to 0.0 in labels with no predicted samples. Use `zero_division` parameter to control this behavior.\n",
            "  _warn_prf(average, modifier, msg_start, len(result))\n"
          ]
        },
        {
          "output_type": "stream",
          "name": "stdout",
          "text": [
            "Accuracy:  0.7743957027752909\n",
            "Precision:  0.7694241132257168\n",
            "Recall:  0.7743957027752909\n",
            "F1_score:  0.7698163445101295\n",
            "****************************************************************************\n"
          ]
        },
        {
          "output_type": "stream",
          "name": "stderr",
          "text": [
            "/usr/local/lib/python3.10/dist-packages/sklearn/linear_model/_logistic.py:458: ConvergenceWarning: lbfgs failed to converge (status=1):\n",
            "STOP: TOTAL NO. of ITERATIONS REACHED LIMIT.\n",
            "\n",
            "Increase the number of iterations (max_iter) or scale the data as shown in:\n",
            "    https://scikit-learn.org/stable/modules/preprocessing.html\n",
            "Please also refer to the documentation for alternative solver options:\n",
            "    https://scikit-learn.org/stable/modules/linear_model.html#logistic-regression\n",
            "  n_iter_i = _check_optimize_result(\n",
            "/usr/local/lib/python3.10/dist-packages/sklearn/metrics/_classification.py:1344: UndefinedMetricWarning: Precision is ill-defined and being set to 0.0 in labels with no predicted samples. Use `zero_division` parameter to control this behavior.\n",
            "  _warn_prf(average, modifier, msg_start, len(result))\n",
            "/usr/local/lib/python3.10/dist-packages/sklearn/metrics/_classification.py:1344: UndefinedMetricWarning: Precision is ill-defined and being set to 0.0 in labels with no predicted samples. Use `zero_division` parameter to control this behavior.\n",
            "  _warn_prf(average, modifier, msg_start, len(result))\n"
          ]
        },
        {
          "output_type": "stream",
          "name": "stdout",
          "text": [
            "Accuracy:  0.767591763652641\n",
            "Precision:  0.7610933997497189\n",
            "Recall:  0.767591763652641\n",
            "F1_score:  0.7625384914371823\n",
            "****************************************************************************\n"
          ]
        },
        {
          "output_type": "stream",
          "name": "stderr",
          "text": [
            "/usr/local/lib/python3.10/dist-packages/sklearn/linear_model/_logistic.py:458: ConvergenceWarning: lbfgs failed to converge (status=1):\n",
            "STOP: TOTAL NO. of ITERATIONS REACHED LIMIT.\n",
            "\n",
            "Increase the number of iterations (max_iter) or scale the data as shown in:\n",
            "    https://scikit-learn.org/stable/modules/preprocessing.html\n",
            "Please also refer to the documentation for alternative solver options:\n",
            "    https://scikit-learn.org/stable/modules/linear_model.html#logistic-regression\n",
            "  n_iter_i = _check_optimize_result(\n",
            "/usr/local/lib/python3.10/dist-packages/sklearn/metrics/_classification.py:1344: UndefinedMetricWarning: Precision is ill-defined and being set to 0.0 in labels with no predicted samples. Use `zero_division` parameter to control this behavior.\n",
            "  _warn_prf(average, modifier, msg_start, len(result))\n",
            "/usr/local/lib/python3.10/dist-packages/sklearn/metrics/_classification.py:1344: UndefinedMetricWarning: Precision is ill-defined and being set to 0.0 in labels with no predicted samples. Use `zero_division` parameter to control this behavior.\n",
            "  _warn_prf(average, modifier, msg_start, len(result))\n"
          ]
        },
        {
          "output_type": "stream",
          "name": "stdout",
          "text": [
            "Accuracy:  0.7724261414503133\n",
            "Precision:  0.7665104327305073\n",
            "Recall:  0.7724261414503133\n",
            "F1_score:  0.7681142236746383\n",
            "****************************************************************************\n"
          ]
        },
        {
          "output_type": "stream",
          "name": "stderr",
          "text": [
            "/usr/local/lib/python3.10/dist-packages/sklearn/linear_model/_logistic.py:458: ConvergenceWarning: lbfgs failed to converge (status=1):\n",
            "STOP: TOTAL NO. of ITERATIONS REACHED LIMIT.\n",
            "\n",
            "Increase the number of iterations (max_iter) or scale the data as shown in:\n",
            "    https://scikit-learn.org/stable/modules/preprocessing.html\n",
            "Please also refer to the documentation for alternative solver options:\n",
            "    https://scikit-learn.org/stable/modules/linear_model.html#logistic-regression\n",
            "  n_iter_i = _check_optimize_result(\n",
            "/usr/local/lib/python3.10/dist-packages/sklearn/metrics/_classification.py:1344: UndefinedMetricWarning: Precision is ill-defined and being set to 0.0 in labels with no predicted samples. Use `zero_division` parameter to control this behavior.\n",
            "  _warn_prf(average, modifier, msg_start, len(result))\n",
            "/usr/local/lib/python3.10/dist-packages/sklearn/metrics/_classification.py:1344: UndefinedMetricWarning: Precision is ill-defined and being set to 0.0 in labels with no predicted samples. Use `zero_division` parameter to control this behavior.\n",
            "  _warn_prf(average, modifier, msg_start, len(result))\n"
          ]
        },
        {
          "output_type": "stream",
          "name": "stdout",
          "text": [
            "Accuracy:  0.7686660698299015\n",
            "Precision:  0.7621922965279683\n",
            "Recall:  0.7686660698299015\n",
            "F1_score:  0.7630496560172751\n",
            "****************************************************************************\n"
          ]
        },
        {
          "output_type": "stream",
          "name": "stderr",
          "text": [
            "/usr/local/lib/python3.10/dist-packages/sklearn/linear_model/_logistic.py:458: ConvergenceWarning: lbfgs failed to converge (status=1):\n",
            "STOP: TOTAL NO. of ITERATIONS REACHED LIMIT.\n",
            "\n",
            "Increase the number of iterations (max_iter) or scale the data as shown in:\n",
            "    https://scikit-learn.org/stable/modules/preprocessing.html\n",
            "Please also refer to the documentation for alternative solver options:\n",
            "    https://scikit-learn.org/stable/modules/linear_model.html#logistic-regression\n",
            "  n_iter_i = _check_optimize_result(\n",
            "/usr/local/lib/python3.10/dist-packages/sklearn/metrics/_classification.py:1344: UndefinedMetricWarning: Precision is ill-defined and being set to 0.0 in labels with no predicted samples. Use `zero_division` parameter to control this behavior.\n",
            "  _warn_prf(average, modifier, msg_start, len(result))\n",
            "/usr/local/lib/python3.10/dist-packages/sklearn/metrics/_classification.py:1344: UndefinedMetricWarning: Precision is ill-defined and being set to 0.0 in labels with no predicted samples. Use `zero_division` parameter to control this behavior.\n",
            "  _warn_prf(average, modifier, msg_start, len(result))\n"
          ]
        },
        {
          "output_type": "stream",
          "name": "stdout",
          "text": [
            "Accuracy:  0.7715308863025963\n",
            "Precision:  0.7646136421400527\n",
            "Recall:  0.7715308863025963\n",
            "F1_score:  0.7660344968696192\n",
            "****************************************************************************\n"
          ]
        },
        {
          "output_type": "stream",
          "name": "stderr",
          "text": [
            "/usr/local/lib/python3.10/dist-packages/sklearn/linear_model/_logistic.py:458: ConvergenceWarning: lbfgs failed to converge (status=1):\n",
            "STOP: TOTAL NO. of ITERATIONS REACHED LIMIT.\n",
            "\n",
            "Increase the number of iterations (max_iter) or scale the data as shown in:\n",
            "    https://scikit-learn.org/stable/modules/preprocessing.html\n",
            "Please also refer to the documentation for alternative solver options:\n",
            "    https://scikit-learn.org/stable/modules/linear_model.html#logistic-regression\n",
            "  n_iter_i = _check_optimize_result(\n",
            "/usr/local/lib/python3.10/dist-packages/sklearn/metrics/_classification.py:1344: UndefinedMetricWarning: Precision is ill-defined and being set to 0.0 in labels with no predicted samples. Use `zero_division` parameter to control this behavior.\n",
            "  _warn_prf(average, modifier, msg_start, len(result))\n",
            "/usr/local/lib/python3.10/dist-packages/sklearn/metrics/_classification.py:1344: UndefinedMetricWarning: Precision is ill-defined and being set to 0.0 in labels with no predicted samples. Use `zero_division` parameter to control this behavior.\n",
            "  _warn_prf(average, modifier, msg_start, len(result))\n"
          ]
        },
        {
          "output_type": "stream",
          "name": "stdout",
          "text": [
            "Accuracy:  0.7767233661593554\n",
            "Precision:  0.7688447527158735\n",
            "Recall:  0.7767233661593554\n",
            "F1_score:  0.7712633578444957\n",
            "****************************************************************************\n"
          ]
        },
        {
          "output_type": "stream",
          "name": "stderr",
          "text": [
            "/usr/local/lib/python3.10/dist-packages/sklearn/linear_model/_logistic.py:458: ConvergenceWarning: lbfgs failed to converge (status=1):\n",
            "STOP: TOTAL NO. of ITERATIONS REACHED LIMIT.\n",
            "\n",
            "Increase the number of iterations (max_iter) or scale the data as shown in:\n",
            "    https://scikit-learn.org/stable/modules/preprocessing.html\n",
            "Please also refer to the documentation for alternative solver options:\n",
            "    https://scikit-learn.org/stable/modules/linear_model.html#logistic-regression\n",
            "  n_iter_i = _check_optimize_result(\n",
            "/usr/local/lib/python3.10/dist-packages/sklearn/metrics/_classification.py:1344: UndefinedMetricWarning: Precision is ill-defined and being set to 0.0 in labels with no predicted samples. Use `zero_division` parameter to control this behavior.\n",
            "  _warn_prf(average, modifier, msg_start, len(result))\n",
            "/usr/local/lib/python3.10/dist-packages/sklearn/metrics/_classification.py:1344: UndefinedMetricWarning: Precision is ill-defined and being set to 0.0 in labels with no predicted samples. Use `zero_division` parameter to control this behavior.\n",
            "  _warn_prf(average, modifier, msg_start, len(result))\n"
          ]
        },
        {
          "output_type": "stream",
          "name": "stdout",
          "text": [
            "Accuracy:  0.7752909579230081\n",
            "Precision:  0.7691233409691877\n",
            "Recall:  0.7752909579230081\n",
            "F1_score:  0.7700679347177782\n",
            "****************************************************************************\n"
          ]
        },
        {
          "output_type": "stream",
          "name": "stderr",
          "text": [
            "/usr/local/lib/python3.10/dist-packages/sklearn/linear_model/_logistic.py:458: ConvergenceWarning: lbfgs failed to converge (status=1):\n",
            "STOP: TOTAL NO. of ITERATIONS REACHED LIMIT.\n",
            "\n",
            "Increase the number of iterations (max_iter) or scale the data as shown in:\n",
            "    https://scikit-learn.org/stable/modules/preprocessing.html\n",
            "Please also refer to the documentation for alternative solver options:\n",
            "    https://scikit-learn.org/stable/modules/linear_model.html#logistic-regression\n",
            "  n_iter_i = _check_optimize_result(\n",
            "/usr/local/lib/python3.10/dist-packages/sklearn/metrics/_classification.py:1344: UndefinedMetricWarning: Precision is ill-defined and being set to 0.0 in labels with no predicted samples. Use `zero_division` parameter to control this behavior.\n",
            "  _warn_prf(average, modifier, msg_start, len(result))\n",
            "/usr/local/lib/python3.10/dist-packages/sklearn/metrics/_classification.py:1344: UndefinedMetricWarning: Precision is ill-defined and being set to 0.0 in labels with no predicted samples. Use `zero_division` parameter to control this behavior.\n",
            "  _warn_prf(average, modifier, msg_start, len(result))\n"
          ]
        },
        {
          "output_type": "stream",
          "name": "stdout",
          "text": [
            "Accuracy:  0.7774395702775291\n",
            "Precision:  0.7716130865618449\n",
            "Recall:  0.7774395702775291\n",
            "F1_score:  0.7724211458230745\n",
            "****************************************************************************\n"
          ]
        },
        {
          "output_type": "stream",
          "name": "stderr",
          "text": [
            "/usr/local/lib/python3.10/dist-packages/sklearn/linear_model/_logistic.py:458: ConvergenceWarning: lbfgs failed to converge (status=1):\n",
            "STOP: TOTAL NO. of ITERATIONS REACHED LIMIT.\n",
            "\n",
            "Increase the number of iterations (max_iter) or scale the data as shown in:\n",
            "    https://scikit-learn.org/stable/modules/preprocessing.html\n",
            "Please also refer to the documentation for alternative solver options:\n",
            "    https://scikit-learn.org/stable/modules/linear_model.html#logistic-regression\n",
            "  n_iter_i = _check_optimize_result(\n",
            "/usr/local/lib/python3.10/dist-packages/sklearn/metrics/_classification.py:1344: UndefinedMetricWarning: Precision is ill-defined and being set to 0.0 in labels with no predicted samples. Use `zero_division` parameter to control this behavior.\n",
            "  _warn_prf(average, modifier, msg_start, len(result))\n",
            "/usr/local/lib/python3.10/dist-packages/sklearn/metrics/_classification.py:1344: UndefinedMetricWarning: Precision is ill-defined and being set to 0.0 in labels with no predicted samples. Use `zero_division` parameter to control this behavior.\n",
            "  _warn_prf(average, modifier, msg_start, len(result))\n"
          ]
        },
        {
          "output_type": "stream",
          "name": "stdout",
          "text": [
            "Accuracy:  0.7611459265890779\n",
            "Precision:  0.7546354495041183\n",
            "Recall:  0.7611459265890779\n",
            "F1_score:  0.7546205099069335\n",
            "****************************************************************************\n"
          ]
        },
        {
          "output_type": "stream",
          "name": "stderr",
          "text": [
            "/usr/local/lib/python3.10/dist-packages/sklearn/linear_model/_logistic.py:458: ConvergenceWarning: lbfgs failed to converge (status=1):\n",
            "STOP: TOTAL NO. of ITERATIONS REACHED LIMIT.\n",
            "\n",
            "Increase the number of iterations (max_iter) or scale the data as shown in:\n",
            "    https://scikit-learn.org/stable/modules/preprocessing.html\n",
            "Please also refer to the documentation for alternative solver options:\n",
            "    https://scikit-learn.org/stable/modules/linear_model.html#logistic-regression\n",
            "  n_iter_i = _check_optimize_result(\n",
            "/usr/local/lib/python3.10/dist-packages/sklearn/metrics/_classification.py:1344: UndefinedMetricWarning: Precision is ill-defined and being set to 0.0 in labels with no predicted samples. Use `zero_division` parameter to control this behavior.\n",
            "  _warn_prf(average, modifier, msg_start, len(result))\n",
            "/usr/local/lib/python3.10/dist-packages/sklearn/metrics/_classification.py:1344: UndefinedMetricWarning: Precision is ill-defined and being set to 0.0 in labels with no predicted samples. Use `zero_division` parameter to control this behavior.\n",
            "  _warn_prf(average, modifier, msg_start, len(result))\n"
          ]
        },
        {
          "output_type": "stream",
          "name": "stdout",
          "text": [
            "Accuracy:  0.7722470904207699\n",
            "Precision:  0.7656586035218131\n",
            "Recall:  0.7722470904207699\n",
            "F1_score:  0.7670067238504689\n",
            "****************************************************************************\n"
          ]
        },
        {
          "output_type": "stream",
          "name": "stderr",
          "text": [
            "/usr/local/lib/python3.10/dist-packages/sklearn/linear_model/_logistic.py:458: ConvergenceWarning: lbfgs failed to converge (status=1):\n",
            "STOP: TOTAL NO. of ITERATIONS REACHED LIMIT.\n",
            "\n",
            "Increase the number of iterations (max_iter) or scale the data as shown in:\n",
            "    https://scikit-learn.org/stable/modules/preprocessing.html\n",
            "Please also refer to the documentation for alternative solver options:\n",
            "    https://scikit-learn.org/stable/modules/linear_model.html#logistic-regression\n",
            "  n_iter_i = _check_optimize_result(\n",
            "/usr/local/lib/python3.10/dist-packages/sklearn/metrics/_classification.py:1344: UndefinedMetricWarning: Precision is ill-defined and being set to 0.0 in labels with no predicted samples. Use `zero_division` parameter to control this behavior.\n",
            "  _warn_prf(average, modifier, msg_start, len(result))\n",
            "/usr/local/lib/python3.10/dist-packages/sklearn/metrics/_classification.py:1344: UndefinedMetricWarning: Precision is ill-defined and being set to 0.0 in labels with no predicted samples. Use `zero_division` parameter to control this behavior.\n",
            "  _warn_prf(average, modifier, msg_start, len(result))\n"
          ]
        },
        {
          "output_type": "stream",
          "name": "stdout",
          "text": [
            "Accuracy:  0.7658012533572068\n",
            "Precision:  0.7591820634840218\n",
            "Recall:  0.7658012533572068\n",
            "F1_score:  0.7601247313874682\n",
            "****************************************************************************\n"
          ]
        },
        {
          "output_type": "stream",
          "name": "stderr",
          "text": [
            "/usr/local/lib/python3.10/dist-packages/sklearn/linear_model/_logistic.py:458: ConvergenceWarning: lbfgs failed to converge (status=1):\n",
            "STOP: TOTAL NO. of ITERATIONS REACHED LIMIT.\n",
            "\n",
            "Increase the number of iterations (max_iter) or scale the data as shown in:\n",
            "    https://scikit-learn.org/stable/modules/preprocessing.html\n",
            "Please also refer to the documentation for alternative solver options:\n",
            "    https://scikit-learn.org/stable/modules/linear_model.html#logistic-regression\n",
            "  n_iter_i = _check_optimize_result(\n",
            "/usr/local/lib/python3.10/dist-packages/sklearn/metrics/_classification.py:1344: UndefinedMetricWarning: Precision is ill-defined and being set to 0.0 in labels with no predicted samples. Use `zero_division` parameter to control this behavior.\n",
            "  _warn_prf(average, modifier, msg_start, len(result))\n",
            "/usr/local/lib/python3.10/dist-packages/sklearn/metrics/_classification.py:1344: UndefinedMetricWarning: Precision is ill-defined and being set to 0.0 in labels with no predicted samples. Use `zero_division` parameter to control this behavior.\n",
            "  _warn_prf(average, modifier, msg_start, len(result))\n"
          ]
        },
        {
          "output_type": "stream",
          "name": "stdout",
          "text": [
            "Accuracy:  0.7742166517457475\n",
            "Precision:  0.7679473692401176\n",
            "Recall:  0.7742166517457475\n",
            "F1_score:  0.7701686660426721\n",
            "****************************************************************************\n"
          ]
        },
        {
          "output_type": "stream",
          "name": "stderr",
          "text": [
            "/usr/local/lib/python3.10/dist-packages/sklearn/linear_model/_logistic.py:458: ConvergenceWarning: lbfgs failed to converge (status=1):\n",
            "STOP: TOTAL NO. of ITERATIONS REACHED LIMIT.\n",
            "\n",
            "Increase the number of iterations (max_iter) or scale the data as shown in:\n",
            "    https://scikit-learn.org/stable/modules/preprocessing.html\n",
            "Please also refer to the documentation for alternative solver options:\n",
            "    https://scikit-learn.org/stable/modules/linear_model.html#logistic-regression\n",
            "  n_iter_i = _check_optimize_result(\n",
            "/usr/local/lib/python3.10/dist-packages/sklearn/metrics/_classification.py:1344: UndefinedMetricWarning: Precision is ill-defined and being set to 0.0 in labels with no predicted samples. Use `zero_division` parameter to control this behavior.\n",
            "  _warn_prf(average, modifier, msg_start, len(result))\n",
            "/usr/local/lib/python3.10/dist-packages/sklearn/metrics/_classification.py:1344: UndefinedMetricWarning: Precision is ill-defined and being set to 0.0 in labels with no predicted samples. Use `zero_division` parameter to control this behavior.\n",
            "  _warn_prf(average, modifier, msg_start, len(result))\n"
          ]
        },
        {
          "output_type": "stream",
          "name": "stdout",
          "text": [
            "Accuracy:  0.7543419874664279\n",
            "Precision:  0.7491740357936059\n",
            "Recall:  0.7543419874664279\n",
            "F1_score:  0.7424914709599091\n",
            "****************************************************************************\n"
          ]
        },
        {
          "output_type": "stream",
          "name": "stderr",
          "text": [
            "/usr/local/lib/python3.10/dist-packages/sklearn/linear_model/_logistic.py:458: ConvergenceWarning: lbfgs failed to converge (status=1):\n",
            "STOP: TOTAL NO. of ITERATIONS REACHED LIMIT.\n",
            "\n",
            "Increase the number of iterations (max_iter) or scale the data as shown in:\n",
            "    https://scikit-learn.org/stable/modules/preprocessing.html\n",
            "Please also refer to the documentation for alternative solver options:\n",
            "    https://scikit-learn.org/stable/modules/linear_model.html#logistic-regression\n",
            "  n_iter_i = _check_optimize_result(\n",
            "/usr/local/lib/python3.10/dist-packages/sklearn/metrics/_classification.py:1344: UndefinedMetricWarning: Precision is ill-defined and being set to 0.0 in labels with no predicted samples. Use `zero_division` parameter to control this behavior.\n",
            "  _warn_prf(average, modifier, msg_start, len(result))\n",
            "/usr/local/lib/python3.10/dist-packages/sklearn/metrics/_classification.py:1344: UndefinedMetricWarning: Precision is ill-defined and being set to 0.0 in labels with no predicted samples. Use `zero_division` parameter to control this behavior.\n",
            "  _warn_prf(average, modifier, msg_start, len(result))\n"
          ]
        },
        {
          "output_type": "stream",
          "name": "stdout",
          "text": [
            "Accuracy:  0.7745747538048344\n",
            "Precision:  0.7687571995618288\n",
            "Recall:  0.7745747538048344\n",
            "F1_score:  0.7680989625600823\n",
            "****************************************************************************\n"
          ]
        },
        {
          "output_type": "stream",
          "name": "stderr",
          "text": [
            "/usr/local/lib/python3.10/dist-packages/sklearn/linear_model/_logistic.py:458: ConvergenceWarning: lbfgs failed to converge (status=1):\n",
            "STOP: TOTAL NO. of ITERATIONS REACHED LIMIT.\n",
            "\n",
            "Increase the number of iterations (max_iter) or scale the data as shown in:\n",
            "    https://scikit-learn.org/stable/modules/preprocessing.html\n",
            "Please also refer to the documentation for alternative solver options:\n",
            "    https://scikit-learn.org/stable/modules/linear_model.html#logistic-regression\n",
            "  n_iter_i = _check_optimize_result(\n",
            "/usr/local/lib/python3.10/dist-packages/sklearn/metrics/_classification.py:1344: UndefinedMetricWarning: Precision is ill-defined and being set to 0.0 in labels with no predicted samples. Use `zero_division` parameter to control this behavior.\n",
            "  _warn_prf(average, modifier, msg_start, len(result))\n",
            "/usr/local/lib/python3.10/dist-packages/sklearn/metrics/_classification.py:1344: UndefinedMetricWarning: Precision is ill-defined and being set to 0.0 in labels with no predicted samples. Use `zero_division` parameter to control this behavior.\n",
            "  _warn_prf(average, modifier, msg_start, len(result))\n"
          ]
        },
        {
          "output_type": "stream",
          "name": "stdout",
          "text": [
            "Accuracy:  0.7840644583706357\n",
            "Precision:  0.7806754261086818\n",
            "Recall:  0.7840644583706357\n",
            "F1_score:  0.7822882495792128\n",
            "****************************************************************************\n"
          ]
        },
        {
          "output_type": "stream",
          "name": "stderr",
          "text": [
            "/usr/local/lib/python3.10/dist-packages/sklearn/linear_model/_logistic.py:458: ConvergenceWarning: lbfgs failed to converge (status=1):\n",
            "STOP: TOTAL NO. of ITERATIONS REACHED LIMIT.\n",
            "\n",
            "Increase the number of iterations (max_iter) or scale the data as shown in:\n",
            "    https://scikit-learn.org/stable/modules/preprocessing.html\n",
            "Please also refer to the documentation for alternative solver options:\n",
            "    https://scikit-learn.org/stable/modules/linear_model.html#logistic-regression\n",
            "  n_iter_i = _check_optimize_result(\n",
            "/usr/local/lib/python3.10/dist-packages/sklearn/metrics/_classification.py:1344: UndefinedMetricWarning: Precision is ill-defined and being set to 0.0 in labels with no predicted samples. Use `zero_division` parameter to control this behavior.\n",
            "  _warn_prf(average, modifier, msg_start, len(result))\n",
            "/usr/local/lib/python3.10/dist-packages/sklearn/metrics/_classification.py:1344: UndefinedMetricWarning: Precision is ill-defined and being set to 0.0 in labels with no predicted samples. Use `zero_division` parameter to control this behavior.\n",
            "  _warn_prf(average, modifier, msg_start, len(result))\n"
          ]
        },
        {
          "output_type": "stream",
          "name": "stdout",
          "text": [
            "Accuracy:  0.7806624888093107\n",
            "Precision:  0.7756711037941598\n",
            "Recall:  0.7806624888093107\n",
            "F1_score:  0.7771654083878582\n",
            "****************************************************************************\n"
          ]
        },
        {
          "output_type": "stream",
          "name": "stderr",
          "text": [
            "/usr/local/lib/python3.10/dist-packages/sklearn/linear_model/_logistic.py:458: ConvergenceWarning: lbfgs failed to converge (status=1):\n",
            "STOP: TOTAL NO. of ITERATIONS REACHED LIMIT.\n",
            "\n",
            "Increase the number of iterations (max_iter) or scale the data as shown in:\n",
            "    https://scikit-learn.org/stable/modules/preprocessing.html\n",
            "Please also refer to the documentation for alternative solver options:\n",
            "    https://scikit-learn.org/stable/modules/linear_model.html#logistic-regression\n",
            "  n_iter_i = _check_optimize_result(\n",
            "/usr/local/lib/python3.10/dist-packages/sklearn/metrics/_classification.py:1344: UndefinedMetricWarning: Precision is ill-defined and being set to 0.0 in labels with no predicted samples. Use `zero_division` parameter to control this behavior.\n",
            "  _warn_prf(average, modifier, msg_start, len(result))\n",
            "/usr/local/lib/python3.10/dist-packages/sklearn/metrics/_classification.py:1344: UndefinedMetricWarning: Precision is ill-defined and being set to 0.0 in labels with no predicted samples. Use `zero_division` parameter to control this behavior.\n",
            "  _warn_prf(average, modifier, msg_start, len(result))\n"
          ]
        },
        {
          "output_type": "stream",
          "name": "stdout",
          "text": [
            "Accuracy:  0.7661593554162937\n",
            "Precision:  0.7599270735047177\n",
            "Recall:  0.7661593554162937\n",
            "F1_score:  0.7590667051916883\n",
            "****************************************************************************\n"
          ]
        },
        {
          "output_type": "stream",
          "name": "stderr",
          "text": [
            "/usr/local/lib/python3.10/dist-packages/sklearn/linear_model/_logistic.py:458: ConvergenceWarning: lbfgs failed to converge (status=1):\n",
            "STOP: TOTAL NO. of ITERATIONS REACHED LIMIT.\n",
            "\n",
            "Increase the number of iterations (max_iter) or scale the data as shown in:\n",
            "    https://scikit-learn.org/stable/modules/preprocessing.html\n",
            "Please also refer to the documentation for alternative solver options:\n",
            "    https://scikit-learn.org/stable/modules/linear_model.html#logistic-regression\n",
            "  n_iter_i = _check_optimize_result(\n",
            "/usr/local/lib/python3.10/dist-packages/sklearn/metrics/_classification.py:1344: UndefinedMetricWarning: Precision is ill-defined and being set to 0.0 in labels with no predicted samples. Use `zero_division` parameter to control this behavior.\n",
            "  _warn_prf(average, modifier, msg_start, len(result))\n",
            "/usr/local/lib/python3.10/dist-packages/sklearn/metrics/_classification.py:1344: UndefinedMetricWarning: Precision is ill-defined and being set to 0.0 in labels with no predicted samples. Use `zero_division` parameter to control this behavior.\n",
            "  _warn_prf(average, modifier, msg_start, len(result))\n"
          ]
        },
        {
          "output_type": "stream",
          "name": "stdout",
          "text": [
            "Accuracy:  0.7717099373321397\n",
            "Precision:  0.7645858827740138\n",
            "Recall:  0.7717099373321397\n",
            "F1_score:  0.7650038172119371\n",
            "****************************************************************************\n"
          ]
        },
        {
          "output_type": "stream",
          "name": "stderr",
          "text": [
            "/usr/local/lib/python3.10/dist-packages/sklearn/linear_model/_logistic.py:458: ConvergenceWarning: lbfgs failed to converge (status=1):\n",
            "STOP: TOTAL NO. of ITERATIONS REACHED LIMIT.\n",
            "\n",
            "Increase the number of iterations (max_iter) or scale the data as shown in:\n",
            "    https://scikit-learn.org/stable/modules/preprocessing.html\n",
            "Please also refer to the documentation for alternative solver options:\n",
            "    https://scikit-learn.org/stable/modules/linear_model.html#logistic-regression\n",
            "  n_iter_i = _check_optimize_result(\n",
            "/usr/local/lib/python3.10/dist-packages/sklearn/metrics/_classification.py:1344: UndefinedMetricWarning: Precision is ill-defined and being set to 0.0 in labels with no predicted samples. Use `zero_division` parameter to control this behavior.\n",
            "  _warn_prf(average, modifier, msg_start, len(result))\n",
            "/usr/local/lib/python3.10/dist-packages/sklearn/metrics/_classification.py:1344: UndefinedMetricWarning: Precision is ill-defined and being set to 0.0 in labels with no predicted samples. Use `zero_division` parameter to control this behavior.\n",
            "  _warn_prf(average, modifier, msg_start, len(result))\n"
          ]
        },
        {
          "output_type": "stream",
          "name": "stdout",
          "text": [
            "Accuracy:  0.7672336615935542\n",
            "Precision:  0.7615298706063898\n",
            "Recall:  0.7672336615935542\n",
            "F1_score:  0.7618039964173725\n",
            "****************************************************************************\n"
          ]
        },
        {
          "output_type": "stream",
          "name": "stderr",
          "text": [
            "/usr/local/lib/python3.10/dist-packages/sklearn/linear_model/_logistic.py:458: ConvergenceWarning: lbfgs failed to converge (status=1):\n",
            "STOP: TOTAL NO. of ITERATIONS REACHED LIMIT.\n",
            "\n",
            "Increase the number of iterations (max_iter) or scale the data as shown in:\n",
            "    https://scikit-learn.org/stable/modules/preprocessing.html\n",
            "Please also refer to the documentation for alternative solver options:\n",
            "    https://scikit-learn.org/stable/modules/linear_model.html#logistic-regression\n",
            "  n_iter_i = _check_optimize_result(\n",
            "/usr/local/lib/python3.10/dist-packages/sklearn/metrics/_classification.py:1344: UndefinedMetricWarning: Precision is ill-defined and being set to 0.0 in labels with no predicted samples. Use `zero_division` parameter to control this behavior.\n",
            "  _warn_prf(average, modifier, msg_start, len(result))\n",
            "/usr/local/lib/python3.10/dist-packages/sklearn/metrics/_classification.py:1344: UndefinedMetricWarning: Precision is ill-defined and being set to 0.0 in labels with no predicted samples. Use `zero_division` parameter to control this behavior.\n",
            "  _warn_prf(average, modifier, msg_start, len(result))\n"
          ]
        },
        {
          "output_type": "stream",
          "name": "stdout",
          "text": [
            "Accuracy:  0.7670546105640107\n",
            "Precision:  0.7592433857706666\n",
            "Recall:  0.7670546105640107\n",
            "F1_score:  0.7604056710686808\n",
            "****************************************************************************\n"
          ]
        },
        {
          "output_type": "stream",
          "name": "stderr",
          "text": [
            "/usr/local/lib/python3.10/dist-packages/sklearn/linear_model/_logistic.py:458: ConvergenceWarning: lbfgs failed to converge (status=1):\n",
            "STOP: TOTAL NO. of ITERATIONS REACHED LIMIT.\n",
            "\n",
            "Increase the number of iterations (max_iter) or scale the data as shown in:\n",
            "    https://scikit-learn.org/stable/modules/preprocessing.html\n",
            "Please also refer to the documentation for alternative solver options:\n",
            "    https://scikit-learn.org/stable/modules/linear_model.html#logistic-regression\n",
            "  n_iter_i = _check_optimize_result(\n",
            "/usr/local/lib/python3.10/dist-packages/sklearn/metrics/_classification.py:1344: UndefinedMetricWarning: Precision is ill-defined and being set to 0.0 in labels with no predicted samples. Use `zero_division` parameter to control this behavior.\n",
            "  _warn_prf(average, modifier, msg_start, len(result))\n",
            "/usr/local/lib/python3.10/dist-packages/sklearn/metrics/_classification.py:1344: UndefinedMetricWarning: Precision is ill-defined and being set to 0.0 in labels with no predicted samples. Use `zero_division` parameter to control this behavior.\n",
            "  _warn_prf(average, modifier, msg_start, len(result))\n"
          ]
        },
        {
          "output_type": "stream",
          "name": "stdout",
          "text": [
            "Accuracy:  0.7751119068934647\n",
            "Precision:  0.7701549426961999\n",
            "Recall:  0.7751119068934647\n",
            "F1_score:  0.7697286326849426\n",
            "****************************************************************************\n"
          ]
        },
        {
          "output_type": "stream",
          "name": "stderr",
          "text": [
            "/usr/local/lib/python3.10/dist-packages/sklearn/linear_model/_logistic.py:458: ConvergenceWarning: lbfgs failed to converge (status=1):\n",
            "STOP: TOTAL NO. of ITERATIONS REACHED LIMIT.\n",
            "\n",
            "Increase the number of iterations (max_iter) or scale the data as shown in:\n",
            "    https://scikit-learn.org/stable/modules/preprocessing.html\n",
            "Please also refer to the documentation for alternative solver options:\n",
            "    https://scikit-learn.org/stable/modules/linear_model.html#logistic-regression\n",
            "  n_iter_i = _check_optimize_result(\n",
            "/usr/local/lib/python3.10/dist-packages/sklearn/metrics/_classification.py:1344: UndefinedMetricWarning: Precision is ill-defined and being set to 0.0 in labels with no predicted samples. Use `zero_division` parameter to control this behavior.\n",
            "  _warn_prf(average, modifier, msg_start, len(result))\n",
            "/usr/local/lib/python3.10/dist-packages/sklearn/metrics/_classification.py:1344: UndefinedMetricWarning: Precision is ill-defined and being set to 0.0 in labels with no predicted samples. Use `zero_division` parameter to control this behavior.\n",
            "  _warn_prf(average, modifier, msg_start, len(result))\n"
          ]
        },
        {
          "output_type": "stream",
          "name": "stdout",
          "text": [
            "Accuracy:  0.7738585496866607\n",
            "Precision:  0.7671734837898183\n",
            "Recall:  0.7738585496866607\n",
            "F1_score:  0.7676065927539085\n",
            "****************************************************************************\n"
          ]
        },
        {
          "output_type": "stream",
          "name": "stderr",
          "text": [
            "/usr/local/lib/python3.10/dist-packages/sklearn/linear_model/_logistic.py:458: ConvergenceWarning: lbfgs failed to converge (status=1):\n",
            "STOP: TOTAL NO. of ITERATIONS REACHED LIMIT.\n",
            "\n",
            "Increase the number of iterations (max_iter) or scale the data as shown in:\n",
            "    https://scikit-learn.org/stable/modules/preprocessing.html\n",
            "Please also refer to the documentation for alternative solver options:\n",
            "    https://scikit-learn.org/stable/modules/linear_model.html#logistic-regression\n",
            "  n_iter_i = _check_optimize_result(\n",
            "/usr/local/lib/python3.10/dist-packages/sklearn/metrics/_classification.py:1344: UndefinedMetricWarning: Precision is ill-defined and being set to 0.0 in labels with no predicted samples. Use `zero_division` parameter to control this behavior.\n",
            "  _warn_prf(average, modifier, msg_start, len(result))\n",
            "/usr/local/lib/python3.10/dist-packages/sklearn/metrics/_classification.py:1344: UndefinedMetricWarning: Precision is ill-defined and being set to 0.0 in labels with no predicted samples. Use `zero_division` parameter to control this behavior.\n",
            "  _warn_prf(average, modifier, msg_start, len(result))\n"
          ]
        },
        {
          "output_type": "stream",
          "name": "stdout",
          "text": [
            "Accuracy:  0.762041181736795\n",
            "Precision:  0.7563904296256012\n",
            "Recall:  0.762041181736795\n",
            "F1_score:  0.7539267948720711\n",
            "****************************************************************************\n",
            "Accuracy:  0.7858549686660699\n",
            "Precision:  0.7781577185439972\n",
            "Recall:  0.7858549686660699\n",
            "F1_score:  0.7806242153505972\n",
            "****************************************************************************\n",
            "=========================================================\n",
            "Average Accuracy: 0.7713876454789614\n",
            "Average Recall: 0.7713876454789614\n",
            "Average Precision: 0.7652209645351378\n",
            "Average F1-Score: 0.7655849866355758\n"
          ]
        },
        {
          "output_type": "stream",
          "name": "stderr",
          "text": [
            "/usr/local/lib/python3.10/dist-packages/sklearn/linear_model/_logistic.py:458: ConvergenceWarning: lbfgs failed to converge (status=1):\n",
            "STOP: TOTAL NO. of ITERATIONS REACHED LIMIT.\n",
            "\n",
            "Increase the number of iterations (max_iter) or scale the data as shown in:\n",
            "    https://scikit-learn.org/stable/modules/preprocessing.html\n",
            "Please also refer to the documentation for alternative solver options:\n",
            "    https://scikit-learn.org/stable/modules/linear_model.html#logistic-regression\n",
            "  n_iter_i = _check_optimize_result(\n",
            "/usr/local/lib/python3.10/dist-packages/sklearn/metrics/_classification.py:1344: UndefinedMetricWarning: Precision is ill-defined and being set to 0.0 in labels with no predicted samples. Use `zero_division` parameter to control this behavior.\n",
            "  _warn_prf(average, modifier, msg_start, len(result))\n",
            "/usr/local/lib/python3.10/dist-packages/sklearn/metrics/_classification.py:1344: UndefinedMetricWarning: Precision is ill-defined and being set to 0.0 in labels with no predicted samples. Use `zero_division` parameter to control this behavior.\n",
            "  _warn_prf(average, modifier, msg_start, len(result))\n"
          ]
        }
      ]
    },
    {
      "cell_type": "code",
      "source": [
        "data = [Lr_accurecyy, Lr_recalll, Lr_precisionn,Lr_f1_scoree]\n",
        "plt.boxplot(data,labels = ['Accuracy','Recall','Precision','F1-measure'])\n",
        "plt.show()"
      ],
      "metadata": {
        "colab": {
          "base_uri": "https://localhost:8080/",
          "height": 430
        },
        "id": "mgl2mA6QVui8",
        "outputId": "de026825-6ae5-41af-da6c-0d939656d352"
      },
      "execution_count": 79,
      "outputs": [
        {
          "output_type": "display_data",
          "data": {
            "text/plain": [
              "<Figure size 640x480 with 1 Axes>"
            ],
            "image/png": "[encoded data removed]"
          },
          "metadata": {}
        }
      ]
    },
    {
      "cell_type": "code",
      "source": [
        "bar_acc = [np.mean(knn1_accurecy),np.mean(dt1_accuracy),np.mean(Lr_accurecyy)]\n",
        "bar_pre = [np.mean(knn1_precision),np.mean(dt1_precision),np.mean(Lr_precisionn)]\n",
        "bar_rec = [np.mean(knn1_recall),np.mean(dt1_recall),np.mean(Lr_recalll)]\n",
        "bar_f1 =  [np.mean(knn1_f1_score),np.mean(dt1_f1_score),np.mean(Lr_f1_scoree)]"
      ],
      "metadata": {
        "id": "uL3vOBtlntaR"
      },
      "execution_count": 80,
      "outputs": []
    },
    {
      "cell_type": "code",
      "source": [
        "Approaches = [\"KNN\",'DT',\"Lr\"]\n",
        "X_axis = np.arange(len(Approaches ))\n",
        "\n",
        "plt.bar(X_axis + 0.15, bar_acc, color ='skyblue', width = 0.20, edgecolor = 'black', label = 'accuracy')\n",
        "plt.bar(X_axis + 0.30, bar_pre, color ='salmon', width = 0.20, edgecolor = 'black', label = 'precision')\n",
        "plt.bar(X_axis + 0.45, bar_rec, color ='lightgreen', width = 0.20, edgecolor = 'black', label = 'Recall')\n",
        "plt.bar(X_axis + 0.60, bar_f1, color ='orange', width = 0.20, edgecolor = 'black', label = 'F measure')\n",
        "\n",
        "\n",
        "plt.xticks(X_axis+0.25, Approaches)\n",
        "plt.legend(bbox_to_anchor=(1, 1))\n",
        "\n",
        "plt.xlabel(\"Approaches\")\n",
        "plt.ylabel(\"Percentages\")\n",
        "plt.title(\"Summary of Results\")\n",
        "plt.show()"
      ],
      "metadata": {
        "colab": {
          "base_uri": "https://localhost:8080/",
          "height": 472
        },
        "id": "rwp9XFnzoVDB",
        "outputId": "678190b3-edaf-44ea-fcc9-d79a5f93c9b1"
      },
      "execution_count": 81,
      "outputs": [
        {
          "output_type": "display_data",
          "data": {
            "text/plain": [
              "<Figure size 640x480 with 1 Axes>"
            ],
            "image/png": "[encoded data removed]"
          },
          "metadata": {}
        }
      ]
    },
    {
      "cell_type": "code",
      "source": [],
      "metadata": {
        "id": "imECuPx3oqxH"
      },
      "execution_count": null,
      "outputs": []
    }
  ]
}